{
 "cells": [
  {
   "cell_type": "markdown",
   "metadata": {},
   "source": [
    "# Modelo de regresión simple\n",
    "\n",
    "Se aplicará un modelo de regresión lineal a un conjunto de datos que provienen de un experimento del área de física moderna. Este experimento se realizó para verificar la veracidad de la ley de *Steffan-Boltzman*, cuya ecuación está basada en que todo cupero emite radiación en forma de energía electromagnética; la potencia total radiada por un cuerpo es proporcional a su área $A$, también depende de la naturaleza de la superficie que irradia y de su temperatura absoluta $T$ (en kelvin). La ecuación dada por la ley de Stefan – Boltzmann está dada por:\n",
    "\n",
    "$$\n",
    "P(T)=Ae\\sigma T^{4},\n",
    "$$\n",
    "\n",
    "donde $\\sigma \\approx 5.670373\\times 10^{-8}\\frac{W}{m^{2}K^{4}}$ es la constante de Stefan-Boltzmann y $e$, un número adimensional que puede variar entre 0 y 1, es la emisividad la cual caracteriza las propiedades de emisión de una superficie y depende del material. \n",
    "\n",
    "Sin embargo, para nuestros propósitos no nos interesa adentrarnos a la parte física del experimento, sino a la parte estadística. Se empleará un modelo de regresión lineal simple empleando el escalamiento logarítmico para describir el comportamiento de esta muestra experimental. Por otro lado, cabe mencionar ciertas características del equipo experimental, el área $A$ usada en este caso es un poco mayor al área unitaria de tal forma que el producto $Ae$ se espera mayor a $1$; por otro lado, la prescisión del voltímetro usado es del orden de $[mW]$, implicando que el coeficiente $Ae\\sigma$ sea del orden de $10^{-11}$.\n",
    "\n",
    "Para entender mejor la metodología empleada, se describirá teóricamente la regresión lineal simple, así como otras herramientas para verificar la exactitud de nuestro modelo a través de las simulaciones, además de las estadísitcas descriptivas."
   ]
  },
  {
   "cell_type": "markdown",
   "metadata": {},
   "source": [
    "A lo largo de este notebook se mostrará el código y metodología usada para la exploración, análisis y transformación del dataset, así como la construcción del modelo.\n",
    "\n",
    "\n",
    "### Instalación de modulos\n",
    "\n",
    "Se instalrán los modulos que no tenga por defecto el ambiente donde se ejecute el código puesto que este código se podrá ejecutar en distintos ambientes virtuales."
   ]
  },
  {
   "cell_type": "code",
   "execution_count": 25,
   "metadata": {},
   "outputs": [
    {
     "name": "stdout",
     "output_type": "stream",
     "text": [
      "Requirement already satisfied: plotly in /home/usuario/anaconda3/lib/python3.8/site-packages (5.3.1)\n",
      "Requirement already satisfied: tenacity>=6.2.0 in /home/usuario/anaconda3/lib/python3.8/site-packages (from plotly) (8.0.1)\n",
      "Requirement already satisfied: six in /home/usuario/anaconda3/lib/python3.8/site-packages (from plotly) (1.15.0)\n"
     ]
    }
   ],
   "source": [
    "!pip install plotly"
   ]
  },
  {
   "cell_type": "code",
   "execution_count": 26,
   "metadata": {},
   "outputs": [
    {
     "name": "stdout",
     "output_type": "stream",
     "text": [
      "Requirement already satisfied: pandas in /home/usuario/anaconda3/lib/python3.8/site-packages (1.2.4)\n",
      "Requirement already satisfied: python-dateutil>=2.7.3 in /home/usuario/anaconda3/lib/python3.8/site-packages (from pandas) (2.8.1)\n",
      "Requirement already satisfied: pytz>=2017.3 in /home/usuario/anaconda3/lib/python3.8/site-packages (from pandas) (2021.1)\n",
      "Requirement already satisfied: numpy>=1.16.5 in /home/usuario/anaconda3/lib/python3.8/site-packages (from pandas) (1.19.5)\n",
      "Requirement already satisfied: six>=1.5 in /home/usuario/anaconda3/lib/python3.8/site-packages (from python-dateutil>=2.7.3->pandas) (1.15.0)\n"
     ]
    }
   ],
   "source": [
    "!pip install pandas"
   ]
  },
  {
   "cell_type": "code",
   "execution_count": 27,
   "metadata": {},
   "outputs": [
    {
     "name": "stdout",
     "output_type": "stream",
     "text": [
      "Requirement already satisfied: matplotlib in /home/usuario/anaconda3/lib/python3.8/site-packages (3.3.4)\n",
      "Requirement already satisfied: pyparsing!=2.0.4,!=2.1.2,!=2.1.6,>=2.0.3 in /home/usuario/anaconda3/lib/python3.8/site-packages (from matplotlib) (2.4.7)\n",
      "Requirement already satisfied: kiwisolver>=1.0.1 in /home/usuario/anaconda3/lib/python3.8/site-packages (from matplotlib) (1.3.1)\n",
      "Requirement already satisfied: numpy>=1.15 in /home/usuario/anaconda3/lib/python3.8/site-packages (from matplotlib) (1.19.5)\n",
      "Requirement already satisfied: python-dateutil>=2.1 in /home/usuario/anaconda3/lib/python3.8/site-packages (from matplotlib) (2.8.1)\n",
      "Requirement already satisfied: pillow>=6.2.0 in /home/usuario/anaconda3/lib/python3.8/site-packages (from matplotlib) (8.2.0)\n",
      "Requirement already satisfied: cycler>=0.10 in /home/usuario/anaconda3/lib/python3.8/site-packages (from matplotlib) (0.10.0)\n",
      "Requirement already satisfied: six in /home/usuario/anaconda3/lib/python3.8/site-packages (from cycler>=0.10->matplotlib) (1.15.0)\n"
     ]
    }
   ],
   "source": [
    "!pip install matplotlib"
   ]
  },
  {
   "cell_type": "code",
   "execution_count": 28,
   "metadata": {},
   "outputs": [
    {
     "name": "stdout",
     "output_type": "stream",
     "text": [
      "Requirement already satisfied: sklearn in /home/usuario/anaconda3/lib/python3.8/site-packages (0.0)\n",
      "Requirement already satisfied: scikit-learn in /home/usuario/anaconda3/lib/python3.8/site-packages (from sklearn) (0.24.1)\n",
      "Requirement already satisfied: scipy>=0.19.1 in /home/usuario/anaconda3/lib/python3.8/site-packages (from scikit-learn->sklearn) (1.6.2)\n",
      "Requirement already satisfied: numpy>=1.13.3 in /home/usuario/anaconda3/lib/python3.8/site-packages (from scikit-learn->sklearn) (1.19.5)\n",
      "Requirement already satisfied: joblib>=0.11 in /home/usuario/anaconda3/lib/python3.8/site-packages (from scikit-learn->sklearn) (1.0.1)\n",
      "Requirement already satisfied: threadpoolctl>=2.0.0 in /home/usuario/anaconda3/lib/python3.8/site-packages (from scikit-learn->sklearn) (2.1.0)\n"
     ]
    }
   ],
   "source": [
    "!pip install sklearn"
   ]
  },
  {
   "cell_type": "markdown",
   "metadata": {},
   "source": [
    "### Importando módulos\n",
    "\n",
    "Para empezar la exploración del dataset se importarán solo los módulos necesarios para el proyecto."
   ]
  },
  {
   "cell_type": "code",
   "execution_count": 71,
   "metadata": {},
   "outputs": [
    {
     "name": "stdout",
     "output_type": "stream",
     "text": [
      "Modulos importados\n"
     ]
    }
   ],
   "source": [
    "import pandas as pd\n",
    "import numpy as np\n",
    "import math\n",
    "import plotly.express as px\n",
    "import matplotlib.pyplot as plt \n",
    "import plotly.graph_objects as go\n",
    "import plotly\n",
    "import re\n",
    "print('Modulos importados')"
   ]
  },
  {
   "cell_type": "markdown",
   "metadata": {},
   "source": [
    "### Dataset loading\n",
    "Carguemos el dataset:"
   ]
  },
  {
   "cell_type": "code",
   "execution_count": 72,
   "metadata": {},
   "outputs": [],
   "source": [
    "dataset_url = 'datos_esta.csv'\n",
    "df = pd.read_csv(dataset_url)"
   ]
  },
  {
   "cell_type": "markdown",
   "metadata": {},
   "source": [
    "### Exploración del dataset\n",
    "\n",
    "Veamos los datos que contiene el dataset:"
   ]
  },
  {
   "cell_type": "code",
   "execution_count": 73,
   "metadata": {},
   "outputs": [
    {
     "data": {
      "text/html": [
       "<div>\n",
       "<style scoped>\n",
       "    .dataframe tbody tr th:only-of-type {\n",
       "        vertical-align: middle;\n",
       "    }\n",
       "\n",
       "    .dataframe tbody tr th {\n",
       "        vertical-align: top;\n",
       "    }\n",
       "\n",
       "    .dataframe thead th {\n",
       "        text-align: right;\n",
       "    }\n",
       "</style>\n",
       "<table border=\"1\" class=\"dataframe\">\n",
       "  <thead>\n",
       "    <tr style=\"text-align: right;\">\n",
       "      <th></th>\n",
       "      <th>Temperatura_C</th>\n",
       "      <th>Temperatura_K</th>\n",
       "      <th>Fem_mV</th>\n",
       "    </tr>\n",
       "  </thead>\n",
       "  <tbody>\n",
       "    <tr>\n",
       "      <th>0</th>\n",
       "      <td>169</td>\n",
       "      <td>442</td>\n",
       "      <td>2.149</td>\n",
       "    </tr>\n",
       "    <tr>\n",
       "      <th>1</th>\n",
       "      <td>170</td>\n",
       "      <td>443</td>\n",
       "      <td>2.170</td>\n",
       "    </tr>\n",
       "    <tr>\n",
       "      <th>2</th>\n",
       "      <td>171</td>\n",
       "      <td>444</td>\n",
       "      <td>2.193</td>\n",
       "    </tr>\n",
       "    <tr>\n",
       "      <th>3</th>\n",
       "      <td>172</td>\n",
       "      <td>445</td>\n",
       "      <td>2.214</td>\n",
       "    </tr>\n",
       "    <tr>\n",
       "      <th>4</th>\n",
       "      <td>173</td>\n",
       "      <td>446</td>\n",
       "      <td>2.238</td>\n",
       "    </tr>\n",
       "  </tbody>\n",
       "</table>\n",
       "</div>"
      ],
      "text/plain": [
       "   Temperatura_C  Temperatura_K  Fem_mV\n",
       "0            169            442   2.149\n",
       "1            170            443   2.170\n",
       "2            171            444   2.193\n",
       "3            172            445   2.214\n",
       "4            173            446   2.238"
      ]
     },
     "execution_count": 73,
     "metadata": {},
     "output_type": "execute_result"
    }
   ],
   "source": [
    "df.head()"
   ]
  },
  {
   "cell_type": "code",
   "execution_count": 74,
   "metadata": {},
   "outputs": [
    {
     "data": {
      "text/html": [
       "<div>\n",
       "<style scoped>\n",
       "    .dataframe tbody tr th:only-of-type {\n",
       "        vertical-align: middle;\n",
       "    }\n",
       "\n",
       "    .dataframe tbody tr th {\n",
       "        vertical-align: top;\n",
       "    }\n",
       "\n",
       "    .dataframe thead th {\n",
       "        text-align: right;\n",
       "    }\n",
       "</style>\n",
       "<table border=\"1\" class=\"dataframe\">\n",
       "  <thead>\n",
       "    <tr style=\"text-align: right;\">\n",
       "      <th></th>\n",
       "      <th>Temperatura_C</th>\n",
       "      <th>Temperatura_K</th>\n",
       "      <th>Fem_mV</th>\n",
       "    </tr>\n",
       "  </thead>\n",
       "  <tbody>\n",
       "    <tr>\n",
       "      <th>204</th>\n",
       "      <td>391</td>\n",
       "      <td>664</td>\n",
       "      <td>11.135</td>\n",
       "    </tr>\n",
       "    <tr>\n",
       "      <th>205</th>\n",
       "      <td>392</td>\n",
       "      <td>665</td>\n",
       "      <td>11.206</td>\n",
       "    </tr>\n",
       "    <tr>\n",
       "      <th>206</th>\n",
       "      <td>393</td>\n",
       "      <td>666</td>\n",
       "      <td>11.257</td>\n",
       "    </tr>\n",
       "    <tr>\n",
       "      <th>207</th>\n",
       "      <td>394</td>\n",
       "      <td>667</td>\n",
       "      <td>11.321</td>\n",
       "    </tr>\n",
       "    <tr>\n",
       "      <th>208</th>\n",
       "      <td>395</td>\n",
       "      <td>668</td>\n",
       "      <td>11.383</td>\n",
       "    </tr>\n",
       "  </tbody>\n",
       "</table>\n",
       "</div>"
      ],
      "text/plain": [
       "     Temperatura_C  Temperatura_K  Fem_mV\n",
       "204            391            664  11.135\n",
       "205            392            665  11.206\n",
       "206            393            666  11.257\n",
       "207            394            667  11.321\n",
       "208            395            668  11.383"
      ]
     },
     "execution_count": 74,
     "metadata": {},
     "output_type": "execute_result"
    }
   ],
   "source": [
    "df.tail()"
   ]
  },
  {
   "cell_type": "code",
   "execution_count": 75,
   "metadata": {},
   "outputs": [
    {
     "data": {
      "text/plain": [
       "(209, 3)"
      ]
     },
     "execution_count": 75,
     "metadata": {},
     "output_type": "execute_result"
    }
   ],
   "source": [
    "df.shape"
   ]
  },
  {
   "cell_type": "code",
   "execution_count": 76,
   "metadata": {},
   "outputs": [
    {
     "data": {
      "text/html": [
       "<div>\n",
       "<style scoped>\n",
       "    .dataframe tbody tr th:only-of-type {\n",
       "        vertical-align: middle;\n",
       "    }\n",
       "\n",
       "    .dataframe tbody tr th {\n",
       "        vertical-align: top;\n",
       "    }\n",
       "\n",
       "    .dataframe thead th {\n",
       "        text-align: right;\n",
       "    }\n",
       "</style>\n",
       "<table border=\"1\" class=\"dataframe\">\n",
       "  <thead>\n",
       "    <tr style=\"text-align: right;\">\n",
       "      <th></th>\n",
       "      <th>Temperatura_C</th>\n",
       "      <th>Temperatura_K</th>\n",
       "      <th>Fem_mV</th>\n",
       "    </tr>\n",
       "  </thead>\n",
       "  <tbody>\n",
       "    <tr>\n",
       "      <th>count</th>\n",
       "      <td>209.000000</td>\n",
       "      <td>209.000000</td>\n",
       "      <td>209.000000</td>\n",
       "    </tr>\n",
       "    <tr>\n",
       "      <th>mean</th>\n",
       "      <td>279.846890</td>\n",
       "      <td>552.846890</td>\n",
       "      <td>5.960096</td>\n",
       "    </tr>\n",
       "    <tr>\n",
       "      <th>std</th>\n",
       "      <td>65.555434</td>\n",
       "      <td>65.555434</td>\n",
       "      <td>2.679898</td>\n",
       "    </tr>\n",
       "    <tr>\n",
       "      <th>min</th>\n",
       "      <td>169.000000</td>\n",
       "      <td>442.000000</td>\n",
       "      <td>2.149000</td>\n",
       "    </tr>\n",
       "    <tr>\n",
       "      <th>25%</th>\n",
       "      <td>224.000000</td>\n",
       "      <td>497.000000</td>\n",
       "      <td>3.607000</td>\n",
       "    </tr>\n",
       "    <tr>\n",
       "      <th>50%</th>\n",
       "      <td>279.000000</td>\n",
       "      <td>552.000000</td>\n",
       "      <td>5.573000</td>\n",
       "    </tr>\n",
       "    <tr>\n",
       "      <th>75%</th>\n",
       "      <td>336.000000</td>\n",
       "      <td>609.000000</td>\n",
       "      <td>8.119000</td>\n",
       "    </tr>\n",
       "    <tr>\n",
       "      <th>max</th>\n",
       "      <td>395.000000</td>\n",
       "      <td>668.000000</td>\n",
       "      <td>11.383000</td>\n",
       "    </tr>\n",
       "  </tbody>\n",
       "</table>\n",
       "</div>"
      ],
      "text/plain": [
       "       Temperatura_C  Temperatura_K      Fem_mV\n",
       "count     209.000000     209.000000  209.000000\n",
       "mean      279.846890     552.846890    5.960096\n",
       "std        65.555434      65.555434    2.679898\n",
       "min       169.000000     442.000000    2.149000\n",
       "25%       224.000000     497.000000    3.607000\n",
       "50%       279.000000     552.000000    5.573000\n",
       "75%       336.000000     609.000000    8.119000\n",
       "max       395.000000     668.000000   11.383000"
      ]
     },
     "execution_count": 76,
     "metadata": {},
     "output_type": "execute_result"
    }
   ],
   "source": [
    "df.describe()"
   ]
  },
  {
   "cell_type": "markdown",
   "metadata": {},
   "source": [
    "### Visualizaciones\n",
    "Con el propósito de entender mejor el comportamiento de los datos, grafiquemos las relaciones de nuestro interés."
   ]
  },
  {
   "cell_type": "code",
   "execution_count": 35,
   "metadata": {},
   "outputs": [
    {
     "name": "stdout",
     "output_type": "stream",
     "text": [
      "['Temperatura_C', 'Temperatura_K', 'Fem_mV']\n"
     ]
    }
   ],
   "source": [
    "column_names = list(df.columns)\n",
    "print(column_names)"
   ]
  },
  {
   "cell_type": "code",
   "execution_count": 36,
   "metadata": {},
   "outputs": [
    {
     "data": {
      "application/vnd.plotly.v1+json": {
       "config": {
        "plotlyServerURL": "https://plot.ly"
       },
       "data": [
        {
         "marker": {
          "color": [
           169,
           170,
           171,
           172,
           173,
           174,
           175,
           176,
           177,
           178,
           179,
           180,
           181,
           182,
           183,
           184,
           185,
           186,
           188,
           189,
           190,
           191,
           192,
           193,
           195,
           196,
           197,
           198,
           199,
           200,
           201,
           202,
           203,
           204,
           205,
           207,
           208,
           209,
           210,
           211,
           212,
           213,
           214,
           215,
           216,
           217,
           218,
           219,
           220,
           221,
           222,
           223,
           224,
           225,
           226,
           227,
           228,
           229,
           230,
           231,
           232,
           233,
           234,
           235,
           236,
           237,
           238,
           239,
           240,
           241,
           242,
           243,
           244,
           245,
           246,
           247,
           248,
           249,
           250,
           251,
           252,
           253,
           254,
           255,
           257,
           258,
           259,
           260,
           261,
           262,
           263,
           264,
           265,
           267,
           268,
           269,
           270,
           271,
           272,
           273,
           274,
           276,
           277,
           278,
           279,
           280,
           281,
           282,
           283,
           284,
           285,
           286,
           287,
           288,
           289,
           290,
           291,
           292,
           293,
           294,
           295,
           296,
           298,
           299,
           300,
           301,
           302,
           303,
           304,
           305,
           307,
           308,
           309,
           310,
           311,
           312,
           313,
           314,
           315,
           316,
           317,
           318,
           319,
           320,
           321,
           322,
           323,
           324,
           325,
           327,
           328,
           329,
           330,
           331,
           332,
           335,
           336,
           337,
           339,
           340,
           341,
           342,
           343,
           344,
           345,
           346,
           348,
           349,
           350,
           351,
           352,
           353,
           354,
           355,
           356,
           357,
           358,
           359,
           360,
           361,
           362,
           364,
           366,
           367,
           368,
           369,
           370,
           371,
           372,
           374,
           375,
           376,
           378,
           379,
           380,
           381,
           382,
           384,
           385,
           386,
           387,
           388,
           389,
           390,
           391,
           392,
           393,
           394,
           395
          ],
          "showscale": true,
          "size": 10
         },
         "mode": "markers",
         "text": [
          169,
          170,
          171,
          172,
          173,
          174,
          175,
          176,
          177,
          178,
          179,
          180,
          181,
          182,
          183,
          184,
          185,
          186,
          188,
          189,
          190,
          191,
          192,
          193,
          195,
          196,
          197,
          198,
          199,
          200,
          201,
          202,
          203,
          204,
          205,
          207,
          208,
          209,
          210,
          211,
          212,
          213,
          214,
          215,
          216,
          217,
          218,
          219,
          220,
          221,
          222,
          223,
          224,
          225,
          226,
          227,
          228,
          229,
          230,
          231,
          232,
          233,
          234,
          235,
          236,
          237,
          238,
          239,
          240,
          241,
          242,
          243,
          244,
          245,
          246,
          247,
          248,
          249,
          250,
          251,
          252,
          253,
          254,
          255,
          257,
          258,
          259,
          260,
          261,
          262,
          263,
          264,
          265,
          267,
          268,
          269,
          270,
          271,
          272,
          273,
          274,
          276,
          277,
          278,
          279,
          280,
          281,
          282,
          283,
          284,
          285,
          286,
          287,
          288,
          289,
          290,
          291,
          292,
          293,
          294,
          295,
          296,
          298,
          299,
          300,
          301,
          302,
          303,
          304,
          305,
          307,
          308,
          309,
          310,
          311,
          312,
          313,
          314,
          315,
          316,
          317,
          318,
          319,
          320,
          321,
          322,
          323,
          324,
          325,
          327,
          328,
          329,
          330,
          331,
          332,
          335,
          336,
          337,
          339,
          340,
          341,
          342,
          343,
          344,
          345,
          346,
          348,
          349,
          350,
          351,
          352,
          353,
          354,
          355,
          356,
          357,
          358,
          359,
          360,
          361,
          362,
          364,
          366,
          367,
          368,
          369,
          370,
          371,
          372,
          374,
          375,
          376,
          378,
          379,
          380,
          381,
          382,
          384,
          385,
          386,
          387,
          388,
          389,
          390,
          391,
          392,
          393,
          394,
          395
         ],
         "type": "scatter",
         "x": [
          169,
          170,
          171,
          172,
          173,
          174,
          175,
          176,
          177,
          178,
          179,
          180,
          181,
          182,
          183,
          184,
          185,
          186,
          188,
          189,
          190,
          191,
          192,
          193,
          195,
          196,
          197,
          198,
          199,
          200,
          201,
          202,
          203,
          204,
          205,
          207,
          208,
          209,
          210,
          211,
          212,
          213,
          214,
          215,
          216,
          217,
          218,
          219,
          220,
          221,
          222,
          223,
          224,
          225,
          226,
          227,
          228,
          229,
          230,
          231,
          232,
          233,
          234,
          235,
          236,
          237,
          238,
          239,
          240,
          241,
          242,
          243,
          244,
          245,
          246,
          247,
          248,
          249,
          250,
          251,
          252,
          253,
          254,
          255,
          257,
          258,
          259,
          260,
          261,
          262,
          263,
          264,
          265,
          267,
          268,
          269,
          270,
          271,
          272,
          273,
          274,
          276,
          277,
          278,
          279,
          280,
          281,
          282,
          283,
          284,
          285,
          286,
          287,
          288,
          289,
          290,
          291,
          292,
          293,
          294,
          295,
          296,
          298,
          299,
          300,
          301,
          302,
          303,
          304,
          305,
          307,
          308,
          309,
          310,
          311,
          312,
          313,
          314,
          315,
          316,
          317,
          318,
          319,
          320,
          321,
          322,
          323,
          324,
          325,
          327,
          328,
          329,
          330,
          331,
          332,
          335,
          336,
          337,
          339,
          340,
          341,
          342,
          343,
          344,
          345,
          346,
          348,
          349,
          350,
          351,
          352,
          353,
          354,
          355,
          356,
          357,
          358,
          359,
          360,
          361,
          362,
          364,
          366,
          367,
          368,
          369,
          370,
          371,
          372,
          374,
          375,
          376,
          378,
          379,
          380,
          381,
          382,
          384,
          385,
          386,
          387,
          388,
          389,
          390,
          391,
          392,
          393,
          394,
          395
         ],
         "y": [
          2.149,
          2.17,
          2.193,
          2.214,
          2.238,
          2.26,
          2.285,
          2.309,
          2.331,
          2.353,
          2.378,
          2.404,
          2.431,
          2.456,
          2.475,
          2.501,
          2.526,
          2.556,
          2.603,
          2.624,
          2.651,
          2.675,
          2.701,
          2.729,
          2.779,
          2.807,
          2.832,
          2.859,
          2.888,
          2.913,
          2.967,
          2.997,
          3.022,
          3.051,
          3.081,
          3.14,
          3.166,
          3.193,
          3.218,
          3.252,
          3.278,
          3.316,
          3.339,
          3.371,
          3.398,
          3.425,
          3.457,
          3.492,
          3.52,
          3.546,
          3.577,
          3.607,
          3.638,
          3.666,
          3.696,
          3.731,
          3.763,
          3.193,
          3.829,
          3.855,
          3.886,
          3.926,
          3.956,
          3.979,
          4.016,
          4.045,
          4.079,
          4.116,
          4.146,
          4.185,
          4.218,
          4.25,
          4.285,
          4.317,
          4.351,
          4.381,
          4.417,
          4.456,
          4.486,
          4.517,
          4.551,
          4.59,
          4.63,
          4.697,
          4.741,
          4.777,
          4.809,
          4.852,
          4.898,
          4.932,
          4.965,
          4.92,
          5.059,
          5.11,
          5.145,
          5.182,
          5.219,
          5.259,
          5.336,
          5.378,
          5.414,
          5.456,
          5.49,
          5.533,
          5.573,
          5.607,
          5.65,
          5.69,
          5.732,
          5.765,
          5.809,
          5.845,
          5.889,
          5.931,
          5.974,
          6.021,
          6.057,
          6.098,
          6.141,
          6.185,
          6.219,
          6.272,
          6.354,
          6.398,
          6.44,
          6.485,
          6.526,
          6.574,
          6.615,
          6.654,
          6.724,
          6.779,
          6.821,
          6.864,
          6.919,
          6.964,
          7.013,
          7.057,
          7.104,
          7.152,
          7.191,
          7.245,
          7.286,
          7.335,
          7.379,
          7.429,
          7.471,
          7.523,
          7.579,
          7.673,
          7.731,
          7.773,
          7.813,
          7.876,
          8.009,
          8.059,
          8.119,
          8.167,
          8.261,
          8.313,
          8.359,
          8.407,
          8.459,
          8.507,
          8.575,
          8.667,
          8.722,
          8.784,
          8.839,
          8.89,
          8.925,
          8.97,
          9.022,
          9.084,
          9.134,
          9.187,
          9.24,
          9.297,
          9.349,
          9.406,
          9.469,
          9.589,
          9.694,
          9.749,
          9.794,
          9.852,
          9.909,
          9.974,
          10.019,
          10.144,
          10.194,
          10.251,
          10.379,
          10.442,
          10.491,
          10.539,
          10.598,
          10.718,
          10.775,
          10.837,
          10.892,
          10.958,
          11.027,
          11.079,
          11.135,
          11.206,
          11.257,
          11.321,
          11.383
         ]
        }
       ],
       "layout": {
        "autosize": false,
        "height": 800,
        "template": {
         "data": {
          "bar": [
           {
            "error_x": {
             "color": "#2a3f5f"
            },
            "error_y": {
             "color": "#2a3f5f"
            },
            "marker": {
             "line": {
              "color": "#E5ECF6",
              "width": 0.5
             },
             "pattern": {
              "fillmode": "overlay",
              "size": 10,
              "solidity": 0.2
             }
            },
            "type": "bar"
           }
          ],
          "barpolar": [
           {
            "marker": {
             "line": {
              "color": "#E5ECF6",
              "width": 0.5
             },
             "pattern": {
              "fillmode": "overlay",
              "size": 10,
              "solidity": 0.2
             }
            },
            "type": "barpolar"
           }
          ],
          "carpet": [
           {
            "aaxis": {
             "endlinecolor": "#2a3f5f",
             "gridcolor": "white",
             "linecolor": "white",
             "minorgridcolor": "white",
             "startlinecolor": "#2a3f5f"
            },
            "baxis": {
             "endlinecolor": "#2a3f5f",
             "gridcolor": "white",
             "linecolor": "white",
             "minorgridcolor": "white",
             "startlinecolor": "#2a3f5f"
            },
            "type": "carpet"
           }
          ],
          "choropleth": [
           {
            "colorbar": {
             "outlinewidth": 0,
             "ticks": ""
            },
            "type": "choropleth"
           }
          ],
          "contour": [
           {
            "colorbar": {
             "outlinewidth": 0,
             "ticks": ""
            },
            "colorscale": [
             [
              0,
              "#0d0887"
             ],
             [
              0.1111111111111111,
              "#46039f"
             ],
             [
              0.2222222222222222,
              "#7201a8"
             ],
             [
              0.3333333333333333,
              "#9c179e"
             ],
             [
              0.4444444444444444,
              "#bd3786"
             ],
             [
              0.5555555555555556,
              "#d8576b"
             ],
             [
              0.6666666666666666,
              "#ed7953"
             ],
             [
              0.7777777777777778,
              "#fb9f3a"
             ],
             [
              0.8888888888888888,
              "#fdca26"
             ],
             [
              1,
              "#f0f921"
             ]
            ],
            "type": "contour"
           }
          ],
          "contourcarpet": [
           {
            "colorbar": {
             "outlinewidth": 0,
             "ticks": ""
            },
            "type": "contourcarpet"
           }
          ],
          "heatmap": [
           {
            "colorbar": {
             "outlinewidth": 0,
             "ticks": ""
            },
            "colorscale": [
             [
              0,
              "#0d0887"
             ],
             [
              0.1111111111111111,
              "#46039f"
             ],
             [
              0.2222222222222222,
              "#7201a8"
             ],
             [
              0.3333333333333333,
              "#9c179e"
             ],
             [
              0.4444444444444444,
              "#bd3786"
             ],
             [
              0.5555555555555556,
              "#d8576b"
             ],
             [
              0.6666666666666666,
              "#ed7953"
             ],
             [
              0.7777777777777778,
              "#fb9f3a"
             ],
             [
              0.8888888888888888,
              "#fdca26"
             ],
             [
              1,
              "#f0f921"
             ]
            ],
            "type": "heatmap"
           }
          ],
          "heatmapgl": [
           {
            "colorbar": {
             "outlinewidth": 0,
             "ticks": ""
            },
            "colorscale": [
             [
              0,
              "#0d0887"
             ],
             [
              0.1111111111111111,
              "#46039f"
             ],
             [
              0.2222222222222222,
              "#7201a8"
             ],
             [
              0.3333333333333333,
              "#9c179e"
             ],
             [
              0.4444444444444444,
              "#bd3786"
             ],
             [
              0.5555555555555556,
              "#d8576b"
             ],
             [
              0.6666666666666666,
              "#ed7953"
             ],
             [
              0.7777777777777778,
              "#fb9f3a"
             ],
             [
              0.8888888888888888,
              "#fdca26"
             ],
             [
              1,
              "#f0f921"
             ]
            ],
            "type": "heatmapgl"
           }
          ],
          "histogram": [
           {
            "marker": {
             "pattern": {
              "fillmode": "overlay",
              "size": 10,
              "solidity": 0.2
             }
            },
            "type": "histogram"
           }
          ],
          "histogram2d": [
           {
            "colorbar": {
             "outlinewidth": 0,
             "ticks": ""
            },
            "colorscale": [
             [
              0,
              "#0d0887"
             ],
             [
              0.1111111111111111,
              "#46039f"
             ],
             [
              0.2222222222222222,
              "#7201a8"
             ],
             [
              0.3333333333333333,
              "#9c179e"
             ],
             [
              0.4444444444444444,
              "#bd3786"
             ],
             [
              0.5555555555555556,
              "#d8576b"
             ],
             [
              0.6666666666666666,
              "#ed7953"
             ],
             [
              0.7777777777777778,
              "#fb9f3a"
             ],
             [
              0.8888888888888888,
              "#fdca26"
             ],
             [
              1,
              "#f0f921"
             ]
            ],
            "type": "histogram2d"
           }
          ],
          "histogram2dcontour": [
           {
            "colorbar": {
             "outlinewidth": 0,
             "ticks": ""
            },
            "colorscale": [
             [
              0,
              "#0d0887"
             ],
             [
              0.1111111111111111,
              "#46039f"
             ],
             [
              0.2222222222222222,
              "#7201a8"
             ],
             [
              0.3333333333333333,
              "#9c179e"
             ],
             [
              0.4444444444444444,
              "#bd3786"
             ],
             [
              0.5555555555555556,
              "#d8576b"
             ],
             [
              0.6666666666666666,
              "#ed7953"
             ],
             [
              0.7777777777777778,
              "#fb9f3a"
             ],
             [
              0.8888888888888888,
              "#fdca26"
             ],
             [
              1,
              "#f0f921"
             ]
            ],
            "type": "histogram2dcontour"
           }
          ],
          "mesh3d": [
           {
            "colorbar": {
             "outlinewidth": 0,
             "ticks": ""
            },
            "type": "mesh3d"
           }
          ],
          "parcoords": [
           {
            "line": {
             "colorbar": {
              "outlinewidth": 0,
              "ticks": ""
             }
            },
            "type": "parcoords"
           }
          ],
          "pie": [
           {
            "automargin": true,
            "type": "pie"
           }
          ],
          "scatter": [
           {
            "marker": {
             "colorbar": {
              "outlinewidth": 0,
              "ticks": ""
             }
            },
            "type": "scatter"
           }
          ],
          "scatter3d": [
           {
            "line": {
             "colorbar": {
              "outlinewidth": 0,
              "ticks": ""
             }
            },
            "marker": {
             "colorbar": {
              "outlinewidth": 0,
              "ticks": ""
             }
            },
            "type": "scatter3d"
           }
          ],
          "scattercarpet": [
           {
            "marker": {
             "colorbar": {
              "outlinewidth": 0,
              "ticks": ""
             }
            },
            "type": "scattercarpet"
           }
          ],
          "scattergeo": [
           {
            "marker": {
             "colorbar": {
              "outlinewidth": 0,
              "ticks": ""
             }
            },
            "type": "scattergeo"
           }
          ],
          "scattergl": [
           {
            "marker": {
             "colorbar": {
              "outlinewidth": 0,
              "ticks": ""
             }
            },
            "type": "scattergl"
           }
          ],
          "scattermapbox": [
           {
            "marker": {
             "colorbar": {
              "outlinewidth": 0,
              "ticks": ""
             }
            },
            "type": "scattermapbox"
           }
          ],
          "scatterpolar": [
           {
            "marker": {
             "colorbar": {
              "outlinewidth": 0,
              "ticks": ""
             }
            },
            "type": "scatterpolar"
           }
          ],
          "scatterpolargl": [
           {
            "marker": {
             "colorbar": {
              "outlinewidth": 0,
              "ticks": ""
             }
            },
            "type": "scatterpolargl"
           }
          ],
          "scatterternary": [
           {
            "marker": {
             "colorbar": {
              "outlinewidth": 0,
              "ticks": ""
             }
            },
            "type": "scatterternary"
           }
          ],
          "surface": [
           {
            "colorbar": {
             "outlinewidth": 0,
             "ticks": ""
            },
            "colorscale": [
             [
              0,
              "#0d0887"
             ],
             [
              0.1111111111111111,
              "#46039f"
             ],
             [
              0.2222222222222222,
              "#7201a8"
             ],
             [
              0.3333333333333333,
              "#9c179e"
             ],
             [
              0.4444444444444444,
              "#bd3786"
             ],
             [
              0.5555555555555556,
              "#d8576b"
             ],
             [
              0.6666666666666666,
              "#ed7953"
             ],
             [
              0.7777777777777778,
              "#fb9f3a"
             ],
             [
              0.8888888888888888,
              "#fdca26"
             ],
             [
              1,
              "#f0f921"
             ]
            ],
            "type": "surface"
           }
          ],
          "table": [
           {
            "cells": {
             "fill": {
              "color": "#EBF0F8"
             },
             "line": {
              "color": "white"
             }
            },
            "header": {
             "fill": {
              "color": "#C8D4E3"
             },
             "line": {
              "color": "white"
             }
            },
            "type": "table"
           }
          ]
         },
         "layout": {
          "annotationdefaults": {
           "arrowcolor": "#2a3f5f",
           "arrowhead": 0,
           "arrowwidth": 1
          },
          "autotypenumbers": "strict",
          "coloraxis": {
           "colorbar": {
            "outlinewidth": 0,
            "ticks": ""
           }
          },
          "colorscale": {
           "diverging": [
            [
             0,
             "#8e0152"
            ],
            [
             0.1,
             "#c51b7d"
            ],
            [
             0.2,
             "#de77ae"
            ],
            [
             0.3,
             "#f1b6da"
            ],
            [
             0.4,
             "#fde0ef"
            ],
            [
             0.5,
             "#f7f7f7"
            ],
            [
             0.6,
             "#e6f5d0"
            ],
            [
             0.7,
             "#b8e186"
            ],
            [
             0.8,
             "#7fbc41"
            ],
            [
             0.9,
             "#4d9221"
            ],
            [
             1,
             "#276419"
            ]
           ],
           "sequential": [
            [
             0,
             "#0d0887"
            ],
            [
             0.1111111111111111,
             "#46039f"
            ],
            [
             0.2222222222222222,
             "#7201a8"
            ],
            [
             0.3333333333333333,
             "#9c179e"
            ],
            [
             0.4444444444444444,
             "#bd3786"
            ],
            [
             0.5555555555555556,
             "#d8576b"
            ],
            [
             0.6666666666666666,
             "#ed7953"
            ],
            [
             0.7777777777777778,
             "#fb9f3a"
            ],
            [
             0.8888888888888888,
             "#fdca26"
            ],
            [
             1,
             "#f0f921"
            ]
           ],
           "sequentialminus": [
            [
             0,
             "#0d0887"
            ],
            [
             0.1111111111111111,
             "#46039f"
            ],
            [
             0.2222222222222222,
             "#7201a8"
            ],
            [
             0.3333333333333333,
             "#9c179e"
            ],
            [
             0.4444444444444444,
             "#bd3786"
            ],
            [
             0.5555555555555556,
             "#d8576b"
            ],
            [
             0.6666666666666666,
             "#ed7953"
            ],
            [
             0.7777777777777778,
             "#fb9f3a"
            ],
            [
             0.8888888888888888,
             "#fdca26"
            ],
            [
             1,
             "#f0f921"
            ]
           ]
          },
          "colorway": [
           "#636efa",
           "#EF553B",
           "#00cc96",
           "#ab63fa",
           "#FFA15A",
           "#19d3f3",
           "#FF6692",
           "#B6E880",
           "#FF97FF",
           "#FECB52"
          ],
          "font": {
           "color": "#2a3f5f"
          },
          "geo": {
           "bgcolor": "white",
           "lakecolor": "white",
           "landcolor": "#E5ECF6",
           "showlakes": true,
           "showland": true,
           "subunitcolor": "white"
          },
          "hoverlabel": {
           "align": "left"
          },
          "hovermode": "closest",
          "mapbox": {
           "style": "light"
          },
          "paper_bgcolor": "white",
          "plot_bgcolor": "#E5ECF6",
          "polar": {
           "angularaxis": {
            "gridcolor": "white",
            "linecolor": "white",
            "ticks": ""
           },
           "bgcolor": "#E5ECF6",
           "radialaxis": {
            "gridcolor": "white",
            "linecolor": "white",
            "ticks": ""
           }
          },
          "scene": {
           "xaxis": {
            "backgroundcolor": "#E5ECF6",
            "gridcolor": "white",
            "gridwidth": 2,
            "linecolor": "white",
            "showbackground": true,
            "ticks": "",
            "zerolinecolor": "white"
           },
           "yaxis": {
            "backgroundcolor": "#E5ECF6",
            "gridcolor": "white",
            "gridwidth": 2,
            "linecolor": "white",
            "showbackground": true,
            "ticks": "",
            "zerolinecolor": "white"
           },
           "zaxis": {
            "backgroundcolor": "#E5ECF6",
            "gridcolor": "white",
            "gridwidth": 2,
            "linecolor": "white",
            "showbackground": true,
            "ticks": "",
            "zerolinecolor": "white"
           }
          },
          "shapedefaults": {
           "line": {
            "color": "#2a3f5f"
           }
          },
          "ternary": {
           "aaxis": {
            "gridcolor": "white",
            "linecolor": "white",
            "ticks": ""
           },
           "baxis": {
            "gridcolor": "white",
            "linecolor": "white",
            "ticks": ""
           },
           "bgcolor": "#E5ECF6",
           "caxis": {
            "gridcolor": "white",
            "linecolor": "white",
            "ticks": ""
           }
          },
          "title": {
           "x": 0.05
          },
          "xaxis": {
           "automargin": true,
           "gridcolor": "white",
           "linecolor": "white",
           "ticks": "",
           "title": {
            "standoff": 15
           },
           "zerolinecolor": "white",
           "zerolinewidth": 2
          },
          "yaxis": {
           "automargin": true,
           "gridcolor": "white",
           "linecolor": "white",
           "ticks": "",
           "title": {
            "standoff": 15
           },
           "zerolinecolor": "white",
           "zerolinewidth": 2
          }
         }
        },
        "title": {
         "text": "$Fem \\,\\, vs \\,\\, Temperatura$"
        },
        "width": 1150,
        "xaxis": {
         "title": {
          "text": "$Temperatura[C]$"
         }
        },
        "yaxis": {
         "title": {
          "text": "$Fem[mV]$"
         }
        }
       }
      },
      "text/html": [
       "<div>                            <div id=\"400b2cd8-a890-4a78-af9c-4711acbcab60\" class=\"plotly-graph-div\" style=\"height:800px; width:1150px;\"></div>            <script type=\"text/javascript\">                require([\"plotly\"], function(Plotly) {                    window.PLOTLYENV=window.PLOTLYENV || {};                                    if (document.getElementById(\"400b2cd8-a890-4a78-af9c-4711acbcab60\")) {                    Plotly.newPlot(                        \"400b2cd8-a890-4a78-af9c-4711acbcab60\",                        [{\"marker\":{\"color\":[169,170,171,172,173,174,175,176,177,178,179,180,181,182,183,184,185,186,188,189,190,191,192,193,195,196,197,198,199,200,201,202,203,204,205,207,208,209,210,211,212,213,214,215,216,217,218,219,220,221,222,223,224,225,226,227,228,229,230,231,232,233,234,235,236,237,238,239,240,241,242,243,244,245,246,247,248,249,250,251,252,253,254,255,257,258,259,260,261,262,263,264,265,267,268,269,270,271,272,273,274,276,277,278,279,280,281,282,283,284,285,286,287,288,289,290,291,292,293,294,295,296,298,299,300,301,302,303,304,305,307,308,309,310,311,312,313,314,315,316,317,318,319,320,321,322,323,324,325,327,328,329,330,331,332,335,336,337,339,340,341,342,343,344,345,346,348,349,350,351,352,353,354,355,356,357,358,359,360,361,362,364,366,367,368,369,370,371,372,374,375,376,378,379,380,381,382,384,385,386,387,388,389,390,391,392,393,394,395],\"showscale\":true,\"size\":10},\"mode\":\"markers\",\"text\":[169.0,170.0,171.0,172.0,173.0,174.0,175.0,176.0,177.0,178.0,179.0,180.0,181.0,182.0,183.0,184.0,185.0,186.0,188.0,189.0,190.0,191.0,192.0,193.0,195.0,196.0,197.0,198.0,199.0,200.0,201.0,202.0,203.0,204.0,205.0,207.0,208.0,209.0,210.0,211.0,212.0,213.0,214.0,215.0,216.0,217.0,218.0,219.0,220.0,221.0,222.0,223.0,224.0,225.0,226.0,227.0,228.0,229.0,230.0,231.0,232.0,233.0,234.0,235.0,236.0,237.0,238.0,239.0,240.0,241.0,242.0,243.0,244.0,245.0,246.0,247.0,248.0,249.0,250.0,251.0,252.0,253.0,254.0,255.0,257.0,258.0,259.0,260.0,261.0,262.0,263.0,264.0,265.0,267.0,268.0,269.0,270.0,271.0,272.0,273.0,274.0,276.0,277.0,278.0,279.0,280.0,281.0,282.0,283.0,284.0,285.0,286.0,287.0,288.0,289.0,290.0,291.0,292.0,293.0,294.0,295.0,296.0,298.0,299.0,300.0,301.0,302.0,303.0,304.0,305.0,307.0,308.0,309.0,310.0,311.0,312.0,313.0,314.0,315.0,316.0,317.0,318.0,319.0,320.0,321.0,322.0,323.0,324.0,325.0,327.0,328.0,329.0,330.0,331.0,332.0,335.0,336.0,337.0,339.0,340.0,341.0,342.0,343.0,344.0,345.0,346.0,348.0,349.0,350.0,351.0,352.0,353.0,354.0,355.0,356.0,357.0,358.0,359.0,360.0,361.0,362.0,364.0,366.0,367.0,368.0,369.0,370.0,371.0,372.0,374.0,375.0,376.0,378.0,379.0,380.0,381.0,382.0,384.0,385.0,386.0,387.0,388.0,389.0,390.0,391.0,392.0,393.0,394.0,395.0],\"type\":\"scatter\",\"x\":[169,170,171,172,173,174,175,176,177,178,179,180,181,182,183,184,185,186,188,189,190,191,192,193,195,196,197,198,199,200,201,202,203,204,205,207,208,209,210,211,212,213,214,215,216,217,218,219,220,221,222,223,224,225,226,227,228,229,230,231,232,233,234,235,236,237,238,239,240,241,242,243,244,245,246,247,248,249,250,251,252,253,254,255,257,258,259,260,261,262,263,264,265,267,268,269,270,271,272,273,274,276,277,278,279,280,281,282,283,284,285,286,287,288,289,290,291,292,293,294,295,296,298,299,300,301,302,303,304,305,307,308,309,310,311,312,313,314,315,316,317,318,319,320,321,322,323,324,325,327,328,329,330,331,332,335,336,337,339,340,341,342,343,344,345,346,348,349,350,351,352,353,354,355,356,357,358,359,360,361,362,364,366,367,368,369,370,371,372,374,375,376,378,379,380,381,382,384,385,386,387,388,389,390,391,392,393,394,395],\"y\":[2.149,2.17,2.193,2.214,2.238,2.26,2.285,2.309,2.331,2.353,2.378,2.404,2.431,2.456,2.475,2.501,2.526,2.556,2.603,2.624,2.651,2.675,2.701,2.729,2.779,2.807,2.832,2.859,2.888,2.913,2.967,2.997,3.022,3.051,3.081,3.14,3.166,3.193,3.218,3.252,3.278,3.316,3.339,3.371,3.398,3.425,3.457,3.492,3.52,3.546,3.577,3.607,3.638,3.666,3.696,3.731,3.763,3.193,3.829,3.855,3.886,3.926,3.956,3.979,4.016,4.045,4.079,4.116,4.146,4.185,4.218,4.25,4.285,4.317,4.351,4.381,4.417,4.456,4.486,4.517,4.551,4.59,4.63,4.697,4.741,4.777,4.809,4.852,4.898,4.932,4.965,4.92,5.059,5.11,5.145,5.182,5.219,5.259,5.336,5.378,5.414,5.456,5.49,5.533,5.573,5.607,5.65,5.69,5.732,5.765,5.809,5.845,5.889,5.931,5.974,6.021,6.057,6.098,6.141,6.185,6.219,6.272,6.354,6.398,6.44,6.485,6.526,6.574,6.615,6.654,6.724,6.779,6.821,6.864,6.919,6.964,7.013,7.057,7.104,7.152,7.191,7.245,7.286,7.335,7.379,7.429,7.471,7.523,7.579,7.673,7.731,7.773,7.813,7.876,8.009,8.059,8.119,8.167,8.261,8.313,8.359,8.407,8.459,8.507,8.575,8.667,8.722,8.784,8.839,8.89,8.925,8.97,9.022,9.084,9.134,9.187,9.24,9.297,9.349,9.406,9.469,9.589,9.694,9.749,9.794,9.852,9.909,9.974,10.019,10.144,10.194,10.251,10.379,10.442,10.491,10.539,10.598,10.718,10.775,10.837,10.892,10.958,11.027,11.079,11.135,11.206,11.257,11.321,11.383]}],                        {\"autosize\":false,\"height\":800,\"template\":{\"data\":{\"bar\":[{\"error_x\":{\"color\":\"#2a3f5f\"},\"error_y\":{\"color\":\"#2a3f5f\"},\"marker\":{\"line\":{\"color\":\"#E5ECF6\",\"width\":0.5},\"pattern\":{\"fillmode\":\"overlay\",\"size\":10,\"solidity\":0.2}},\"type\":\"bar\"}],\"barpolar\":[{\"marker\":{\"line\":{\"color\":\"#E5ECF6\",\"width\":0.5},\"pattern\":{\"fillmode\":\"overlay\",\"size\":10,\"solidity\":0.2}},\"type\":\"barpolar\"}],\"carpet\":[{\"aaxis\":{\"endlinecolor\":\"#2a3f5f\",\"gridcolor\":\"white\",\"linecolor\":\"white\",\"minorgridcolor\":\"white\",\"startlinecolor\":\"#2a3f5f\"},\"baxis\":{\"endlinecolor\":\"#2a3f5f\",\"gridcolor\":\"white\",\"linecolor\":\"white\",\"minorgridcolor\":\"white\",\"startlinecolor\":\"#2a3f5f\"},\"type\":\"carpet\"}],\"choropleth\":[{\"colorbar\":{\"outlinewidth\":0,\"ticks\":\"\"},\"type\":\"choropleth\"}],\"contour\":[{\"colorbar\":{\"outlinewidth\":0,\"ticks\":\"\"},\"colorscale\":[[0.0,\"#0d0887\"],[0.1111111111111111,\"#46039f\"],[0.2222222222222222,\"#7201a8\"],[0.3333333333333333,\"#9c179e\"],[0.4444444444444444,\"#bd3786\"],[0.5555555555555556,\"#d8576b\"],[0.6666666666666666,\"#ed7953\"],[0.7777777777777778,\"#fb9f3a\"],[0.8888888888888888,\"#fdca26\"],[1.0,\"#f0f921\"]],\"type\":\"contour\"}],\"contourcarpet\":[{\"colorbar\":{\"outlinewidth\":0,\"ticks\":\"\"},\"type\":\"contourcarpet\"}],\"heatmap\":[{\"colorbar\":{\"outlinewidth\":0,\"ticks\":\"\"},\"colorscale\":[[0.0,\"#0d0887\"],[0.1111111111111111,\"#46039f\"],[0.2222222222222222,\"#7201a8\"],[0.3333333333333333,\"#9c179e\"],[0.4444444444444444,\"#bd3786\"],[0.5555555555555556,\"#d8576b\"],[0.6666666666666666,\"#ed7953\"],[0.7777777777777778,\"#fb9f3a\"],[0.8888888888888888,\"#fdca26\"],[1.0,\"#f0f921\"]],\"type\":\"heatmap\"}],\"heatmapgl\":[{\"colorbar\":{\"outlinewidth\":0,\"ticks\":\"\"},\"colorscale\":[[0.0,\"#0d0887\"],[0.1111111111111111,\"#46039f\"],[0.2222222222222222,\"#7201a8\"],[0.3333333333333333,\"#9c179e\"],[0.4444444444444444,\"#bd3786\"],[0.5555555555555556,\"#d8576b\"],[0.6666666666666666,\"#ed7953\"],[0.7777777777777778,\"#fb9f3a\"],[0.8888888888888888,\"#fdca26\"],[1.0,\"#f0f921\"]],\"type\":\"heatmapgl\"}],\"histogram\":[{\"marker\":{\"pattern\":{\"fillmode\":\"overlay\",\"size\":10,\"solidity\":0.2}},\"type\":\"histogram\"}],\"histogram2d\":[{\"colorbar\":{\"outlinewidth\":0,\"ticks\":\"\"},\"colorscale\":[[0.0,\"#0d0887\"],[0.1111111111111111,\"#46039f\"],[0.2222222222222222,\"#7201a8\"],[0.3333333333333333,\"#9c179e\"],[0.4444444444444444,\"#bd3786\"],[0.5555555555555556,\"#d8576b\"],[0.6666666666666666,\"#ed7953\"],[0.7777777777777778,\"#fb9f3a\"],[0.8888888888888888,\"#fdca26\"],[1.0,\"#f0f921\"]],\"type\":\"histogram2d\"}],\"histogram2dcontour\":[{\"colorbar\":{\"outlinewidth\":0,\"ticks\":\"\"},\"colorscale\":[[0.0,\"#0d0887\"],[0.1111111111111111,\"#46039f\"],[0.2222222222222222,\"#7201a8\"],[0.3333333333333333,\"#9c179e\"],[0.4444444444444444,\"#bd3786\"],[0.5555555555555556,\"#d8576b\"],[0.6666666666666666,\"#ed7953\"],[0.7777777777777778,\"#fb9f3a\"],[0.8888888888888888,\"#fdca26\"],[1.0,\"#f0f921\"]],\"type\":\"histogram2dcontour\"}],\"mesh3d\":[{\"colorbar\":{\"outlinewidth\":0,\"ticks\":\"\"},\"type\":\"mesh3d\"}],\"parcoords\":[{\"line\":{\"colorbar\":{\"outlinewidth\":0,\"ticks\":\"\"}},\"type\":\"parcoords\"}],\"pie\":[{\"automargin\":true,\"type\":\"pie\"}],\"scatter\":[{\"marker\":{\"colorbar\":{\"outlinewidth\":0,\"ticks\":\"\"}},\"type\":\"scatter\"}],\"scatter3d\":[{\"line\":{\"colorbar\":{\"outlinewidth\":0,\"ticks\":\"\"}},\"marker\":{\"colorbar\":{\"outlinewidth\":0,\"ticks\":\"\"}},\"type\":\"scatter3d\"}],\"scattercarpet\":[{\"marker\":{\"colorbar\":{\"outlinewidth\":0,\"ticks\":\"\"}},\"type\":\"scattercarpet\"}],\"scattergeo\":[{\"marker\":{\"colorbar\":{\"outlinewidth\":0,\"ticks\":\"\"}},\"type\":\"scattergeo\"}],\"scattergl\":[{\"marker\":{\"colorbar\":{\"outlinewidth\":0,\"ticks\":\"\"}},\"type\":\"scattergl\"}],\"scattermapbox\":[{\"marker\":{\"colorbar\":{\"outlinewidth\":0,\"ticks\":\"\"}},\"type\":\"scattermapbox\"}],\"scatterpolar\":[{\"marker\":{\"colorbar\":{\"outlinewidth\":0,\"ticks\":\"\"}},\"type\":\"scatterpolar\"}],\"scatterpolargl\":[{\"marker\":{\"colorbar\":{\"outlinewidth\":0,\"ticks\":\"\"}},\"type\":\"scatterpolargl\"}],\"scatterternary\":[{\"marker\":{\"colorbar\":{\"outlinewidth\":0,\"ticks\":\"\"}},\"type\":\"scatterternary\"}],\"surface\":[{\"colorbar\":{\"outlinewidth\":0,\"ticks\":\"\"},\"colorscale\":[[0.0,\"#0d0887\"],[0.1111111111111111,\"#46039f\"],[0.2222222222222222,\"#7201a8\"],[0.3333333333333333,\"#9c179e\"],[0.4444444444444444,\"#bd3786\"],[0.5555555555555556,\"#d8576b\"],[0.6666666666666666,\"#ed7953\"],[0.7777777777777778,\"#fb9f3a\"],[0.8888888888888888,\"#fdca26\"],[1.0,\"#f0f921\"]],\"type\":\"surface\"}],\"table\":[{\"cells\":{\"fill\":{\"color\":\"#EBF0F8\"},\"line\":{\"color\":\"white\"}},\"header\":{\"fill\":{\"color\":\"#C8D4E3\"},\"line\":{\"color\":\"white\"}},\"type\":\"table\"}]},\"layout\":{\"annotationdefaults\":{\"arrowcolor\":\"#2a3f5f\",\"arrowhead\":0,\"arrowwidth\":1},\"autotypenumbers\":\"strict\",\"coloraxis\":{\"colorbar\":{\"outlinewidth\":0,\"ticks\":\"\"}},\"colorscale\":{\"diverging\":[[0,\"#8e0152\"],[0.1,\"#c51b7d\"],[0.2,\"#de77ae\"],[0.3,\"#f1b6da\"],[0.4,\"#fde0ef\"],[0.5,\"#f7f7f7\"],[0.6,\"#e6f5d0\"],[0.7,\"#b8e186\"],[0.8,\"#7fbc41\"],[0.9,\"#4d9221\"],[1,\"#276419\"]],\"sequential\":[[0.0,\"#0d0887\"],[0.1111111111111111,\"#46039f\"],[0.2222222222222222,\"#7201a8\"],[0.3333333333333333,\"#9c179e\"],[0.4444444444444444,\"#bd3786\"],[0.5555555555555556,\"#d8576b\"],[0.6666666666666666,\"#ed7953\"],[0.7777777777777778,\"#fb9f3a\"],[0.8888888888888888,\"#fdca26\"],[1.0,\"#f0f921\"]],\"sequentialminus\":[[0.0,\"#0d0887\"],[0.1111111111111111,\"#46039f\"],[0.2222222222222222,\"#7201a8\"],[0.3333333333333333,\"#9c179e\"],[0.4444444444444444,\"#bd3786\"],[0.5555555555555556,\"#d8576b\"],[0.6666666666666666,\"#ed7953\"],[0.7777777777777778,\"#fb9f3a\"],[0.8888888888888888,\"#fdca26\"],[1.0,\"#f0f921\"]]},\"colorway\":[\"#636efa\",\"#EF553B\",\"#00cc96\",\"#ab63fa\",\"#FFA15A\",\"#19d3f3\",\"#FF6692\",\"#B6E880\",\"#FF97FF\",\"#FECB52\"],\"font\":{\"color\":\"#2a3f5f\"},\"geo\":{\"bgcolor\":\"white\",\"lakecolor\":\"white\",\"landcolor\":\"#E5ECF6\",\"showlakes\":true,\"showland\":true,\"subunitcolor\":\"white\"},\"hoverlabel\":{\"align\":\"left\"},\"hovermode\":\"closest\",\"mapbox\":{\"style\":\"light\"},\"paper_bgcolor\":\"white\",\"plot_bgcolor\":\"#E5ECF6\",\"polar\":{\"angularaxis\":{\"gridcolor\":\"white\",\"linecolor\":\"white\",\"ticks\":\"\"},\"bgcolor\":\"#E5ECF6\",\"radialaxis\":{\"gridcolor\":\"white\",\"linecolor\":\"white\",\"ticks\":\"\"}},\"scene\":{\"xaxis\":{\"backgroundcolor\":\"#E5ECF6\",\"gridcolor\":\"white\",\"gridwidth\":2,\"linecolor\":\"white\",\"showbackground\":true,\"ticks\":\"\",\"zerolinecolor\":\"white\"},\"yaxis\":{\"backgroundcolor\":\"#E5ECF6\",\"gridcolor\":\"white\",\"gridwidth\":2,\"linecolor\":\"white\",\"showbackground\":true,\"ticks\":\"\",\"zerolinecolor\":\"white\"},\"zaxis\":{\"backgroundcolor\":\"#E5ECF6\",\"gridcolor\":\"white\",\"gridwidth\":2,\"linecolor\":\"white\",\"showbackground\":true,\"ticks\":\"\",\"zerolinecolor\":\"white\"}},\"shapedefaults\":{\"line\":{\"color\":\"#2a3f5f\"}},\"ternary\":{\"aaxis\":{\"gridcolor\":\"white\",\"linecolor\":\"white\",\"ticks\":\"\"},\"baxis\":{\"gridcolor\":\"white\",\"linecolor\":\"white\",\"ticks\":\"\"},\"bgcolor\":\"#E5ECF6\",\"caxis\":{\"gridcolor\":\"white\",\"linecolor\":\"white\",\"ticks\":\"\"}},\"title\":{\"x\":0.05},\"xaxis\":{\"automargin\":true,\"gridcolor\":\"white\",\"linecolor\":\"white\",\"ticks\":\"\",\"title\":{\"standoff\":15},\"zerolinecolor\":\"white\",\"zerolinewidth\":2},\"yaxis\":{\"automargin\":true,\"gridcolor\":\"white\",\"linecolor\":\"white\",\"ticks\":\"\",\"title\":{\"standoff\":15},\"zerolinecolor\":\"white\",\"zerolinewidth\":2}}},\"title\":{\"text\":\"$Fem \\\\,\\\\, vs \\\\,\\\\, Temperatura$\"},\"width\":1150,\"xaxis\":{\"title\":{\"text\":\"$Temperatura[C]$\"}},\"yaxis\":{\"title\":{\"text\":\"$Fem[mV]$\"}}},                        {\"responsive\": true}                    ).then(function(){\n",
       "                            \n",
       "var gd = document.getElementById('400b2cd8-a890-4a78-af9c-4711acbcab60');\n",
       "var x = new MutationObserver(function (mutations, observer) {{\n",
       "        var display = window.getComputedStyle(gd).display;\n",
       "        if (!display || display === 'none') {{\n",
       "            console.log([gd, 'removed!']);\n",
       "            Plotly.purge(gd);\n",
       "            observer.disconnect();\n",
       "        }}\n",
       "}});\n",
       "\n",
       "// Listen for the removal of the full notebook cells\n",
       "var notebookContainer = gd.closest('#notebook-container');\n",
       "if (notebookContainer) {{\n",
       "    x.observe(notebookContainer, {childList: true});\n",
       "}}\n",
       "\n",
       "// Listen for the clearing of the current output cell\n",
       "var outputEl = gd.closest('.output');\n",
       "if (outputEl) {{\n",
       "    x.observe(outputEl, {childList: true});\n",
       "}}\n",
       "\n",
       "                        })                };                });            </script>        </div>"
      ]
     },
     "metadata": {},
     "output_type": "display_data"
    }
   ],
   "source": [
    "fig = go.Figure(\n",
    "data = go.Scatter(\n",
    "    x= df['Temperatura_C'],\n",
    "    y = df['Fem_mV'],\n",
    "    mode = 'markers',\n",
    "    marker = dict(\n",
    "    size = 10,\n",
    "    color = df['Temperatura_C'],\n",
    "    showscale = True,\n",
    "    ),\n",
    "    text = df['Temperatura_C']\n",
    ")\n",
    ")\n",
    "\n",
    "fig.update_layout(title = r'$Fem \\,\\, vs \\,\\, Temperatura$'\n",
    "                 , xaxis_title = r'$Temperatura[C]$'\n",
    "                 , yaxis_title = r'$Fem[mV]$'\n",
    "                 , autosize=False\n",
    "                 , width=1150\n",
    "                 , height=800)\n",
    "fig.show()"
   ]
  },
  {
   "cell_type": "markdown",
   "metadata": {},
   "source": [
    "Debido a que nos interesa modelarlo a traveés de una regresión lineal, transformemos lsod atos de manera logarítmica, base 10, para determinar si se puede modelar linealmente."
   ]
  },
  {
   "cell_type": "code",
   "execution_count": 37,
   "metadata": {},
   "outputs": [
    {
     "data": {
      "text/html": [
       "<div>\n",
       "<style scoped>\n",
       "    .dataframe tbody tr th:only-of-type {\n",
       "        vertical-align: middle;\n",
       "    }\n",
       "\n",
       "    .dataframe tbody tr th {\n",
       "        vertical-align: top;\n",
       "    }\n",
       "\n",
       "    .dataframe thead th {\n",
       "        text-align: right;\n",
       "    }\n",
       "</style>\n",
       "<table border=\"1\" class=\"dataframe\">\n",
       "  <thead>\n",
       "    <tr style=\"text-align: right;\">\n",
       "      <th></th>\n",
       "      <th>Temperatura_C</th>\n",
       "      <th>Temperatura_K</th>\n",
       "      <th>Fem_mV</th>\n",
       "      <th>ln_Temperatura_C</th>\n",
       "      <th>ln_Temperatura_K</th>\n",
       "      <th>ln_Fem</th>\n",
       "    </tr>\n",
       "  </thead>\n",
       "  <tbody>\n",
       "    <tr>\n",
       "      <th>0</th>\n",
       "      <td>169</td>\n",
       "      <td>442</td>\n",
       "      <td>2.149</td>\n",
       "      <td>2.227887</td>\n",
       "      <td>2.645422</td>\n",
       "      <td>0.332236</td>\n",
       "    </tr>\n",
       "    <tr>\n",
       "      <th>1</th>\n",
       "      <td>170</td>\n",
       "      <td>443</td>\n",
       "      <td>2.170</td>\n",
       "      <td>2.230449</td>\n",
       "      <td>2.646404</td>\n",
       "      <td>0.336460</td>\n",
       "    </tr>\n",
       "    <tr>\n",
       "      <th>2</th>\n",
       "      <td>171</td>\n",
       "      <td>444</td>\n",
       "      <td>2.193</td>\n",
       "      <td>2.232996</td>\n",
       "      <td>2.647383</td>\n",
       "      <td>0.341039</td>\n",
       "    </tr>\n",
       "    <tr>\n",
       "      <th>3</th>\n",
       "      <td>172</td>\n",
       "      <td>445</td>\n",
       "      <td>2.214</td>\n",
       "      <td>2.235528</td>\n",
       "      <td>2.648360</td>\n",
       "      <td>0.345178</td>\n",
       "    </tr>\n",
       "    <tr>\n",
       "      <th>4</th>\n",
       "      <td>173</td>\n",
       "      <td>446</td>\n",
       "      <td>2.238</td>\n",
       "      <td>2.238046</td>\n",
       "      <td>2.649335</td>\n",
       "      <td>0.349860</td>\n",
       "    </tr>\n",
       "  </tbody>\n",
       "</table>\n",
       "</div>"
      ],
      "text/plain": [
       "   Temperatura_C  Temperatura_K  Fem_mV  ln_Temperatura_C  ln_Temperatura_K  \\\n",
       "0            169            442   2.149          2.227887          2.645422   \n",
       "1            170            443   2.170          2.230449          2.646404   \n",
       "2            171            444   2.193          2.232996          2.647383   \n",
       "3            172            445   2.214          2.235528          2.648360   \n",
       "4            173            446   2.238          2.238046          2.649335   \n",
       "\n",
       "     ln_Fem  \n",
       "0  0.332236  \n",
       "1  0.336460  \n",
       "2  0.341039  \n",
       "3  0.345178  \n",
       "4  0.349860  "
      ]
     },
     "execution_count": 37,
     "metadata": {},
     "output_type": "execute_result"
    }
   ],
   "source": [
    "df['ln_Temperatura_C'] = np.log10(df['Temperatura_C'])\n",
    "df['ln_Temperatura_K'] = np.log10(df['Temperatura_K'])\n",
    "df['ln_Fem'] = np.log10(df['Fem_mV'])\n",
    "df.head()"
   ]
  },
  {
   "cell_type": "markdown",
   "metadata": {},
   "source": [
    "Como nos sirven las columnas asosciadas a la escala de centigrados, eliminémoslas:"
   ]
  },
  {
   "cell_type": "code",
   "execution_count": 38,
   "metadata": {},
   "outputs": [
    {
     "data": {
      "text/html": [
       "<div>\n",
       "<style scoped>\n",
       "    .dataframe tbody tr th:only-of-type {\n",
       "        vertical-align: middle;\n",
       "    }\n",
       "\n",
       "    .dataframe tbody tr th {\n",
       "        vertical-align: top;\n",
       "    }\n",
       "\n",
       "    .dataframe thead th {\n",
       "        text-align: right;\n",
       "    }\n",
       "</style>\n",
       "<table border=\"1\" class=\"dataframe\">\n",
       "  <thead>\n",
       "    <tr style=\"text-align: right;\">\n",
       "      <th></th>\n",
       "      <th>Temperatura_C</th>\n",
       "      <th>Temperatura_K</th>\n",
       "      <th>Fem_mV</th>\n",
       "      <th>ln_Temperatura_C</th>\n",
       "      <th>ln_Temperatura_K</th>\n",
       "      <th>ln_Fem</th>\n",
       "    </tr>\n",
       "  </thead>\n",
       "  <tbody>\n",
       "    <tr>\n",
       "      <th>0</th>\n",
       "      <td>169</td>\n",
       "      <td>442</td>\n",
       "      <td>2.149</td>\n",
       "      <td>2.227887</td>\n",
       "      <td>2.645422</td>\n",
       "      <td>0.332236</td>\n",
       "    </tr>\n",
       "    <tr>\n",
       "      <th>1</th>\n",
       "      <td>170</td>\n",
       "      <td>443</td>\n",
       "      <td>2.170</td>\n",
       "      <td>2.230449</td>\n",
       "      <td>2.646404</td>\n",
       "      <td>0.336460</td>\n",
       "    </tr>\n",
       "    <tr>\n",
       "      <th>2</th>\n",
       "      <td>171</td>\n",
       "      <td>444</td>\n",
       "      <td>2.193</td>\n",
       "      <td>2.232996</td>\n",
       "      <td>2.647383</td>\n",
       "      <td>0.341039</td>\n",
       "    </tr>\n",
       "    <tr>\n",
       "      <th>3</th>\n",
       "      <td>172</td>\n",
       "      <td>445</td>\n",
       "      <td>2.214</td>\n",
       "      <td>2.235528</td>\n",
       "      <td>2.648360</td>\n",
       "      <td>0.345178</td>\n",
       "    </tr>\n",
       "    <tr>\n",
       "      <th>4</th>\n",
       "      <td>173</td>\n",
       "      <td>446</td>\n",
       "      <td>2.238</td>\n",
       "      <td>2.238046</td>\n",
       "      <td>2.649335</td>\n",
       "      <td>0.349860</td>\n",
       "    </tr>\n",
       "  </tbody>\n",
       "</table>\n",
       "</div>"
      ],
      "text/plain": [
       "   Temperatura_C  Temperatura_K  Fem_mV  ln_Temperatura_C  ln_Temperatura_K  \\\n",
       "0            169            442   2.149          2.227887          2.645422   \n",
       "1            170            443   2.170          2.230449          2.646404   \n",
       "2            171            444   2.193          2.232996          2.647383   \n",
       "3            172            445   2.214          2.235528          2.648360   \n",
       "4            173            446   2.238          2.238046          2.649335   \n",
       "\n",
       "     ln_Fem  \n",
       "0  0.332236  \n",
       "1  0.336460  \n",
       "2  0.341039  \n",
       "3  0.345178  \n",
       "4  0.349860  "
      ]
     },
     "execution_count": 38,
     "metadata": {},
     "output_type": "execute_result"
    }
   ],
   "source": [
    "df.drop('Temperatura_C', axis=1)\n",
    "df.drop('ln_Temperatura_C', axis=1)\n",
    "df.head()"
   ]
  },
  {
   "cell_type": "code",
   "execution_count": 39,
   "metadata": {},
   "outputs": [
    {
     "data": {
      "application/vnd.plotly.v1+json": {
       "config": {
        "plotlyServerURL": "https://plot.ly"
       },
       "data": [
        {
         "marker": {
          "color": [
           442,
           443,
           444,
           445,
           446,
           447,
           448,
           449,
           450,
           451,
           452,
           453,
           454,
           455,
           456,
           457,
           458,
           459,
           461,
           462,
           463,
           464,
           465,
           466,
           468,
           469,
           470,
           471,
           472,
           473,
           474,
           475,
           476,
           477,
           478,
           480,
           481,
           482,
           483,
           484,
           485,
           486,
           487,
           488,
           489,
           490,
           491,
           492,
           493,
           494,
           495,
           496,
           497,
           498,
           499,
           500,
           501,
           502,
           503,
           504,
           505,
           506,
           507,
           508,
           509,
           510,
           511,
           512,
           513,
           514,
           515,
           516,
           517,
           518,
           519,
           520,
           521,
           522,
           523,
           524,
           525,
           526,
           527,
           528,
           530,
           531,
           532,
           533,
           534,
           535,
           536,
           537,
           538,
           540,
           541,
           542,
           543,
           544,
           545,
           546,
           547,
           549,
           550,
           551,
           552,
           553,
           554,
           555,
           556,
           557,
           558,
           559,
           560,
           561,
           562,
           563,
           564,
           565,
           566,
           567,
           568,
           569,
           571,
           572,
           573,
           574,
           575,
           576,
           577,
           578,
           580,
           581,
           582,
           583,
           584,
           585,
           586,
           587,
           588,
           589,
           590,
           591,
           592,
           593,
           594,
           595,
           596,
           597,
           598,
           600,
           601,
           602,
           603,
           604,
           605,
           608,
           609,
           610,
           612,
           613,
           614,
           615,
           616,
           617,
           618,
           619,
           621,
           622,
           623,
           624,
           625,
           626,
           627,
           628,
           629,
           630,
           631,
           632,
           633,
           634,
           635,
           637,
           639,
           640,
           641,
           642,
           643,
           644,
           645,
           647,
           648,
           649,
           651,
           652,
           653,
           654,
           655,
           657,
           658,
           659,
           660,
           661,
           662,
           663,
           664,
           665,
           666,
           667,
           668
          ],
          "showscale": true,
          "size": 10
         },
         "mode": "markers",
         "text": [
          442,
          443,
          444,
          445,
          446,
          447,
          448,
          449,
          450,
          451,
          452,
          453,
          454,
          455,
          456,
          457,
          458,
          459,
          461,
          462,
          463,
          464,
          465,
          466,
          468,
          469,
          470,
          471,
          472,
          473,
          474,
          475,
          476,
          477,
          478,
          480,
          481,
          482,
          483,
          484,
          485,
          486,
          487,
          488,
          489,
          490,
          491,
          492,
          493,
          494,
          495,
          496,
          497,
          498,
          499,
          500,
          501,
          502,
          503,
          504,
          505,
          506,
          507,
          508,
          509,
          510,
          511,
          512,
          513,
          514,
          515,
          516,
          517,
          518,
          519,
          520,
          521,
          522,
          523,
          524,
          525,
          526,
          527,
          528,
          530,
          531,
          532,
          533,
          534,
          535,
          536,
          537,
          538,
          540,
          541,
          542,
          543,
          544,
          545,
          546,
          547,
          549,
          550,
          551,
          552,
          553,
          554,
          555,
          556,
          557,
          558,
          559,
          560,
          561,
          562,
          563,
          564,
          565,
          566,
          567,
          568,
          569,
          571,
          572,
          573,
          574,
          575,
          576,
          577,
          578,
          580,
          581,
          582,
          583,
          584,
          585,
          586,
          587,
          588,
          589,
          590,
          591,
          592,
          593,
          594,
          595,
          596,
          597,
          598,
          600,
          601,
          602,
          603,
          604,
          605,
          608,
          609,
          610,
          612,
          613,
          614,
          615,
          616,
          617,
          618,
          619,
          621,
          622,
          623,
          624,
          625,
          626,
          627,
          628,
          629,
          630,
          631,
          632,
          633,
          634,
          635,
          637,
          639,
          640,
          641,
          642,
          643,
          644,
          645,
          647,
          648,
          649,
          651,
          652,
          653,
          654,
          655,
          657,
          658,
          659,
          660,
          661,
          662,
          663,
          664,
          665,
          666,
          667,
          668
         ],
         "type": "scatter",
         "x": [
          2.645422269349092,
          2.6464037262230695,
          2.6473829701146196,
          2.6483600109809315,
          2.649334858712142,
          2.6503075231319366,
          2.651278013998144,
          2.6522463410033232,
          2.6532125137753435,
          2.6541765418779604,
          2.655138434811382,
          2.656098202012832,
          2.6570558528571038,
          2.6580113966571126,
          2.6589648426644352,
          2.6599162000698504,
          2.660865478003869,
          2.661812685537261,
          2.663700925389648,
          2.6646419755561257,
          2.6655809910179533,
          2.6665179805548807,
          2.667452952889954,
          2.66838591669,
          2.670245853074124,
          2.6711728427150834,
          2.6720978579357175,
          2.673020907128896,
          2.673941998634088,
          2.6748611407378116,
          2.6757783416740852,
          2.6766936096248664,
          2.677606952720493,
          2.678518379040114,
          2.6794278966121188,
          2.681241237375587,
          2.682145076373832,
          2.6830470382388496,
          2.683947130751512,
          2.6848453616444123,
          2.6857417386022635,
          2.6866362692622934,
          2.6875289612146345,
          2.6884198220027105,
          2.6893088591236203,
          2.690196080028514,
          2.6910814921229687,
          2.6919651027673606,
          2.69284691927723,
          2.693726948923647,
          2.694605198933569,
          2.6954816764901977,
          2.6963563887333324,
          2.6972293427597176,
          2.6981005456233897,
          2.6989700043360187,
          2.699837725867246,
          2.7007037171450192,
          2.7015679850559273,
          2.7024305364455254,
          2.7032913781186614,
          2.7041505168397992,
          2.705007959333336,
          2.7058637122839193,
          2.7067177823367587,
          2.7075701760979363,
          2.708420900134713,
          2.709269960975831,
          2.7101173651118162,
          2.710963118995276,
          2.711807229041191,
          2.7126497016272113,
          2.7134905430939424,
          2.714329759745233,
          2.7151673578484576,
          2.716003343634799,
          2.7168377232995247,
          2.717670503002262,
          2.718501688867274,
          2.7193312869837265,
          2.720159303405957,
          2.7209857441537393,
          2.7218106152125467,
          2.722633922533812,
          2.724275869600789,
          2.725094521081469,
          2.7259116322950483,
          2.7267272090265724,
          2.727541257028556,
          2.7283537820212285,
          2.72916478969277,
          2.7299742856995555,
          2.7307822756663893,
          2.7323937598229686,
          2.7331972651065692,
          2.733999286538387,
          2.734799829588847,
          2.73559889969818,
          2.7363965022766426,
          2.7371926427047373,
          2.737987326333431,
          2.739572344450092,
          2.7403626894942437,
          2.741151598851785,
          2.741939077729199,
          2.7427251313046983,
          2.74350976472843,
          2.7442929831226763,
          2.7450747915820575,
          2.745855195173729,
          2.7466341989375787,
          2.747411807886423,
          2.7481880270062002,
          2.748962861256161,
          2.749736315569061,
          2.7505083948513462,
          2.751279103983342,
          2.7520484478194387,
          2.7528164311882715,
          2.7535830588929064,
          2.754348335711019,
          2.7551122663950713,
          2.756636108245848,
          2.7573960287930244,
          2.75815462196739,
          2.7589118923979736,
          2.7596678446896306,
          2.760422483423212,
          2.7611758131557314,
          2.761927838420529,
          2.7634279935629373,
          2.7641761323903307,
          2.7649229846498886,
          2.765668554759014,
          2.7664128471123997,
          2.7671558660821804,
          2.767897616018091,
          2.7686381012476144,
          2.7693773260761385,
          2.7701152947871015,
          2.7708520116421442,
          2.7715874808812555,
          2.77232170672292,
          2.7730546933642626,
          2.7737864449811935,
          2.7745169657285498,
          2.7752462597402365,
          2.775974331129369,
          2.776701183988411,
          2.7781512503836434,
          2.7788744720027396,
          2.7795964912578244,
          2.780317312140151,
          2.7810369386211318,
          2.781755374652469,
          2.783903579272735,
          2.784617292632875,
          2.785329835010767,
          2.7867514221455614,
          2.787460474518415,
          2.788168371141168,
          2.788875115775417,
          2.7895807121644256,
          2.7902851640332416,
          2.790988475088816,
          2.791690649020118,
          2.79309160017658,
          2.7937903846908188,
          2.7944880466591697,
          2.795184589682424,
          2.7958800173440754,
          2.7965743332104296,
          2.7972675408307164,
          2.797959643737196,
          2.798650645445269,
          2.7993405494535817,
          2.8000293592441343,
          2.800717078282385,
          2.801403710017355,
          2.8020892578817325,
          2.8027737252919755,
          2.8041394323353503,
          2.8055008581584002,
          2.806179973983887,
          2.8068580295188172,
          2.807535028068853,
          2.808210972924222,
          2.808885867359812,
          2.8095597146352675,
          2.8109042806687006,
          2.8115750058705933,
          2.812244696800369,
          2.8135809885681917,
          2.81424759573192,
          2.814913181275074,
          2.815577748324267,
          2.816241299991783,
          2.8175653695597807,
          2.8182258936139557,
          2.8188854145940097,
          2.8195439355418688,
          2.82020145948564,
          2.8208579894397,
          2.821513528404773,
          2.8221680793680175,
          2.8228216453031045,
          2.823474229170301,
          2.824125833916549,
          2.824776462475546
         ],
         "y": [
          0.33223641549144334,
          0.3364597338485295,
          0.3410386316775229,
          0.345177616542704,
          0.3498600821923312,
          0.35410843914740087,
          0.35888620440586905,
          0.36342393291717634,
          0.36754227352057667,
          0.3716219271760213,
          0.3762118502826728,
          0.3809344633307019,
          0.38578495884333575,
          0.39022836246913006,
          0.39357520326958756,
          0.3981136917305025,
          0.4024333462193119,
          0.40756084948636256,
          0.41547416810923576,
          0.4189638307036227,
          0.4234097277330934,
          0.4273237863572472,
          0.4315245841874509,
          0.4360035356698965,
          0.4438885467773719,
          0.44824241263443915,
          0.4520932490177314,
          0.4562141553579888,
          0.4605971888976015,
          0.4643404846276673,
          0.47231754631684186,
          0.4766867429456447,
          0.4802944600030065,
          0.4844422076424071,
          0.4886916983169406,
          0.49692964807321494,
          0.5005109105263371,
          0.5041989185394449,
          0.5075860397630108,
          0.5121505369220305,
          0.5156089492344803,
          0.5206145218782359,
          0.5236164190543707,
          0.5277587525209719,
          0.5312233745330268,
          0.5346605758284444,
          0.5386993795424068,
          0.543074235033532,
          0.546542663478131,
          0.5497387312648989,
          0.5535189401489695,
          0.5571461423183631,
          0.5608626947274648,
          0.5641924606261979,
          0.5677319625480691,
          0.5718252490408291,
          0.5755342183198644,
          0.5041989185394449,
          0.5830853663476876,
          0.5860243823869757,
          0.5895027962637638,
          0.5939502952639875,
          0.5972562829251418,
          0.5997739391463883,
          0.6037937041369629,
          0.6069185259482911,
          0.6105537053170945,
          0.6144753660903953,
          0.617629297757842,
          0.6216954623292787,
          0.6251065754034676,
          0.6283889300503115,
          0.631950826259217,
          0.6351820486562676,
          0.6385890832927169,
          0.6415732531781754,
          0.6451273992583911,
          0.6489451821656725,
          0.6518592692469489,
          0.6548500905613942,
          0.6581068355063929,
          0.6618126855372612,
          0.6655809910179531,
          0.6718205601832489,
          0.6758699553189567,
          0.6791552412833538,
          0.6820547770738072,
          0.6859207921945354,
          0.6900187807886953,
          0.6930230679236941,
          0.6959192528314,
          0.6919651027673603,
          0.7040646794085674,
          0.7084209001347128,
          0.7113853790984517,
          0.714497408649806,
          0.7175872968554604,
          0.7209031708134575,
          0.7272158209084926,
          0.7306207978872828,
          0.7335182514344876,
          0.7368743616484226,
          0.7395723444500919,
          0.7429606702141525,
          0.7460890430562003,
          0.7487305560984945,
          0.7520484478194386,
          0.7551122663950712,
          0.7583061817253068,
          0.7607993116307178,
          0.7641013764762288,
          0.7667845154978589,
          0.7700415543196687,
          0.7731279240333347,
          0.7762652182681095,
          0.779668627207148,
          0.7822575736633017,
          0.7851874200293618,
          0.7882390973821681,
          0.7913397039651394,
          0.7937205568135233,
          0.7974060496763821,
          0.8030472104911286,
          0.8060442357480883,
          0.8088858673598122,
          0.8119099804200989,
          0.814647069451856,
          0.8178296997456056,
          0.8205298485235197,
          0.8230827965328037,
          0.8276277047674334,
          0.8311656339094424,
          0.8338480495311481,
          0.836577274840649,
          0.840043330603494,
          0.8428587624452937,
          0.8459038388987825,
          0.8486201174341339,
          0.8515029527705447,
          0.8544275057878612,
          0.8567892887533162,
          0.8600383898071935,
          0.862489166905897,
          0.8654001181793015,
          0.8679975103449512,
          0.8709303583486958,
          0.873378736409141,
          0.8763910618191876,
          0.8796119070658508,
          0.8849651982007327,
          0.8882356732705672,
          0.8905886677054873,
          0.8928178243095762,
          0.8963057074660806,
          0.9035782936630544,
          0.9062811557721531,
          0.9095025414054154,
          0.9120625555885024,
          0.9170326221623933,
          0.9197577805018942,
          0.9221543252310589,
          0.9246410474171629,
          0.927319024959656,
          0.929776432804902,
          0.933234128714808,
          0.9378687965638594,
          0.9406160823374076,
          0.9436923271060167,
          0.9464031338990546,
          0.9489017609702137,
          0.9506082247842308,
          0.9527924430440922,
          0.9553028227616917,
          0.9582771255476976,
          0.9606610072709818,
          0.9631737163752516,
          0.9656719712201067,
          0.9683428309589455,
          0.9707651597807677,
          0.9734049744100607,
          0.9763041165520028,
          0.9817733186277472,
          0.9865030153867405,
          0.9889600703903381,
          0.9909600996821993,
          0.9935244031670656,
          0.9960298284110767,
          0.9988693638823443,
          1.0008243766056055,
          1.0062092405376575,
          1.0083446292526892,
          1.0107662335184253,
          1.0161555119514545,
          1.0187836888746968,
          1.0208168870289072,
          1.022799404511688,
          1.025223915178311,
          1.030113752707593,
          1.0324172788327692,
          1.0349090733677482,
          1.037107632667927,
          1.039731296098691,
          1.0424573745743209,
          1.0445005623706412,
          1.046690221370057,
          1.0494506181315495,
          1.0514226660890345,
          1.053884790394692,
          1.056256735850139
         ]
        }
       ],
       "layout": {
        "autosize": false,
        "height": 600,
        "template": {
         "data": {
          "bar": [
           {
            "error_x": {
             "color": "#2a3f5f"
            },
            "error_y": {
             "color": "#2a3f5f"
            },
            "marker": {
             "line": {
              "color": "#E5ECF6",
              "width": 0.5
             },
             "pattern": {
              "fillmode": "overlay",
              "size": 10,
              "solidity": 0.2
             }
            },
            "type": "bar"
           }
          ],
          "barpolar": [
           {
            "marker": {
             "line": {
              "color": "#E5ECF6",
              "width": 0.5
             },
             "pattern": {
              "fillmode": "overlay",
              "size": 10,
              "solidity": 0.2
             }
            },
            "type": "barpolar"
           }
          ],
          "carpet": [
           {
            "aaxis": {
             "endlinecolor": "#2a3f5f",
             "gridcolor": "white",
             "linecolor": "white",
             "minorgridcolor": "white",
             "startlinecolor": "#2a3f5f"
            },
            "baxis": {
             "endlinecolor": "#2a3f5f",
             "gridcolor": "white",
             "linecolor": "white",
             "minorgridcolor": "white",
             "startlinecolor": "#2a3f5f"
            },
            "type": "carpet"
           }
          ],
          "choropleth": [
           {
            "colorbar": {
             "outlinewidth": 0,
             "ticks": ""
            },
            "type": "choropleth"
           }
          ],
          "contour": [
           {
            "colorbar": {
             "outlinewidth": 0,
             "ticks": ""
            },
            "colorscale": [
             [
              0,
              "#0d0887"
             ],
             [
              0.1111111111111111,
              "#46039f"
             ],
             [
              0.2222222222222222,
              "#7201a8"
             ],
             [
              0.3333333333333333,
              "#9c179e"
             ],
             [
              0.4444444444444444,
              "#bd3786"
             ],
             [
              0.5555555555555556,
              "#d8576b"
             ],
             [
              0.6666666666666666,
              "#ed7953"
             ],
             [
              0.7777777777777778,
              "#fb9f3a"
             ],
             [
              0.8888888888888888,
              "#fdca26"
             ],
             [
              1,
              "#f0f921"
             ]
            ],
            "type": "contour"
           }
          ],
          "contourcarpet": [
           {
            "colorbar": {
             "outlinewidth": 0,
             "ticks": ""
            },
            "type": "contourcarpet"
           }
          ],
          "heatmap": [
           {
            "colorbar": {
             "outlinewidth": 0,
             "ticks": ""
            },
            "colorscale": [
             [
              0,
              "#0d0887"
             ],
             [
              0.1111111111111111,
              "#46039f"
             ],
             [
              0.2222222222222222,
              "#7201a8"
             ],
             [
              0.3333333333333333,
              "#9c179e"
             ],
             [
              0.4444444444444444,
              "#bd3786"
             ],
             [
              0.5555555555555556,
              "#d8576b"
             ],
             [
              0.6666666666666666,
              "#ed7953"
             ],
             [
              0.7777777777777778,
              "#fb9f3a"
             ],
             [
              0.8888888888888888,
              "#fdca26"
             ],
             [
              1,
              "#f0f921"
             ]
            ],
            "type": "heatmap"
           }
          ],
          "heatmapgl": [
           {
            "colorbar": {
             "outlinewidth": 0,
             "ticks": ""
            },
            "colorscale": [
             [
              0,
              "#0d0887"
             ],
             [
              0.1111111111111111,
              "#46039f"
             ],
             [
              0.2222222222222222,
              "#7201a8"
             ],
             [
              0.3333333333333333,
              "#9c179e"
             ],
             [
              0.4444444444444444,
              "#bd3786"
             ],
             [
              0.5555555555555556,
              "#d8576b"
             ],
             [
              0.6666666666666666,
              "#ed7953"
             ],
             [
              0.7777777777777778,
              "#fb9f3a"
             ],
             [
              0.8888888888888888,
              "#fdca26"
             ],
             [
              1,
              "#f0f921"
             ]
            ],
            "type": "heatmapgl"
           }
          ],
          "histogram": [
           {
            "marker": {
             "pattern": {
              "fillmode": "overlay",
              "size": 10,
              "solidity": 0.2
             }
            },
            "type": "histogram"
           }
          ],
          "histogram2d": [
           {
            "colorbar": {
             "outlinewidth": 0,
             "ticks": ""
            },
            "colorscale": [
             [
              0,
              "#0d0887"
             ],
             [
              0.1111111111111111,
              "#46039f"
             ],
             [
              0.2222222222222222,
              "#7201a8"
             ],
             [
              0.3333333333333333,
              "#9c179e"
             ],
             [
              0.4444444444444444,
              "#bd3786"
             ],
             [
              0.5555555555555556,
              "#d8576b"
             ],
             [
              0.6666666666666666,
              "#ed7953"
             ],
             [
              0.7777777777777778,
              "#fb9f3a"
             ],
             [
              0.8888888888888888,
              "#fdca26"
             ],
             [
              1,
              "#f0f921"
             ]
            ],
            "type": "histogram2d"
           }
          ],
          "histogram2dcontour": [
           {
            "colorbar": {
             "outlinewidth": 0,
             "ticks": ""
            },
            "colorscale": [
             [
              0,
              "#0d0887"
             ],
             [
              0.1111111111111111,
              "#46039f"
             ],
             [
              0.2222222222222222,
              "#7201a8"
             ],
             [
              0.3333333333333333,
              "#9c179e"
             ],
             [
              0.4444444444444444,
              "#bd3786"
             ],
             [
              0.5555555555555556,
              "#d8576b"
             ],
             [
              0.6666666666666666,
              "#ed7953"
             ],
             [
              0.7777777777777778,
              "#fb9f3a"
             ],
             [
              0.8888888888888888,
              "#fdca26"
             ],
             [
              1,
              "#f0f921"
             ]
            ],
            "type": "histogram2dcontour"
           }
          ],
          "mesh3d": [
           {
            "colorbar": {
             "outlinewidth": 0,
             "ticks": ""
            },
            "type": "mesh3d"
           }
          ],
          "parcoords": [
           {
            "line": {
             "colorbar": {
              "outlinewidth": 0,
              "ticks": ""
             }
            },
            "type": "parcoords"
           }
          ],
          "pie": [
           {
            "automargin": true,
            "type": "pie"
           }
          ],
          "scatter": [
           {
            "marker": {
             "colorbar": {
              "outlinewidth": 0,
              "ticks": ""
             }
            },
            "type": "scatter"
           }
          ],
          "scatter3d": [
           {
            "line": {
             "colorbar": {
              "outlinewidth": 0,
              "ticks": ""
             }
            },
            "marker": {
             "colorbar": {
              "outlinewidth": 0,
              "ticks": ""
             }
            },
            "type": "scatter3d"
           }
          ],
          "scattercarpet": [
           {
            "marker": {
             "colorbar": {
              "outlinewidth": 0,
              "ticks": ""
             }
            },
            "type": "scattercarpet"
           }
          ],
          "scattergeo": [
           {
            "marker": {
             "colorbar": {
              "outlinewidth": 0,
              "ticks": ""
             }
            },
            "type": "scattergeo"
           }
          ],
          "scattergl": [
           {
            "marker": {
             "colorbar": {
              "outlinewidth": 0,
              "ticks": ""
             }
            },
            "type": "scattergl"
           }
          ],
          "scattermapbox": [
           {
            "marker": {
             "colorbar": {
              "outlinewidth": 0,
              "ticks": ""
             }
            },
            "type": "scattermapbox"
           }
          ],
          "scatterpolar": [
           {
            "marker": {
             "colorbar": {
              "outlinewidth": 0,
              "ticks": ""
             }
            },
            "type": "scatterpolar"
           }
          ],
          "scatterpolargl": [
           {
            "marker": {
             "colorbar": {
              "outlinewidth": 0,
              "ticks": ""
             }
            },
            "type": "scatterpolargl"
           }
          ],
          "scatterternary": [
           {
            "marker": {
             "colorbar": {
              "outlinewidth": 0,
              "ticks": ""
             }
            },
            "type": "scatterternary"
           }
          ],
          "surface": [
           {
            "colorbar": {
             "outlinewidth": 0,
             "ticks": ""
            },
            "colorscale": [
             [
              0,
              "#0d0887"
             ],
             [
              0.1111111111111111,
              "#46039f"
             ],
             [
              0.2222222222222222,
              "#7201a8"
             ],
             [
              0.3333333333333333,
              "#9c179e"
             ],
             [
              0.4444444444444444,
              "#bd3786"
             ],
             [
              0.5555555555555556,
              "#d8576b"
             ],
             [
              0.6666666666666666,
              "#ed7953"
             ],
             [
              0.7777777777777778,
              "#fb9f3a"
             ],
             [
              0.8888888888888888,
              "#fdca26"
             ],
             [
              1,
              "#f0f921"
             ]
            ],
            "type": "surface"
           }
          ],
          "table": [
           {
            "cells": {
             "fill": {
              "color": "#EBF0F8"
             },
             "line": {
              "color": "white"
             }
            },
            "header": {
             "fill": {
              "color": "#C8D4E3"
             },
             "line": {
              "color": "white"
             }
            },
            "type": "table"
           }
          ]
         },
         "layout": {
          "annotationdefaults": {
           "arrowcolor": "#2a3f5f",
           "arrowhead": 0,
           "arrowwidth": 1
          },
          "autotypenumbers": "strict",
          "coloraxis": {
           "colorbar": {
            "outlinewidth": 0,
            "ticks": ""
           }
          },
          "colorscale": {
           "diverging": [
            [
             0,
             "#8e0152"
            ],
            [
             0.1,
             "#c51b7d"
            ],
            [
             0.2,
             "#de77ae"
            ],
            [
             0.3,
             "#f1b6da"
            ],
            [
             0.4,
             "#fde0ef"
            ],
            [
             0.5,
             "#f7f7f7"
            ],
            [
             0.6,
             "#e6f5d0"
            ],
            [
             0.7,
             "#b8e186"
            ],
            [
             0.8,
             "#7fbc41"
            ],
            [
             0.9,
             "#4d9221"
            ],
            [
             1,
             "#276419"
            ]
           ],
           "sequential": [
            [
             0,
             "#0d0887"
            ],
            [
             0.1111111111111111,
             "#46039f"
            ],
            [
             0.2222222222222222,
             "#7201a8"
            ],
            [
             0.3333333333333333,
             "#9c179e"
            ],
            [
             0.4444444444444444,
             "#bd3786"
            ],
            [
             0.5555555555555556,
             "#d8576b"
            ],
            [
             0.6666666666666666,
             "#ed7953"
            ],
            [
             0.7777777777777778,
             "#fb9f3a"
            ],
            [
             0.8888888888888888,
             "#fdca26"
            ],
            [
             1,
             "#f0f921"
            ]
           ],
           "sequentialminus": [
            [
             0,
             "#0d0887"
            ],
            [
             0.1111111111111111,
             "#46039f"
            ],
            [
             0.2222222222222222,
             "#7201a8"
            ],
            [
             0.3333333333333333,
             "#9c179e"
            ],
            [
             0.4444444444444444,
             "#bd3786"
            ],
            [
             0.5555555555555556,
             "#d8576b"
            ],
            [
             0.6666666666666666,
             "#ed7953"
            ],
            [
             0.7777777777777778,
             "#fb9f3a"
            ],
            [
             0.8888888888888888,
             "#fdca26"
            ],
            [
             1,
             "#f0f921"
            ]
           ]
          },
          "colorway": [
           "#636efa",
           "#EF553B",
           "#00cc96",
           "#ab63fa",
           "#FFA15A",
           "#19d3f3",
           "#FF6692",
           "#B6E880",
           "#FF97FF",
           "#FECB52"
          ],
          "font": {
           "color": "#2a3f5f"
          },
          "geo": {
           "bgcolor": "white",
           "lakecolor": "white",
           "landcolor": "#E5ECF6",
           "showlakes": true,
           "showland": true,
           "subunitcolor": "white"
          },
          "hoverlabel": {
           "align": "left"
          },
          "hovermode": "closest",
          "mapbox": {
           "style": "light"
          },
          "paper_bgcolor": "white",
          "plot_bgcolor": "#E5ECF6",
          "polar": {
           "angularaxis": {
            "gridcolor": "white",
            "linecolor": "white",
            "ticks": ""
           },
           "bgcolor": "#E5ECF6",
           "radialaxis": {
            "gridcolor": "white",
            "linecolor": "white",
            "ticks": ""
           }
          },
          "scene": {
           "xaxis": {
            "backgroundcolor": "#E5ECF6",
            "gridcolor": "white",
            "gridwidth": 2,
            "linecolor": "white",
            "showbackground": true,
            "ticks": "",
            "zerolinecolor": "white"
           },
           "yaxis": {
            "backgroundcolor": "#E5ECF6",
            "gridcolor": "white",
            "gridwidth": 2,
            "linecolor": "white",
            "showbackground": true,
            "ticks": "",
            "zerolinecolor": "white"
           },
           "zaxis": {
            "backgroundcolor": "#E5ECF6",
            "gridcolor": "white",
            "gridwidth": 2,
            "linecolor": "white",
            "showbackground": true,
            "ticks": "",
            "zerolinecolor": "white"
           }
          },
          "shapedefaults": {
           "line": {
            "color": "#2a3f5f"
           }
          },
          "ternary": {
           "aaxis": {
            "gridcolor": "white",
            "linecolor": "white",
            "ticks": ""
           },
           "baxis": {
            "gridcolor": "white",
            "linecolor": "white",
            "ticks": ""
           },
           "bgcolor": "#E5ECF6",
           "caxis": {
            "gridcolor": "white",
            "linecolor": "white",
            "ticks": ""
           }
          },
          "title": {
           "x": 0.05
          },
          "xaxis": {
           "automargin": true,
           "gridcolor": "white",
           "linecolor": "white",
           "ticks": "",
           "title": {
            "standoff": 15
           },
           "zerolinecolor": "white",
           "zerolinewidth": 2
          },
          "yaxis": {
           "automargin": true,
           "gridcolor": "white",
           "linecolor": "white",
           "ticks": "",
           "title": {
            "standoff": 15
           },
           "zerolinecolor": "white",
           "zerolinewidth": 2
          }
         }
        },
        "title": {
         "text": "$\\log_{10}(Fem) \\,\\, vs \\,\\, \\log_{10}(Temperatura)$"
        },
        "width": 1150,
        "xaxis": {
         "title": {
          "text": "$\\log_{10}(Temperatura)$"
         }
        },
        "yaxis": {
         "title": {
          "text": "$\\log_{10}(Fem)$"
         }
        }
       }
      },
      "text/html": [
       "<div>                            <div id=\"74d3648a-5c28-4aa0-bbe8-1f2e43f1e122\" class=\"plotly-graph-div\" style=\"height:600px; width:1150px;\"></div>            <script type=\"text/javascript\">                require([\"plotly\"], function(Plotly) {                    window.PLOTLYENV=window.PLOTLYENV || {};                                    if (document.getElementById(\"74d3648a-5c28-4aa0-bbe8-1f2e43f1e122\")) {                    Plotly.newPlot(                        \"74d3648a-5c28-4aa0-bbe8-1f2e43f1e122\",                        [{\"marker\":{\"color\":[442,443,444,445,446,447,448,449,450,451,452,453,454,455,456,457,458,459,461,462,463,464,465,466,468,469,470,471,472,473,474,475,476,477,478,480,481,482,483,484,485,486,487,488,489,490,491,492,493,494,495,496,497,498,499,500,501,502,503,504,505,506,507,508,509,510,511,512,513,514,515,516,517,518,519,520,521,522,523,524,525,526,527,528,530,531,532,533,534,535,536,537,538,540,541,542,543,544,545,546,547,549,550,551,552,553,554,555,556,557,558,559,560,561,562,563,564,565,566,567,568,569,571,572,573,574,575,576,577,578,580,581,582,583,584,585,586,587,588,589,590,591,592,593,594,595,596,597,598,600,601,602,603,604,605,608,609,610,612,613,614,615,616,617,618,619,621,622,623,624,625,626,627,628,629,630,631,632,633,634,635,637,639,640,641,642,643,644,645,647,648,649,651,652,653,654,655,657,658,659,660,661,662,663,664,665,666,667,668],\"showscale\":true,\"size\":10},\"mode\":\"markers\",\"text\":[442.0,443.0,444.0,445.0,446.0,447.0,448.0,449.0,450.0,451.0,452.0,453.0,454.0,455.0,456.0,457.0,458.0,459.0,461.0,462.0,463.0,464.0,465.0,466.0,468.0,469.0,470.0,471.0,472.0,473.0,474.0,475.0,476.0,477.0,478.0,480.0,481.0,482.0,483.0,484.0,485.0,486.0,487.0,488.0,489.0,490.0,491.0,492.0,493.0,494.0,495.0,496.0,497.0,498.0,499.0,500.0,501.0,502.0,503.0,504.0,505.0,506.0,507.0,508.0,509.0,510.0,511.0,512.0,513.0,514.0,515.0,516.0,517.0,518.0,519.0,520.0,521.0,522.0,523.0,524.0,525.0,526.0,527.0,528.0,530.0,531.0,532.0,533.0,534.0,535.0,536.0,537.0,538.0,540.0,541.0,542.0,543.0,544.0,545.0,546.0,547.0,549.0,550.0,551.0,552.0,553.0,554.0,555.0,556.0,557.0,558.0,559.0,560.0,561.0,562.0,563.0,564.0,565.0,566.0,567.0,568.0,569.0,571.0,572.0,573.0,574.0,575.0,576.0,577.0,578.0,580.0,581.0,582.0,583.0,584.0,585.0,586.0,587.0,588.0,589.0,590.0,591.0,592.0,593.0,594.0,595.0,596.0,597.0,598.0,600.0,601.0,602.0,603.0,604.0,605.0,608.0,609.0,610.0,612.0,613.0,614.0,615.0,616.0,617.0,618.0,619.0,621.0,622.0,623.0,624.0,625.0,626.0,627.0,628.0,629.0,630.0,631.0,632.0,633.0,634.0,635.0,637.0,639.0,640.0,641.0,642.0,643.0,644.0,645.0,647.0,648.0,649.0,651.0,652.0,653.0,654.0,655.0,657.0,658.0,659.0,660.0,661.0,662.0,663.0,664.0,665.0,666.0,667.0,668.0],\"type\":\"scatter\",\"x\":[2.645422269349092,2.6464037262230695,2.6473829701146196,2.6483600109809315,2.649334858712142,2.6503075231319366,2.651278013998144,2.6522463410033232,2.6532125137753435,2.6541765418779604,2.655138434811382,2.656098202012832,2.6570558528571038,2.6580113966571126,2.6589648426644352,2.6599162000698504,2.660865478003869,2.661812685537261,2.663700925389648,2.6646419755561257,2.6655809910179533,2.6665179805548807,2.667452952889954,2.66838591669,2.670245853074124,2.6711728427150834,2.6720978579357175,2.673020907128896,2.673941998634088,2.6748611407378116,2.6757783416740852,2.6766936096248664,2.677606952720493,2.678518379040114,2.6794278966121188,2.681241237375587,2.682145076373832,2.6830470382388496,2.683947130751512,2.6848453616444123,2.6857417386022635,2.6866362692622934,2.6875289612146345,2.6884198220027105,2.6893088591236203,2.690196080028514,2.6910814921229687,2.6919651027673606,2.69284691927723,2.693726948923647,2.694605198933569,2.6954816764901977,2.6963563887333324,2.6972293427597176,2.6981005456233897,2.6989700043360187,2.699837725867246,2.7007037171450192,2.7015679850559273,2.7024305364455254,2.7032913781186614,2.7041505168397992,2.705007959333336,2.7058637122839193,2.7067177823367587,2.7075701760979363,2.708420900134713,2.709269960975831,2.7101173651118162,2.710963118995276,2.711807229041191,2.7126497016272113,2.7134905430939424,2.714329759745233,2.7151673578484576,2.716003343634799,2.7168377232995247,2.717670503002262,2.718501688867274,2.7193312869837265,2.720159303405957,2.7209857441537393,2.7218106152125467,2.722633922533812,2.724275869600789,2.725094521081469,2.7259116322950483,2.7267272090265724,2.727541257028556,2.7283537820212285,2.72916478969277,2.7299742856995555,2.7307822756663893,2.7323937598229686,2.7331972651065692,2.733999286538387,2.734799829588847,2.73559889969818,2.7363965022766426,2.7371926427047373,2.737987326333431,2.739572344450092,2.7403626894942437,2.741151598851785,2.741939077729199,2.7427251313046983,2.74350976472843,2.7442929831226763,2.7450747915820575,2.745855195173729,2.7466341989375787,2.747411807886423,2.7481880270062002,2.748962861256161,2.749736315569061,2.7505083948513462,2.751279103983342,2.7520484478194387,2.7528164311882715,2.7535830588929064,2.754348335711019,2.7551122663950713,2.756636108245848,2.7573960287930244,2.75815462196739,2.7589118923979736,2.7596678446896306,2.760422483423212,2.7611758131557314,2.761927838420529,2.7634279935629373,2.7641761323903307,2.7649229846498886,2.765668554759014,2.7664128471123997,2.7671558660821804,2.767897616018091,2.7686381012476144,2.7693773260761385,2.7701152947871015,2.7708520116421442,2.7715874808812555,2.77232170672292,2.7730546933642626,2.7737864449811935,2.7745169657285498,2.7752462597402365,2.775974331129369,2.776701183988411,2.7781512503836434,2.7788744720027396,2.7795964912578244,2.780317312140151,2.7810369386211318,2.781755374652469,2.783903579272735,2.784617292632875,2.785329835010767,2.7867514221455614,2.787460474518415,2.788168371141168,2.788875115775417,2.7895807121644256,2.7902851640332416,2.790988475088816,2.791690649020118,2.79309160017658,2.7937903846908188,2.7944880466591697,2.795184589682424,2.7958800173440754,2.7965743332104296,2.7972675408307164,2.797959643737196,2.798650645445269,2.7993405494535817,2.8000293592441343,2.800717078282385,2.801403710017355,2.8020892578817325,2.8027737252919755,2.8041394323353503,2.8055008581584002,2.806179973983887,2.8068580295188172,2.807535028068853,2.808210972924222,2.808885867359812,2.8095597146352675,2.8109042806687006,2.8115750058705933,2.812244696800369,2.8135809885681917,2.81424759573192,2.814913181275074,2.815577748324267,2.816241299991783,2.8175653695597807,2.8182258936139557,2.8188854145940097,2.8195439355418688,2.82020145948564,2.8208579894397,2.821513528404773,2.8221680793680175,2.8228216453031045,2.823474229170301,2.824125833916549,2.824776462475546],\"y\":[0.33223641549144334,0.3364597338485295,0.3410386316775229,0.345177616542704,0.3498600821923312,0.35410843914740087,0.35888620440586905,0.36342393291717634,0.36754227352057667,0.3716219271760213,0.3762118502826728,0.3809344633307019,0.38578495884333575,0.39022836246913006,0.39357520326958756,0.3981136917305025,0.4024333462193119,0.40756084948636256,0.41547416810923576,0.4189638307036227,0.4234097277330934,0.4273237863572472,0.4315245841874509,0.4360035356698965,0.4438885467773719,0.44824241263443915,0.4520932490177314,0.4562141553579888,0.4605971888976015,0.4643404846276673,0.47231754631684186,0.4766867429456447,0.4802944600030065,0.4844422076424071,0.4886916983169406,0.49692964807321494,0.5005109105263371,0.5041989185394449,0.5075860397630108,0.5121505369220305,0.5156089492344803,0.5206145218782359,0.5236164190543707,0.5277587525209719,0.5312233745330268,0.5346605758284444,0.5386993795424068,0.543074235033532,0.546542663478131,0.5497387312648989,0.5535189401489695,0.5571461423183631,0.5608626947274648,0.5641924606261979,0.5677319625480691,0.5718252490408291,0.5755342183198644,0.5041989185394449,0.5830853663476876,0.5860243823869757,0.5895027962637638,0.5939502952639875,0.5972562829251418,0.5997739391463883,0.6037937041369629,0.6069185259482911,0.6105537053170945,0.6144753660903953,0.617629297757842,0.6216954623292787,0.6251065754034676,0.6283889300503115,0.631950826259217,0.6351820486562676,0.6385890832927169,0.6415732531781754,0.6451273992583911,0.6489451821656725,0.6518592692469489,0.6548500905613942,0.6581068355063929,0.6618126855372612,0.6655809910179531,0.6718205601832489,0.6758699553189567,0.6791552412833538,0.6820547770738072,0.6859207921945354,0.6900187807886953,0.6930230679236941,0.6959192528314,0.6919651027673603,0.7040646794085674,0.7084209001347128,0.7113853790984517,0.714497408649806,0.7175872968554604,0.7209031708134575,0.7272158209084926,0.7306207978872828,0.7335182514344876,0.7368743616484226,0.7395723444500919,0.7429606702141525,0.7460890430562003,0.7487305560984945,0.7520484478194386,0.7551122663950712,0.7583061817253068,0.7607993116307178,0.7641013764762288,0.7667845154978589,0.7700415543196687,0.7731279240333347,0.7762652182681095,0.779668627207148,0.7822575736633017,0.7851874200293618,0.7882390973821681,0.7913397039651394,0.7937205568135233,0.7974060496763821,0.8030472104911286,0.8060442357480883,0.8088858673598122,0.8119099804200989,0.814647069451856,0.8178296997456056,0.8205298485235197,0.8230827965328037,0.8276277047674334,0.8311656339094424,0.8338480495311481,0.836577274840649,0.840043330603494,0.8428587624452937,0.8459038388987825,0.8486201174341339,0.8515029527705447,0.8544275057878612,0.8567892887533162,0.8600383898071935,0.862489166905897,0.8654001181793015,0.8679975103449512,0.8709303583486958,0.873378736409141,0.8763910618191876,0.8796119070658508,0.8849651982007327,0.8882356732705672,0.8905886677054873,0.8928178243095762,0.8963057074660806,0.9035782936630544,0.9062811557721531,0.9095025414054154,0.9120625555885024,0.9170326221623933,0.9197577805018942,0.9221543252310589,0.9246410474171629,0.927319024959656,0.929776432804902,0.933234128714808,0.9378687965638594,0.9406160823374076,0.9436923271060167,0.9464031338990546,0.9489017609702137,0.9506082247842308,0.9527924430440922,0.9553028227616917,0.9582771255476976,0.9606610072709818,0.9631737163752516,0.9656719712201067,0.9683428309589455,0.9707651597807677,0.9734049744100607,0.9763041165520028,0.9817733186277472,0.9865030153867405,0.9889600703903381,0.9909600996821993,0.9935244031670656,0.9960298284110767,0.9988693638823443,1.0008243766056055,1.0062092405376575,1.0083446292526892,1.0107662335184253,1.0161555119514545,1.0187836888746968,1.0208168870289072,1.022799404511688,1.025223915178311,1.030113752707593,1.0324172788327692,1.0349090733677482,1.037107632667927,1.039731296098691,1.0424573745743209,1.0445005623706412,1.046690221370057,1.0494506181315495,1.0514226660890345,1.053884790394692,1.056256735850139]}],                        {\"autosize\":false,\"height\":600,\"template\":{\"data\":{\"bar\":[{\"error_x\":{\"color\":\"#2a3f5f\"},\"error_y\":{\"color\":\"#2a3f5f\"},\"marker\":{\"line\":{\"color\":\"#E5ECF6\",\"width\":0.5},\"pattern\":{\"fillmode\":\"overlay\",\"size\":10,\"solidity\":0.2}},\"type\":\"bar\"}],\"barpolar\":[{\"marker\":{\"line\":{\"color\":\"#E5ECF6\",\"width\":0.5},\"pattern\":{\"fillmode\":\"overlay\",\"size\":10,\"solidity\":0.2}},\"type\":\"barpolar\"}],\"carpet\":[{\"aaxis\":{\"endlinecolor\":\"#2a3f5f\",\"gridcolor\":\"white\",\"linecolor\":\"white\",\"minorgridcolor\":\"white\",\"startlinecolor\":\"#2a3f5f\"},\"baxis\":{\"endlinecolor\":\"#2a3f5f\",\"gridcolor\":\"white\",\"linecolor\":\"white\",\"minorgridcolor\":\"white\",\"startlinecolor\":\"#2a3f5f\"},\"type\":\"carpet\"}],\"choropleth\":[{\"colorbar\":{\"outlinewidth\":0,\"ticks\":\"\"},\"type\":\"choropleth\"}],\"contour\":[{\"colorbar\":{\"outlinewidth\":0,\"ticks\":\"\"},\"colorscale\":[[0.0,\"#0d0887\"],[0.1111111111111111,\"#46039f\"],[0.2222222222222222,\"#7201a8\"],[0.3333333333333333,\"#9c179e\"],[0.4444444444444444,\"#bd3786\"],[0.5555555555555556,\"#d8576b\"],[0.6666666666666666,\"#ed7953\"],[0.7777777777777778,\"#fb9f3a\"],[0.8888888888888888,\"#fdca26\"],[1.0,\"#f0f921\"]],\"type\":\"contour\"}],\"contourcarpet\":[{\"colorbar\":{\"outlinewidth\":0,\"ticks\":\"\"},\"type\":\"contourcarpet\"}],\"heatmap\":[{\"colorbar\":{\"outlinewidth\":0,\"ticks\":\"\"},\"colorscale\":[[0.0,\"#0d0887\"],[0.1111111111111111,\"#46039f\"],[0.2222222222222222,\"#7201a8\"],[0.3333333333333333,\"#9c179e\"],[0.4444444444444444,\"#bd3786\"],[0.5555555555555556,\"#d8576b\"],[0.6666666666666666,\"#ed7953\"],[0.7777777777777778,\"#fb9f3a\"],[0.8888888888888888,\"#fdca26\"],[1.0,\"#f0f921\"]],\"type\":\"heatmap\"}],\"heatmapgl\":[{\"colorbar\":{\"outlinewidth\":0,\"ticks\":\"\"},\"colorscale\":[[0.0,\"#0d0887\"],[0.1111111111111111,\"#46039f\"],[0.2222222222222222,\"#7201a8\"],[0.3333333333333333,\"#9c179e\"],[0.4444444444444444,\"#bd3786\"],[0.5555555555555556,\"#d8576b\"],[0.6666666666666666,\"#ed7953\"],[0.7777777777777778,\"#fb9f3a\"],[0.8888888888888888,\"#fdca26\"],[1.0,\"#f0f921\"]],\"type\":\"heatmapgl\"}],\"histogram\":[{\"marker\":{\"pattern\":{\"fillmode\":\"overlay\",\"size\":10,\"solidity\":0.2}},\"type\":\"histogram\"}],\"histogram2d\":[{\"colorbar\":{\"outlinewidth\":0,\"ticks\":\"\"},\"colorscale\":[[0.0,\"#0d0887\"],[0.1111111111111111,\"#46039f\"],[0.2222222222222222,\"#7201a8\"],[0.3333333333333333,\"#9c179e\"],[0.4444444444444444,\"#bd3786\"],[0.5555555555555556,\"#d8576b\"],[0.6666666666666666,\"#ed7953\"],[0.7777777777777778,\"#fb9f3a\"],[0.8888888888888888,\"#fdca26\"],[1.0,\"#f0f921\"]],\"type\":\"histogram2d\"}],\"histogram2dcontour\":[{\"colorbar\":{\"outlinewidth\":0,\"ticks\":\"\"},\"colorscale\":[[0.0,\"#0d0887\"],[0.1111111111111111,\"#46039f\"],[0.2222222222222222,\"#7201a8\"],[0.3333333333333333,\"#9c179e\"],[0.4444444444444444,\"#bd3786\"],[0.5555555555555556,\"#d8576b\"],[0.6666666666666666,\"#ed7953\"],[0.7777777777777778,\"#fb9f3a\"],[0.8888888888888888,\"#fdca26\"],[1.0,\"#f0f921\"]],\"type\":\"histogram2dcontour\"}],\"mesh3d\":[{\"colorbar\":{\"outlinewidth\":0,\"ticks\":\"\"},\"type\":\"mesh3d\"}],\"parcoords\":[{\"line\":{\"colorbar\":{\"outlinewidth\":0,\"ticks\":\"\"}},\"type\":\"parcoords\"}],\"pie\":[{\"automargin\":true,\"type\":\"pie\"}],\"scatter\":[{\"marker\":{\"colorbar\":{\"outlinewidth\":0,\"ticks\":\"\"}},\"type\":\"scatter\"}],\"scatter3d\":[{\"line\":{\"colorbar\":{\"outlinewidth\":0,\"ticks\":\"\"}},\"marker\":{\"colorbar\":{\"outlinewidth\":0,\"ticks\":\"\"}},\"type\":\"scatter3d\"}],\"scattercarpet\":[{\"marker\":{\"colorbar\":{\"outlinewidth\":0,\"ticks\":\"\"}},\"type\":\"scattercarpet\"}],\"scattergeo\":[{\"marker\":{\"colorbar\":{\"outlinewidth\":0,\"ticks\":\"\"}},\"type\":\"scattergeo\"}],\"scattergl\":[{\"marker\":{\"colorbar\":{\"outlinewidth\":0,\"ticks\":\"\"}},\"type\":\"scattergl\"}],\"scattermapbox\":[{\"marker\":{\"colorbar\":{\"outlinewidth\":0,\"ticks\":\"\"}},\"type\":\"scattermapbox\"}],\"scatterpolar\":[{\"marker\":{\"colorbar\":{\"outlinewidth\":0,\"ticks\":\"\"}},\"type\":\"scatterpolar\"}],\"scatterpolargl\":[{\"marker\":{\"colorbar\":{\"outlinewidth\":0,\"ticks\":\"\"}},\"type\":\"scatterpolargl\"}],\"scatterternary\":[{\"marker\":{\"colorbar\":{\"outlinewidth\":0,\"ticks\":\"\"}},\"type\":\"scatterternary\"}],\"surface\":[{\"colorbar\":{\"outlinewidth\":0,\"ticks\":\"\"},\"colorscale\":[[0.0,\"#0d0887\"],[0.1111111111111111,\"#46039f\"],[0.2222222222222222,\"#7201a8\"],[0.3333333333333333,\"#9c179e\"],[0.4444444444444444,\"#bd3786\"],[0.5555555555555556,\"#d8576b\"],[0.6666666666666666,\"#ed7953\"],[0.7777777777777778,\"#fb9f3a\"],[0.8888888888888888,\"#fdca26\"],[1.0,\"#f0f921\"]],\"type\":\"surface\"}],\"table\":[{\"cells\":{\"fill\":{\"color\":\"#EBF0F8\"},\"line\":{\"color\":\"white\"}},\"header\":{\"fill\":{\"color\":\"#C8D4E3\"},\"line\":{\"color\":\"white\"}},\"type\":\"table\"}]},\"layout\":{\"annotationdefaults\":{\"arrowcolor\":\"#2a3f5f\",\"arrowhead\":0,\"arrowwidth\":1},\"autotypenumbers\":\"strict\",\"coloraxis\":{\"colorbar\":{\"outlinewidth\":0,\"ticks\":\"\"}},\"colorscale\":{\"diverging\":[[0,\"#8e0152\"],[0.1,\"#c51b7d\"],[0.2,\"#de77ae\"],[0.3,\"#f1b6da\"],[0.4,\"#fde0ef\"],[0.5,\"#f7f7f7\"],[0.6,\"#e6f5d0\"],[0.7,\"#b8e186\"],[0.8,\"#7fbc41\"],[0.9,\"#4d9221\"],[1,\"#276419\"]],\"sequential\":[[0.0,\"#0d0887\"],[0.1111111111111111,\"#46039f\"],[0.2222222222222222,\"#7201a8\"],[0.3333333333333333,\"#9c179e\"],[0.4444444444444444,\"#bd3786\"],[0.5555555555555556,\"#d8576b\"],[0.6666666666666666,\"#ed7953\"],[0.7777777777777778,\"#fb9f3a\"],[0.8888888888888888,\"#fdca26\"],[1.0,\"#f0f921\"]],\"sequentialminus\":[[0.0,\"#0d0887\"],[0.1111111111111111,\"#46039f\"],[0.2222222222222222,\"#7201a8\"],[0.3333333333333333,\"#9c179e\"],[0.4444444444444444,\"#bd3786\"],[0.5555555555555556,\"#d8576b\"],[0.6666666666666666,\"#ed7953\"],[0.7777777777777778,\"#fb9f3a\"],[0.8888888888888888,\"#fdca26\"],[1.0,\"#f0f921\"]]},\"colorway\":[\"#636efa\",\"#EF553B\",\"#00cc96\",\"#ab63fa\",\"#FFA15A\",\"#19d3f3\",\"#FF6692\",\"#B6E880\",\"#FF97FF\",\"#FECB52\"],\"font\":{\"color\":\"#2a3f5f\"},\"geo\":{\"bgcolor\":\"white\",\"lakecolor\":\"white\",\"landcolor\":\"#E5ECF6\",\"showlakes\":true,\"showland\":true,\"subunitcolor\":\"white\"},\"hoverlabel\":{\"align\":\"left\"},\"hovermode\":\"closest\",\"mapbox\":{\"style\":\"light\"},\"paper_bgcolor\":\"white\",\"plot_bgcolor\":\"#E5ECF6\",\"polar\":{\"angularaxis\":{\"gridcolor\":\"white\",\"linecolor\":\"white\",\"ticks\":\"\"},\"bgcolor\":\"#E5ECF6\",\"radialaxis\":{\"gridcolor\":\"white\",\"linecolor\":\"white\",\"ticks\":\"\"}},\"scene\":{\"xaxis\":{\"backgroundcolor\":\"#E5ECF6\",\"gridcolor\":\"white\",\"gridwidth\":2,\"linecolor\":\"white\",\"showbackground\":true,\"ticks\":\"\",\"zerolinecolor\":\"white\"},\"yaxis\":{\"backgroundcolor\":\"#E5ECF6\",\"gridcolor\":\"white\",\"gridwidth\":2,\"linecolor\":\"white\",\"showbackground\":true,\"ticks\":\"\",\"zerolinecolor\":\"white\"},\"zaxis\":{\"backgroundcolor\":\"#E5ECF6\",\"gridcolor\":\"white\",\"gridwidth\":2,\"linecolor\":\"white\",\"showbackground\":true,\"ticks\":\"\",\"zerolinecolor\":\"white\"}},\"shapedefaults\":{\"line\":{\"color\":\"#2a3f5f\"}},\"ternary\":{\"aaxis\":{\"gridcolor\":\"white\",\"linecolor\":\"white\",\"ticks\":\"\"},\"baxis\":{\"gridcolor\":\"white\",\"linecolor\":\"white\",\"ticks\":\"\"},\"bgcolor\":\"#E5ECF6\",\"caxis\":{\"gridcolor\":\"white\",\"linecolor\":\"white\",\"ticks\":\"\"}},\"title\":{\"x\":0.05},\"xaxis\":{\"automargin\":true,\"gridcolor\":\"white\",\"linecolor\":\"white\",\"ticks\":\"\",\"title\":{\"standoff\":15},\"zerolinecolor\":\"white\",\"zerolinewidth\":2},\"yaxis\":{\"automargin\":true,\"gridcolor\":\"white\",\"linecolor\":\"white\",\"ticks\":\"\",\"title\":{\"standoff\":15},\"zerolinecolor\":\"white\",\"zerolinewidth\":2}}},\"title\":{\"text\":\"$\\\\log_{10}(Fem) \\\\,\\\\, vs \\\\,\\\\, \\\\log_{10}(Temperatura)$\"},\"width\":1150,\"xaxis\":{\"title\":{\"text\":\"$\\\\log_{10}(Temperatura)$\"}},\"yaxis\":{\"title\":{\"text\":\"$\\\\log_{10}(Fem)$\"}}},                        {\"responsive\": true}                    ).then(function(){\n",
       "                            \n",
       "var gd = document.getElementById('74d3648a-5c28-4aa0-bbe8-1f2e43f1e122');\n",
       "var x = new MutationObserver(function (mutations, observer) {{\n",
       "        var display = window.getComputedStyle(gd).display;\n",
       "        if (!display || display === 'none') {{\n",
       "            console.log([gd, 'removed!']);\n",
       "            Plotly.purge(gd);\n",
       "            observer.disconnect();\n",
       "        }}\n",
       "}});\n",
       "\n",
       "// Listen for the removal of the full notebook cells\n",
       "var notebookContainer = gd.closest('#notebook-container');\n",
       "if (notebookContainer) {{\n",
       "    x.observe(notebookContainer, {childList: true});\n",
       "}}\n",
       "\n",
       "// Listen for the clearing of the current output cell\n",
       "var outputEl = gd.closest('.output');\n",
       "if (outputEl) {{\n",
       "    x.observe(outputEl, {childList: true});\n",
       "}}\n",
       "\n",
       "                        })                };                });            </script>        </div>"
      ]
     },
     "metadata": {},
     "output_type": "display_data"
    }
   ],
   "source": [
    "fig = go.Figure(\n",
    "data = go.Scatter(\n",
    "    x= df['ln_Temperatura_K'],\n",
    "    y = df['ln_Fem'],\n",
    "    mode = 'markers',\n",
    "    marker = dict(\n",
    "    size = 10,\n",
    "    color = df['Temperatura_K'],\n",
    "    showscale = True,\n",
    "    ),\n",
    "    text = df['Temperatura_K']\n",
    ")\n",
    ")\n",
    "\n",
    "fig.update_layout(title = r'$\\log_{10}(Fem) \\,\\, vs \\,\\, \\log_{10}(Temperatura)$'\n",
    "                 , xaxis_title = r'$\\log_{10}(Temperatura)$'\n",
    "                 , yaxis_title = r'$\\log_{10}(Fem)$'\n",
    "                 , autosize=False\n",
    "                 , width=1150\n",
    "                 , height=600)\n",
    "fig.show()"
   ]
  },
  {
   "cell_type": "markdown",
   "metadata": {},
   "source": [
    "### Creación del modelo"
   ]
  },
  {
   "cell_type": "code",
   "execution_count": 40,
   "metadata": {
    "tags": []
   },
   "outputs": [],
   "source": [
    "from sklearn.model_selection import train_test_split"
   ]
  },
  {
   "cell_type": "code",
   "execution_count": 41,
   "metadata": {},
   "outputs": [],
   "source": [
    "from sklearn.linear_model import LinearRegression"
   ]
  },
  {
   "cell_type": "markdown",
   "metadata": {},
   "source": [
    "Indiquemos las imágenes del dataframe con la que se contruirán el modleo: X variable independiente, y variable dependiente."
   ]
  },
  {
   "cell_type": "code",
   "execution_count": 42,
   "metadata": {},
   "outputs": [],
   "source": [
    "X = df.iloc[:, -2:-1].values\n",
    "y = df.iloc[:, -1].values"
   ]
  },
  {
   "cell_type": "markdown",
   "metadata": {},
   "source": [
    "Verifiquemos que los conjuntos sean los deseados:"
   ]
  },
  {
   "cell_type": "code",
   "execution_count": 43,
   "metadata": {
    "tags": []
   },
   "outputs": [
    {
     "name": "stdout",
     "output_type": "stream",
     "text": [
      "[[2.64542227]\n",
      " [2.64640373]\n",
      " [2.64738297]\n",
      " [2.64836001]\n",
      " [2.64933486]]\n",
      "[0.33223642 0.33645973 0.34103863 0.34517762 0.34986008]\n"
     ]
    }
   ],
   "source": [
    "print(X[0:5])\n",
    "print(y[0:5])"
   ]
  },
  {
   "cell_type": "markdown",
   "metadata": {},
   "source": [
    "Contruyamos el conjunto de entrenamiento y de testeo con la partición usual de 80-20:"
   ]
  },
  {
   "cell_type": "code",
   "execution_count": 44,
   "metadata": {},
   "outputs": [],
   "source": [
    "X_train, X_test, y_train, y_test = train_test_split(X, y, test_size = .2, random_state = 0)"
   ]
  },
  {
   "cell_type": "code",
   "execution_count": 45,
   "metadata": {},
   "outputs": [
    {
     "data": {
      "text/plain": [
       "(167, 1)"
      ]
     },
     "execution_count": 45,
     "metadata": {},
     "output_type": "execute_result"
    }
   ],
   "source": [
    "X_train.shape"
   ]
  },
  {
   "cell_type": "code",
   "execution_count": 46,
   "metadata": {},
   "outputs": [
    {
     "data": {
      "text/plain": [
       "array([2.74193908, 2.77158748, 2.64933486, 2.71516736, 2.76789762,\n",
       "       2.68930886, 2.70586371, 2.74507479, 2.67209786, 2.73957234,\n",
       "       2.7930916 , 2.81756537, 2.65321251, 2.68574174, 2.7458552 ,\n",
       "       2.75966784, 2.76192784, 2.7466342 , 2.8122447 , 2.74429298,\n",
       "       2.71683772, 2.70415052, 2.67024585, 2.67577834, 2.70329138,\n",
       "       2.69983773, 2.78103694, 2.72835378, 2.66464198, 2.78532984,\n",
       "       2.76342799, 2.69810055, 2.79448805, 2.69548168, 2.80413943,\n",
       "       2.77305469, 2.74350976, 2.77011529, 2.74741181, 2.80550086,\n",
       "       2.7355989 , 2.77887447, 2.65896484, 2.67302091, 2.74818803,\n",
       "       2.80955971, 2.66558099, 2.69108149, 2.79795964, 2.82216808,\n",
       "       2.77378644, 2.70500796, 2.64738297, 2.70243054, 2.82151353,\n",
       "       2.81491318, 2.68841982, 2.65513843, 2.79098848, 2.71432976,\n",
       "       2.81954394, 2.82085799, 2.80753503, 2.78031731, 2.7363965 ,\n",
       "       2.64836001, 2.73239376, 2.75739603, 2.78958071, 2.81888541,\n",
       "       2.6946052 , 2.74896286, 2.64542227, 2.73319727, 2.7686381 ,\n",
       "       2.73399929, 2.70671778, 2.77524626, 2.68663627, 2.71096312,\n",
       "       2.69372695, 2.69284692, 2.72509452, 2.82347423, 2.6580114 ,\n",
       "       2.78390358, 2.66838592, 2.71850169, 2.73798733, 2.76417613,\n",
       "       2.79518459, 2.82412583, 2.65127801, 2.71011737, 2.72427587,\n",
       "       2.75511227, 2.78746047, 2.80071708, 2.78816837, 2.72997429,\n",
       "       2.80140371, 2.6560982 , 2.75358306, 2.74036269, 2.68124124,\n",
       "       2.70070372, 2.70757018, 2.64640373, 2.75434834, 2.82477646,\n",
       "       2.68752896, 2.74272513, 2.76492298, 2.80277373, 2.66181269,\n",
       "       2.68394713, 2.76566855, 2.69722934, 2.78887512, 2.76117581,\n",
       "       2.6794279 , 2.673942  , 2.74973632, 2.79028516, 2.77959649,\n",
       "       2.67669361, 2.79657433, 2.76042248, 2.80617997, 2.67760695,\n",
       "       2.79379038, 2.77232171, 2.80208926, 2.77597433, 2.67486114,\n",
       "       2.73719264, 2.72181062, 2.79934055, 2.71933129, 2.75050839,\n",
       "       2.77670118, 2.82020146, 2.71349054, 2.7176705 , 2.67117284,\n",
       "       2.79169065, 2.72098574, 2.8162413 , 2.79865065, 2.81822589,\n",
       "       2.68484536, 2.8142476 , 2.70156799, 2.77085201, 2.72754126,\n",
       "       2.71180723, 2.72672721, 2.68214508, 2.66651798, 2.65417654,\n",
       "       2.7411516 , 2.81557775, 2.70926996, 2.81358099, 2.75204845,\n",
       "       2.6919651 , 2.79726754])"
      ]
     },
     "execution_count": 46,
     "metadata": {},
     "output_type": "execute_result"
    }
   ],
   "source": [
    "X_train.flatten()"
   ]
  },
  {
   "cell_type": "markdown",
   "metadata": {},
   "source": [
    "Contruyamos el modelo"
   ]
  },
  {
   "cell_type": "code",
   "execution_count": 47,
   "metadata": {},
   "outputs": [],
   "source": [
    "regression = LinearRegression()"
   ]
  },
  {
   "cell_type": "code",
   "execution_count": 48,
   "metadata": {},
   "outputs": [],
   "source": [
    "regression.fit(X_train, y_train)\n",
    "reg = regression.fit(X_train, y_train)"
   ]
  },
  {
   "cell_type": "code",
   "execution_count": 49,
   "metadata": {},
   "outputs": [],
   "source": [
    "y_pred = regression.predict(X_test)"
   ]
  },
  {
   "cell_type": "markdown",
   "metadata": {},
   "source": [
    "Por último, veamos el comportamiento gráfico de la regresión tanto con el conjunto de entrenamiento como con el de prueba o testeo."
   ]
  },
  {
   "cell_type": "code",
   "execution_count": 50,
   "metadata": {
    "jupyter": {
     "source_hidden": true
    },
    "tags": []
   },
   "outputs": [
    {
     "data": {
      "image/png": "[encoded data removed]",
      "text/plain": [
       "<Figure size 432x288 with 1 Axes>"
      ]
     },
     "metadata": {
      "needs_background": "light"
     },
     "output_type": "display_data"
    }
   ],
   "source": [
    "plt.scatter(X_train, y_train, color = \"red\")\n",
    "plt.plot(X_train, regression.predict(X_train), color = \"blue\")\n",
    "plt.title(\"Sueldo vs Años de Experiencia (Conjunto de Entrenamiento)\")\n",
    "plt.xlabel(\"Años de Experiencia\")\n",
    "plt.ylabel(\"Sueldo (en $)\")\n",
    "plt.show()"
   ]
  },
  {
   "cell_type": "code",
   "execution_count": 51,
   "metadata": {},
   "outputs": [
    {
     "data": {
      "application/vnd.plotly.v1+json": {
       "config": {
        "plotlyServerURL": "https://plot.ly"
       },
       "data": [
        {
         "marker": {
          "color": [
           2.741939077729199,
           2.7715874808812555,
           2.649334858712142,
           2.7151673578484576,
           2.767897616018091,
           2.6893088591236203,
           2.7058637122839193,
           2.7450747915820575,
           2.6720978579357175,
           2.739572344450092,
           2.79309160017658,
           2.8175653695597807,
           2.6532125137753435,
           2.6857417386022635,
           2.745855195173729,
           2.7596678446896306,
           2.761927838420529,
           2.7466341989375787,
           2.812244696800369,
           2.7442929831226763,
           2.7168377232995247,
           2.7041505168397992,
           2.670245853074124,
           2.6757783416740852,
           2.7032913781186614,
           2.699837725867246,
           2.7810369386211318,
           2.7283537820212285,
           2.6646419755561257,
           2.785329835010767,
           2.7634279935629373,
           2.6981005456233897,
           2.7944880466591697,
           2.6954816764901977,
           2.8041394323353503,
           2.7730546933642626,
           2.74350976472843,
           2.7701152947871015,
           2.747411807886423,
           2.8055008581584002,
           2.73559889969818,
           2.7788744720027396,
           2.6589648426644352,
           2.673020907128896,
           2.7481880270062002,
           2.8095597146352675,
           2.6655809910179533,
           2.6910814921229687,
           2.797959643737196,
           2.8221680793680175,
           2.7737864449811935,
           2.705007959333336,
           2.6473829701146196,
           2.7024305364455254,
           2.821513528404773,
           2.814913181275074,
           2.6884198220027105,
           2.655138434811382,
           2.790988475088816,
           2.714329759745233,
           2.8195439355418688,
           2.8208579894397,
           2.807535028068853,
           2.780317312140151,
           2.7363965022766426,
           2.6483600109809315,
           2.7323937598229686,
           2.7573960287930244,
           2.7895807121644256,
           2.8188854145940097,
           2.694605198933569,
           2.748962861256161,
           2.645422269349092,
           2.7331972651065692,
           2.7686381012476144,
           2.733999286538387,
           2.7067177823367587,
           2.7752462597402365,
           2.6866362692622934,
           2.710963118995276,
           2.693726948923647,
           2.69284691927723,
           2.725094521081469,
           2.823474229170301,
           2.6580113966571126,
           2.783903579272735,
           2.66838591669,
           2.718501688867274,
           2.737987326333431,
           2.7641761323903307,
           2.795184589682424,
           2.824125833916549,
           2.651278013998144,
           2.7101173651118162,
           2.724275869600789,
           2.7551122663950713,
           2.787460474518415,
           2.800717078282385,
           2.788168371141168,
           2.7299742856995555,
           2.801403710017355,
           2.656098202012832,
           2.7535830588929064,
           2.7403626894942437,
           2.681241237375587,
           2.7007037171450192,
           2.7075701760979363,
           2.6464037262230695,
           2.754348335711019,
           2.824776462475546,
           2.6875289612146345,
           2.7427251313046983,
           2.7649229846498886,
           2.8027737252919755,
           2.661812685537261,
           2.683947130751512,
           2.765668554759014,
           2.6972293427597176,
           2.788875115775417,
           2.7611758131557314,
           2.6794278966121188,
           2.673941998634088,
           2.749736315569061,
           2.7902851640332416,
           2.7795964912578244,
           2.6766936096248664,
           2.7965743332104296,
           2.760422483423212,
           2.806179973983887,
           2.677606952720493,
           2.7937903846908188,
           2.77232170672292,
           2.8020892578817325,
           2.775974331129369,
           2.6748611407378116,
           2.7371926427047373,
           2.7218106152125467,
           2.7993405494535817,
           2.7193312869837265,
           2.7505083948513462,
           2.776701183988411,
           2.82020145948564,
           2.7134905430939424,
           2.717670503002262,
           2.6711728427150834,
           2.791690649020118,
           2.7209857441537393,
           2.816241299991783,
           2.798650645445269,
           2.8182258936139557,
           2.6848453616444123,
           2.81424759573192,
           2.7015679850559273,
           2.7708520116421442,
           2.727541257028556,
           2.711807229041191,
           2.7267272090265724,
           2.682145076373832,
           2.6665179805548807,
           2.6541765418779604,
           2.741151598851785,
           2.815577748324267,
           2.709269960975831,
           2.8135809885681917,
           2.7520484478194387,
           2.6919651027673606,
           2.7972675408307164
          ],
          "showscale": true,
          "size": 10
         },
         "mode": "markers",
         "text": [
          [
           2.741939077729199
          ],
          [
           2.7715874808812555
          ],
          [
           2.649334858712142
          ],
          [
           2.7151673578484576
          ],
          [
           2.767897616018091
          ],
          [
           2.6893088591236203
          ],
          [
           2.7058637122839193
          ],
          [
           2.7450747915820575
          ],
          [
           2.6720978579357175
          ],
          [
           2.739572344450092
          ],
          [
           2.79309160017658
          ],
          [
           2.8175653695597807
          ],
          [
           2.6532125137753435
          ],
          [
           2.6857417386022635
          ],
          [
           2.745855195173729
          ],
          [
           2.7596678446896306
          ],
          [
           2.761927838420529
          ],
          [
           2.7466341989375787
          ],
          [
           2.812244696800369
          ],
          [
           2.7442929831226763
          ],
          [
           2.7168377232995247
          ],
          [
           2.7041505168397992
          ],
          [
           2.670245853074124
          ],
          [
           2.6757783416740852
          ],
          [
           2.7032913781186614
          ],
          [
           2.699837725867246
          ],
          [
           2.7810369386211318
          ],
          [
           2.7283537820212285
          ],
          [
           2.6646419755561257
          ],
          [
           2.785329835010767
          ],
          [
           2.7634279935629373
          ],
          [
           2.6981005456233897
          ],
          [
           2.7944880466591697
          ],
          [
           2.6954816764901977
          ],
          [
           2.8041394323353503
          ],
          [
           2.7730546933642626
          ],
          [
           2.74350976472843
          ],
          [
           2.7701152947871015
          ],
          [
           2.747411807886423
          ],
          [
           2.8055008581584002
          ],
          [
           2.73559889969818
          ],
          [
           2.7788744720027396
          ],
          [
           2.6589648426644352
          ],
          [
           2.673020907128896
          ],
          [
           2.7481880270062002
          ],
          [
           2.8095597146352675
          ],
          [
           2.6655809910179533
          ],
          [
           2.6910814921229687
          ],
          [
           2.797959643737196
          ],
          [
           2.8221680793680175
          ],
          [
           2.7737864449811935
          ],
          [
           2.705007959333336
          ],
          [
           2.6473829701146196
          ],
          [
           2.7024305364455254
          ],
          [
           2.821513528404773
          ],
          [
           2.814913181275074
          ],
          [
           2.6884198220027105
          ],
          [
           2.655138434811382
          ],
          [
           2.790988475088816
          ],
          [
           2.714329759745233
          ],
          [
           2.8195439355418688
          ],
          [
           2.8208579894397
          ],
          [
           2.807535028068853
          ],
          [
           2.780317312140151
          ],
          [
           2.7363965022766426
          ],
          [
           2.6483600109809315
          ],
          [
           2.7323937598229686
          ],
          [
           2.7573960287930244
          ],
          [
           2.7895807121644256
          ],
          [
           2.8188854145940097
          ],
          [
           2.694605198933569
          ],
          [
           2.748962861256161
          ],
          [
           2.645422269349092
          ],
          [
           2.7331972651065692
          ],
          [
           2.7686381012476144
          ],
          [
           2.733999286538387
          ],
          [
           2.7067177823367587
          ],
          [
           2.7752462597402365
          ],
          [
           2.6866362692622934
          ],
          [
           2.710963118995276
          ],
          [
           2.693726948923647
          ],
          [
           2.69284691927723
          ],
          [
           2.725094521081469
          ],
          [
           2.823474229170301
          ],
          [
           2.6580113966571126
          ],
          [
           2.783903579272735
          ],
          [
           2.66838591669
          ],
          [
           2.718501688867274
          ],
          [
           2.737987326333431
          ],
          [
           2.7641761323903307
          ],
          [
           2.795184589682424
          ],
          [
           2.824125833916549
          ],
          [
           2.651278013998144
          ],
          [
           2.7101173651118162
          ],
          [
           2.724275869600789
          ],
          [
           2.7551122663950713
          ],
          [
           2.787460474518415
          ],
          [
           2.800717078282385
          ],
          [
           2.788168371141168
          ],
          [
           2.7299742856995555
          ],
          [
           2.801403710017355
          ],
          [
           2.656098202012832
          ],
          [
           2.7535830588929064
          ],
          [
           2.7403626894942437
          ],
          [
           2.681241237375587
          ],
          [
           2.7007037171450192
          ],
          [
           2.7075701760979363
          ],
          [
           2.6464037262230695
          ],
          [
           2.754348335711019
          ],
          [
           2.824776462475546
          ],
          [
           2.6875289612146345
          ],
          [
           2.7427251313046983
          ],
          [
           2.7649229846498886
          ],
          [
           2.8027737252919755
          ],
          [
           2.661812685537261
          ],
          [
           2.683947130751512
          ],
          [
           2.765668554759014
          ],
          [
           2.6972293427597176
          ],
          [
           2.788875115775417
          ],
          [
           2.7611758131557314
          ],
          [
           2.6794278966121188
          ],
          [
           2.673941998634088
          ],
          [
           2.749736315569061
          ],
          [
           2.7902851640332416
          ],
          [
           2.7795964912578244
          ],
          [
           2.6766936096248664
          ],
          [
           2.7965743332104296
          ],
          [
           2.760422483423212
          ],
          [
           2.806179973983887
          ],
          [
           2.677606952720493
          ],
          [
           2.7937903846908188
          ],
          [
           2.77232170672292
          ],
          [
           2.8020892578817325
          ],
          [
           2.775974331129369
          ],
          [
           2.6748611407378116
          ],
          [
           2.7371926427047373
          ],
          [
           2.7218106152125467
          ],
          [
           2.7993405494535817
          ],
          [
           2.7193312869837265
          ],
          [
           2.7505083948513462
          ],
          [
           2.776701183988411
          ],
          [
           2.82020145948564
          ],
          [
           2.7134905430939424
          ],
          [
           2.717670503002262
          ],
          [
           2.6711728427150834
          ],
          [
           2.791690649020118
          ],
          [
           2.7209857441537393
          ],
          [
           2.816241299991783
          ],
          [
           2.798650645445269
          ],
          [
           2.8182258936139557
          ],
          [
           2.6848453616444123
          ],
          [
           2.81424759573192
          ],
          [
           2.7015679850559273
          ],
          [
           2.7708520116421442
          ],
          [
           2.727541257028556
          ],
          [
           2.711807229041191
          ],
          [
           2.7267272090265724
          ],
          [
           2.682145076373832
          ],
          [
           2.6665179805548807
          ],
          [
           2.6541765418779604
          ],
          [
           2.741151598851785
          ],
          [
           2.815577748324267
          ],
          [
           2.709269960975831
          ],
          [
           2.8135809885681917
          ],
          [
           2.7520484478194387
          ],
          [
           2.6919651027673606
          ],
          [
           2.7972675408307164
          ]
         ],
         "type": "scatter",
         "x": [
          2.741939077729199,
          2.7715874808812555,
          2.649334858712142,
          2.7151673578484576,
          2.767897616018091,
          2.6893088591236203,
          2.7058637122839193,
          2.7450747915820575,
          2.6720978579357175,
          2.739572344450092,
          2.79309160017658,
          2.8175653695597807,
          2.6532125137753435,
          2.6857417386022635,
          2.745855195173729,
          2.7596678446896306,
          2.761927838420529,
          2.7466341989375787,
          2.812244696800369,
          2.7442929831226763,
          2.7168377232995247,
          2.7041505168397992,
          2.670245853074124,
          2.6757783416740852,
          2.7032913781186614,
          2.699837725867246,
          2.7810369386211318,
          2.7283537820212285,
          2.6646419755561257,
          2.785329835010767,
          2.7634279935629373,
          2.6981005456233897,
          2.7944880466591697,
          2.6954816764901977,
          2.8041394323353503,
          2.7730546933642626,
          2.74350976472843,
          2.7701152947871015,
          2.747411807886423,
          2.8055008581584002,
          2.73559889969818,
          2.7788744720027396,
          2.6589648426644352,
          2.673020907128896,
          2.7481880270062002,
          2.8095597146352675,
          2.6655809910179533,
          2.6910814921229687,
          2.797959643737196,
          2.8221680793680175,
          2.7737864449811935,
          2.705007959333336,
          2.6473829701146196,
          2.7024305364455254,
          2.821513528404773,
          2.814913181275074,
          2.6884198220027105,
          2.655138434811382,
          2.790988475088816,
          2.714329759745233,
          2.8195439355418688,
          2.8208579894397,
          2.807535028068853,
          2.780317312140151,
          2.7363965022766426,
          2.6483600109809315,
          2.7323937598229686,
          2.7573960287930244,
          2.7895807121644256,
          2.8188854145940097,
          2.694605198933569,
          2.748962861256161,
          2.645422269349092,
          2.7331972651065692,
          2.7686381012476144,
          2.733999286538387,
          2.7067177823367587,
          2.7752462597402365,
          2.6866362692622934,
          2.710963118995276,
          2.693726948923647,
          2.69284691927723,
          2.725094521081469,
          2.823474229170301,
          2.6580113966571126,
          2.783903579272735,
          2.66838591669,
          2.718501688867274,
          2.737987326333431,
          2.7641761323903307,
          2.795184589682424,
          2.824125833916549,
          2.651278013998144,
          2.7101173651118162,
          2.724275869600789,
          2.7551122663950713,
          2.787460474518415,
          2.800717078282385,
          2.788168371141168,
          2.7299742856995555,
          2.801403710017355,
          2.656098202012832,
          2.7535830588929064,
          2.7403626894942437,
          2.681241237375587,
          2.7007037171450192,
          2.7075701760979363,
          2.6464037262230695,
          2.754348335711019,
          2.824776462475546,
          2.6875289612146345,
          2.7427251313046983,
          2.7649229846498886,
          2.8027737252919755,
          2.661812685537261,
          2.683947130751512,
          2.765668554759014,
          2.6972293427597176,
          2.788875115775417,
          2.7611758131557314,
          2.6794278966121188,
          2.673941998634088,
          2.749736315569061,
          2.7902851640332416,
          2.7795964912578244,
          2.6766936096248664,
          2.7965743332104296,
          2.760422483423212,
          2.806179973983887,
          2.677606952720493,
          2.7937903846908188,
          2.77232170672292,
          2.8020892578817325,
          2.775974331129369,
          2.6748611407378116,
          2.7371926427047373,
          2.7218106152125467,
          2.7993405494535817,
          2.7193312869837265,
          2.7505083948513462,
          2.776701183988411,
          2.82020145948564,
          2.7134905430939424,
          2.717670503002262,
          2.6711728427150834,
          2.791690649020118,
          2.7209857441537393,
          2.816241299991783,
          2.798650645445269,
          2.8182258936139557,
          2.6848453616444123,
          2.81424759573192,
          2.7015679850559273,
          2.7708520116421442,
          2.727541257028556,
          2.711807229041191,
          2.7267272090265724,
          2.682145076373832,
          2.6665179805548807,
          2.6541765418779604,
          2.741151598851785,
          2.815577748324267,
          2.709269960975831,
          2.8135809885681917,
          2.7520484478194387,
          2.6919651027673606,
          2.7972675408307164
         ],
         "y": [
          0.7460890430562003,
          0.8600383898071935,
          0.3498600821923312,
          0.6385890832927169,
          0.8459038388987825,
          0.5312233745330268,
          0.5997739391463883,
          0.7583061817253068,
          0.4520932490177314,
          0.7368743616484226,
          0.9406160823374076,
          1.030113752707593,
          0.36754227352057667,
          0.5156089492344803,
          0.7607993116307178,
          0.814647069451856,
          0.8230827965328037,
          0.7641013764762288,
          1.0107662335184253,
          0.7551122663950712,
          0.6451273992583911,
          0.5939502952639875,
          0.4438885467773719,
          0.47231754631684186,
          0.5895027962637638,
          0.5755342183198644,
          0.8963057074660806,
          0.6930230679236941,
          0.4189638307036227,
          0.9120625555885024,
          0.8276277047674334,
          0.5677319625480691,
          0.9464031338990546,
          0.5571461423183631,
          0.9817733186277472,
          0.8654001181793015,
          0.7520484478194386,
          0.8544275057878612,
          0.7667845154978589,
          0.9865030153867405,
          0.7209031708134575,
          0.8882356732705672,
          0.39357520326958756,
          0.4562141553579888,
          0.7700415543196687,
          1.0008243766056055,
          0.4234097277330934,
          0.5386993795424068,
          0.9582771255476976,
          1.046690221370057,
          0.8679975103449512,
          0.5972562829251418,
          0.3410386316775229,
          0.5860243823869757,
          1.0445005623706412,
          1.0208168870289072,
          0.5277587525209719,
          0.3762118502826728,
          0.933234128714808,
          0.6351820486562676,
          1.037107632667927,
          1.0424573745743209,
          0.9935244031670656,
          0.8928178243095762,
          0.7272158209084926,
          0.345177616542704,
          0.7084209001347128,
          0.8060442357480883,
          0.927319024959656,
          1.0349090733677482,
          0.5535189401489695,
          0.7731279240333347,
          0.33223641549144334,
          0.7113853790984517,
          0.8486201174341339,
          0.714497408649806,
          0.6037937041369629,
          0.873378736409141,
          0.5206145218782359,
          0.6216954623292787,
          0.5497387312648989,
          0.546542663478131,
          0.6791552412833538,
          1.0514226660890345,
          0.39022836246913006,
          0.9062811557721531,
          0.4360035356698965,
          0.6518592692469489,
          0.7335182514344876,
          0.8311656339094424,
          0.9489017609702137,
          1.053884790394692,
          0.35888620440586905,
          0.617629297757842,
          0.6758699553189567,
          0.7974060496763821,
          0.9197577805018942,
          0.9683428309589455,
          0.9221543252310589,
          0.6919651027673603,
          0.9707651597807677,
          0.3809344633307019,
          0.7913397039651394,
          0.7395723444500919,
          0.49692964807321494,
          0.5041989185394449,
          0.6069185259482911,
          0.3364597338485295,
          0.7937205568135233,
          1.056256735850139,
          0.5236164190543707,
          0.7487305560984945,
          0.8338480495311481,
          0.9763041165520028,
          0.40756084948636256,
          0.5075860397630108,
          0.836577274840649,
          0.5641924606261979,
          0.9246410474171629,
          0.8205298485235197,
          0.4886916983169406,
          0.4605971888976015,
          0.7762652182681095,
          0.929776432804902,
          0.8905886677054873,
          0.4766867429456447,
          0.9527924430440922,
          0.8178296997456056,
          0.9889600703903381,
          0.4802944600030065,
          0.9436923271060167,
          0.862489166905897,
          0.9734049744100607,
          0.8763910618191876,
          0.4643404846276673,
          0.7306207978872828,
          0.6655809910179531,
          0.9631737163752516,
          0.6548500905613942,
          0.779668627207148,
          0.8796119070658508,
          1.039731296098691,
          0.631950826259217,
          0.6489451821656725,
          0.44824241263443915,
          0.9378687965638594,
          0.6618126855372612,
          1.025223915178311,
          0.9606610072709818,
          1.0324172788327692,
          0.5121505369220305,
          1.0187836888746968,
          0.5830853663476876,
          0.8567892887533162,
          0.6900187807886953,
          0.6251065754034676,
          0.6859207921945354,
          0.5005109105263371,
          0.4273237863572472,
          0.3716219271760213,
          0.7429606702141525,
          1.022799404511688,
          0.6144753660903953,
          1.0161555119514545,
          0.7851874200293618,
          0.543074235033532,
          0.9553028227616917
         ]
        },
        {
         "line": {
          "color": "black",
          "width": 4
         },
         "mode": "lines",
         "showlegend": false,
         "type": "scatter",
         "x": [
          2.741939077729199,
          2.7715874808812555,
          2.649334858712142,
          2.7151673578484576,
          2.767897616018091,
          2.6893088591236203,
          2.7058637122839193,
          2.7450747915820575,
          2.6720978579357175,
          2.739572344450092,
          2.79309160017658,
          2.8175653695597807,
          2.6532125137753435,
          2.6857417386022635,
          2.745855195173729,
          2.7596678446896306,
          2.761927838420529,
          2.7466341989375787,
          2.812244696800369,
          2.7442929831226763,
          2.7168377232995247,
          2.7041505168397992,
          2.670245853074124,
          2.6757783416740852,
          2.7032913781186614,
          2.699837725867246,
          2.7810369386211318,
          2.7283537820212285,
          2.6646419755561257,
          2.785329835010767,
          2.7634279935629373,
          2.6981005456233897,
          2.7944880466591697,
          2.6954816764901977,
          2.8041394323353503,
          2.7730546933642626,
          2.74350976472843,
          2.7701152947871015,
          2.747411807886423,
          2.8055008581584002,
          2.73559889969818,
          2.7788744720027396,
          2.6589648426644352,
          2.673020907128896,
          2.7481880270062002,
          2.8095597146352675,
          2.6655809910179533,
          2.6910814921229687,
          2.797959643737196,
          2.8221680793680175,
          2.7737864449811935,
          2.705007959333336,
          2.6473829701146196,
          2.7024305364455254,
          2.821513528404773,
          2.814913181275074,
          2.6884198220027105,
          2.655138434811382,
          2.790988475088816,
          2.714329759745233,
          2.8195439355418688,
          2.8208579894397,
          2.807535028068853,
          2.780317312140151,
          2.7363965022766426,
          2.6483600109809315,
          2.7323937598229686,
          2.7573960287930244,
          2.7895807121644256,
          2.8188854145940097,
          2.694605198933569,
          2.748962861256161,
          2.645422269349092,
          2.7331972651065692,
          2.7686381012476144,
          2.733999286538387,
          2.7067177823367587,
          2.7752462597402365,
          2.6866362692622934,
          2.710963118995276,
          2.693726948923647,
          2.69284691927723,
          2.725094521081469,
          2.823474229170301,
          2.6580113966571126,
          2.783903579272735,
          2.66838591669,
          2.718501688867274,
          2.737987326333431,
          2.7641761323903307,
          2.795184589682424,
          2.824125833916549,
          2.651278013998144,
          2.7101173651118162,
          2.724275869600789,
          2.7551122663950713,
          2.787460474518415,
          2.800717078282385,
          2.788168371141168,
          2.7299742856995555,
          2.801403710017355,
          2.656098202012832,
          2.7535830588929064,
          2.7403626894942437,
          2.681241237375587,
          2.7007037171450192,
          2.7075701760979363,
          2.6464037262230695,
          2.754348335711019,
          2.824776462475546,
          2.6875289612146345,
          2.7427251313046983,
          2.7649229846498886,
          2.8027737252919755,
          2.661812685537261,
          2.683947130751512,
          2.765668554759014,
          2.6972293427597176,
          2.788875115775417,
          2.7611758131557314,
          2.6794278966121188,
          2.673941998634088,
          2.749736315569061,
          2.7902851640332416,
          2.7795964912578244,
          2.6766936096248664,
          2.7965743332104296,
          2.760422483423212,
          2.806179973983887,
          2.677606952720493,
          2.7937903846908188,
          2.77232170672292,
          2.8020892578817325,
          2.775974331129369,
          2.6748611407378116,
          2.7371926427047373,
          2.7218106152125467,
          2.7993405494535817,
          2.7193312869837265,
          2.7505083948513462,
          2.776701183988411,
          2.82020145948564,
          2.7134905430939424,
          2.717670503002262,
          2.6711728427150834,
          2.791690649020118,
          2.7209857441537393,
          2.816241299991783,
          2.798650645445269,
          2.8182258936139557,
          2.6848453616444123,
          2.81424759573192,
          2.7015679850559273,
          2.7708520116421442,
          2.727541257028556,
          2.711807229041191,
          2.7267272090265724,
          2.682145076373832,
          2.6665179805548807,
          2.6541765418779604,
          2.741151598851785,
          2.815577748324267,
          2.709269960975831,
          2.8135809885681917,
          2.7520484478194387,
          2.6919651027673606,
          2.7972675408307164
         ],
         "y": [
          0.7376777776260877,
          0.8563443868336424,
          0.3670329030030288,
          0.6305249841144516,
          0.8415758426560629,
          0.5270273236456298,
          0.5932874955809062,
          0.7502283534009617,
          0.458140944114124,
          0.7282050174342523,
          0.9424138087746314,
          1.040369142569082,
          0.3825530703343585,
          0.5127500590410854,
          0.7533518891800082,
          0.808636495025997,
          0.8176820342241999,
          0.7564698222012858,
          1.0190733516347699,
          0.7470991946921863,
          0.6372105584841403,
          0.5864304957883402,
          0.45072836489243606,
          0.472871940695482,
          0.5829918256396152,
          0.5691687134822541,
          0.8941654830690879,
          0.6833031467740049,
          0.4282990576523531,
          0.9113476380615424,
          0.8236863482886658,
          0.5622157154383629,
          0.9480030328613012,
          0.551733791052742,
          0.9866323380037354,
          0.8622168491531994,
          0.7439643927725843,
          0.8504520178240949,
          0.759582172528404,
          0.9920813932287462,
          0.71230145550666,
          0.8855102924399993,
          0.40557654855726,
          0.4618354135034046,
          0.762688960117389,
          1.0083268123462528,
          0.432057431426383,
          0.5341222199988405,
          0.9618979685066176,
          1.0587913140198886,
          0.8651456572484602,
          0.5898623768504212,
          0.35922054291635064,
          0.5795463394901006,
          1.0561714986131907,
          1.0297538595431437,
          0.5234689862857067,
          0.3902614962410116,
          0.9339961303713693,
          0.6271725294720021,
          1.0482882778757503,
          1.0535477287666435,
          1.0002230811499295,
          0.8912852053706235,
          0.7154938295780706,
          0.36313111192972514,
          0.6994730047102848,
          0.7995436380579015,
          0.928361612655566,
          1.0456525727561932,
          0.5482257228725356,
          0.7657902048174545,
          0.35137291246143043,
          0.7026890041351521,
          0.8445396067045081,
          0.7058990644995333,
          0.5967058785769943,
          0.8709885104584068,
          0.5163303840829947,
          0.6136976775493377,
          0.5447105605152451,
          0.5411882752303736,
          0.6702580784693044,
          1.064019129068111,
          0.40176041707216115,
          0.9056391035604747,
          0.44328404005261923,
          0.6438705175635651,
          0.7218610425337477,
          0.8266807455723235,
          0.9507909198956508,
          1.066627152353016,
          0.37481030834155504,
          0.6103125797058038,
          0.6669814569650434,
          0.7904029656712339,
          0.9198754418869122,
          0.9729344956986967,
          0.9227087712726707,
          0.6897891512892969,
          0.9756827131775712,
          0.3941029280658732,
          0.7842823706386444,
          0.7313683434998239,
          0.4947369735617393,
          0.5726348107290313,
          0.6001175522792792,
          0.35530115637800996,
          0.7873453620802007,
          1.0692312684854688,
          0.5199033497671124,
          0.7408239272511317,
          0.8296699934170118,
          0.9811661473567383,
          0.41697493165198907,
          0.5055672091785244,
          0.8326541095032205,
          0.5587287590166738,
          0.9255374898681321,
          0.8146720816222253,
          0.48747914592646957,
          0.46552204732076063,
          0.7688859263717678,
          0.9311811545443351,
          0.8884001471260703,
          0.4765352659571658,
          0.9563533156608042,
          0.8116569079376639,
          0.994799528564954,
          0.48019088705909496,
          0.9452106672916383,
          0.8592830979195671,
          0.9784265925055031,
          0.873902588581478,
          0.46920087873267136,
          0.7186803514480857,
          0.6571143697702819,
          0.9674249912659345,
          0.6471909525623563,
          0.7719761444181934,
          0.8768117895840728,
          1.0509199925242587,
          0.6238135966523011,
          0.6405437276613775,
          0.45443860577451645,
          0.9368065549016293,
          0.6538128546404423,
          1.0350696043381902,
          0.9646636766371071,
          1.0430128650457018,
          0.5091623442621671,
          1.0270898786488427,
          0.5760940102652885,
          0.8534006990965946,
          0.6800510463056497,
          0.6170761959954447,
          0.6767928500502833,
          0.49835455487433755,
          0.4358076965128319,
          0.3864115562545489,
          0.7345259232841848,
          1.0324137639539952,
          0.6069208767891201,
          1.0244218087569372,
          0.7781401480168455,
          0.5376588380922982,
          0.9591278528712692
         ]
        }
       ],
       "layout": {
        "autosize": false,
        "height": 800,
        "template": {
         "data": {
          "bar": [
           {
            "error_x": {
             "color": "#2a3f5f"
            },
            "error_y": {
             "color": "#2a3f5f"
            },
            "marker": {
             "line": {
              "color": "#E5ECF6",
              "width": 0.5
             },
             "pattern": {
              "fillmode": "overlay",
              "size": 10,
              "solidity": 0.2
             }
            },
            "type": "bar"
           }
          ],
          "barpolar": [
           {
            "marker": {
             "line": {
              "color": "#E5ECF6",
              "width": 0.5
             },
             "pattern": {
              "fillmode": "overlay",
              "size": 10,
              "solidity": 0.2
             }
            },
            "type": "barpolar"
           }
          ],
          "carpet": [
           {
            "aaxis": {
             "endlinecolor": "#2a3f5f",
             "gridcolor": "white",
             "linecolor": "white",
             "minorgridcolor": "white",
             "startlinecolor": "#2a3f5f"
            },
            "baxis": {
             "endlinecolor": "#2a3f5f",
             "gridcolor": "white",
             "linecolor": "white",
             "minorgridcolor": "white",
             "startlinecolor": "#2a3f5f"
            },
            "type": "carpet"
           }
          ],
          "choropleth": [
           {
            "colorbar": {
             "outlinewidth": 0,
             "ticks": ""
            },
            "type": "choropleth"
           }
          ],
          "contour": [
           {
            "colorbar": {
             "outlinewidth": 0,
             "ticks": ""
            },
            "colorscale": [
             [
              0,
              "#0d0887"
             ],
             [
              0.1111111111111111,
              "#46039f"
             ],
             [
              0.2222222222222222,
              "#7201a8"
             ],
             [
              0.3333333333333333,
              "#9c179e"
             ],
             [
              0.4444444444444444,
              "#bd3786"
             ],
             [
              0.5555555555555556,
              "#d8576b"
             ],
             [
              0.6666666666666666,
              "#ed7953"
             ],
             [
              0.7777777777777778,
              "#fb9f3a"
             ],
             [
              0.8888888888888888,
              "#fdca26"
             ],
             [
              1,
              "#f0f921"
             ]
            ],
            "type": "contour"
           }
          ],
          "contourcarpet": [
           {
            "colorbar": {
             "outlinewidth": 0,
             "ticks": ""
            },
            "type": "contourcarpet"
           }
          ],
          "heatmap": [
           {
            "colorbar": {
             "outlinewidth": 0,
             "ticks": ""
            },
            "colorscale": [
             [
              0,
              "#0d0887"
             ],
             [
              0.1111111111111111,
              "#46039f"
             ],
             [
              0.2222222222222222,
              "#7201a8"
             ],
             [
              0.3333333333333333,
              "#9c179e"
             ],
             [
              0.4444444444444444,
              "#bd3786"
             ],
             [
              0.5555555555555556,
              "#d8576b"
             ],
             [
              0.6666666666666666,
              "#ed7953"
             ],
             [
              0.7777777777777778,
              "#fb9f3a"
             ],
             [
              0.8888888888888888,
              "#fdca26"
             ],
             [
              1,
              "#f0f921"
             ]
            ],
            "type": "heatmap"
           }
          ],
          "heatmapgl": [
           {
            "colorbar": {
             "outlinewidth": 0,
             "ticks": ""
            },
            "colorscale": [
             [
              0,
              "#0d0887"
             ],
             [
              0.1111111111111111,
              "#46039f"
             ],
             [
              0.2222222222222222,
              "#7201a8"
             ],
             [
              0.3333333333333333,
              "#9c179e"
             ],
             [
              0.4444444444444444,
              "#bd3786"
             ],
             [
              0.5555555555555556,
              "#d8576b"
             ],
             [
              0.6666666666666666,
              "#ed7953"
             ],
             [
              0.7777777777777778,
              "#fb9f3a"
             ],
             [
              0.8888888888888888,
              "#fdca26"
             ],
             [
              1,
              "#f0f921"
             ]
            ],
            "type": "heatmapgl"
           }
          ],
          "histogram": [
           {
            "marker": {
             "pattern": {
              "fillmode": "overlay",
              "size": 10,
              "solidity": 0.2
             }
            },
            "type": "histogram"
           }
          ],
          "histogram2d": [
           {
            "colorbar": {
             "outlinewidth": 0,
             "ticks": ""
            },
            "colorscale": [
             [
              0,
              "#0d0887"
             ],
             [
              0.1111111111111111,
              "#46039f"
             ],
             [
              0.2222222222222222,
              "#7201a8"
             ],
             [
              0.3333333333333333,
              "#9c179e"
             ],
             [
              0.4444444444444444,
              "#bd3786"
             ],
             [
              0.5555555555555556,
              "#d8576b"
             ],
             [
              0.6666666666666666,
              "#ed7953"
             ],
             [
              0.7777777777777778,
              "#fb9f3a"
             ],
             [
              0.8888888888888888,
              "#fdca26"
             ],
             [
              1,
              "#f0f921"
             ]
            ],
            "type": "histogram2d"
           }
          ],
          "histogram2dcontour": [
           {
            "colorbar": {
             "outlinewidth": 0,
             "ticks": ""
            },
            "colorscale": [
             [
              0,
              "#0d0887"
             ],
             [
              0.1111111111111111,
              "#46039f"
             ],
             [
              0.2222222222222222,
              "#7201a8"
             ],
             [
              0.3333333333333333,
              "#9c179e"
             ],
             [
              0.4444444444444444,
              "#bd3786"
             ],
             [
              0.5555555555555556,
              "#d8576b"
             ],
             [
              0.6666666666666666,
              "#ed7953"
             ],
             [
              0.7777777777777778,
              "#fb9f3a"
             ],
             [
              0.8888888888888888,
              "#fdca26"
             ],
             [
              1,
              "#f0f921"
             ]
            ],
            "type": "histogram2dcontour"
           }
          ],
          "mesh3d": [
           {
            "colorbar": {
             "outlinewidth": 0,
             "ticks": ""
            },
            "type": "mesh3d"
           }
          ],
          "parcoords": [
           {
            "line": {
             "colorbar": {
              "outlinewidth": 0,
              "ticks": ""
             }
            },
            "type": "parcoords"
           }
          ],
          "pie": [
           {
            "automargin": true,
            "type": "pie"
           }
          ],
          "scatter": [
           {
            "marker": {
             "colorbar": {
              "outlinewidth": 0,
              "ticks": ""
             }
            },
            "type": "scatter"
           }
          ],
          "scatter3d": [
           {
            "line": {
             "colorbar": {
              "outlinewidth": 0,
              "ticks": ""
             }
            },
            "marker": {
             "colorbar": {
              "outlinewidth": 0,
              "ticks": ""
             }
            },
            "type": "scatter3d"
           }
          ],
          "scattercarpet": [
           {
            "marker": {
             "colorbar": {
              "outlinewidth": 0,
              "ticks": ""
             }
            },
            "type": "scattercarpet"
           }
          ],
          "scattergeo": [
           {
            "marker": {
             "colorbar": {
              "outlinewidth": 0,
              "ticks": ""
             }
            },
            "type": "scattergeo"
           }
          ],
          "scattergl": [
           {
            "marker": {
             "colorbar": {
              "outlinewidth": 0,
              "ticks": ""
             }
            },
            "type": "scattergl"
           }
          ],
          "scattermapbox": [
           {
            "marker": {
             "colorbar": {
              "outlinewidth": 0,
              "ticks": ""
             }
            },
            "type": "scattermapbox"
           }
          ],
          "scatterpolar": [
           {
            "marker": {
             "colorbar": {
              "outlinewidth": 0,
              "ticks": ""
             }
            },
            "type": "scatterpolar"
           }
          ],
          "scatterpolargl": [
           {
            "marker": {
             "colorbar": {
              "outlinewidth": 0,
              "ticks": ""
             }
            },
            "type": "scatterpolargl"
           }
          ],
          "scatterternary": [
           {
            "marker": {
             "colorbar": {
              "outlinewidth": 0,
              "ticks": ""
             }
            },
            "type": "scatterternary"
           }
          ],
          "surface": [
           {
            "colorbar": {
             "outlinewidth": 0,
             "ticks": ""
            },
            "colorscale": [
             [
              0,
              "#0d0887"
             ],
             [
              0.1111111111111111,
              "#46039f"
             ],
             [
              0.2222222222222222,
              "#7201a8"
             ],
             [
              0.3333333333333333,
              "#9c179e"
             ],
             [
              0.4444444444444444,
              "#bd3786"
             ],
             [
              0.5555555555555556,
              "#d8576b"
             ],
             [
              0.6666666666666666,
              "#ed7953"
             ],
             [
              0.7777777777777778,
              "#fb9f3a"
             ],
             [
              0.8888888888888888,
              "#fdca26"
             ],
             [
              1,
              "#f0f921"
             ]
            ],
            "type": "surface"
           }
          ],
          "table": [
           {
            "cells": {
             "fill": {
              "color": "#EBF0F8"
             },
             "line": {
              "color": "white"
             }
            },
            "header": {
             "fill": {
              "color": "#C8D4E3"
             },
             "line": {
              "color": "white"
             }
            },
            "type": "table"
           }
          ]
         },
         "layout": {
          "annotationdefaults": {
           "arrowcolor": "#2a3f5f",
           "arrowhead": 0,
           "arrowwidth": 1
          },
          "autotypenumbers": "strict",
          "coloraxis": {
           "colorbar": {
            "outlinewidth": 0,
            "ticks": ""
           }
          },
          "colorscale": {
           "diverging": [
            [
             0,
             "#8e0152"
            ],
            [
             0.1,
             "#c51b7d"
            ],
            [
             0.2,
             "#de77ae"
            ],
            [
             0.3,
             "#f1b6da"
            ],
            [
             0.4,
             "#fde0ef"
            ],
            [
             0.5,
             "#f7f7f7"
            ],
            [
             0.6,
             "#e6f5d0"
            ],
            [
             0.7,
             "#b8e186"
            ],
            [
             0.8,
             "#7fbc41"
            ],
            [
             0.9,
             "#4d9221"
            ],
            [
             1,
             "#276419"
            ]
           ],
           "sequential": [
            [
             0,
             "#0d0887"
            ],
            [
             0.1111111111111111,
             "#46039f"
            ],
            [
             0.2222222222222222,
             "#7201a8"
            ],
            [
             0.3333333333333333,
             "#9c179e"
            ],
            [
             0.4444444444444444,
             "#bd3786"
            ],
            [
             0.5555555555555556,
             "#d8576b"
            ],
            [
             0.6666666666666666,
             "#ed7953"
            ],
            [
             0.7777777777777778,
             "#fb9f3a"
            ],
            [
             0.8888888888888888,
             "#fdca26"
            ],
            [
             1,
             "#f0f921"
            ]
           ],
           "sequentialminus": [
            [
             0,
             "#0d0887"
            ],
            [
             0.1111111111111111,
             "#46039f"
            ],
            [
             0.2222222222222222,
             "#7201a8"
            ],
            [
             0.3333333333333333,
             "#9c179e"
            ],
            [
             0.4444444444444444,
             "#bd3786"
            ],
            [
             0.5555555555555556,
             "#d8576b"
            ],
            [
             0.6666666666666666,
             "#ed7953"
            ],
            [
             0.7777777777777778,
             "#fb9f3a"
            ],
            [
             0.8888888888888888,
             "#fdca26"
            ],
            [
             1,
             "#f0f921"
            ]
           ]
          },
          "colorway": [
           "#636efa",
           "#EF553B",
           "#00cc96",
           "#ab63fa",
           "#FFA15A",
           "#19d3f3",
           "#FF6692",
           "#B6E880",
           "#FF97FF",
           "#FECB52"
          ],
          "font": {
           "color": "#2a3f5f"
          },
          "geo": {
           "bgcolor": "white",
           "lakecolor": "white",
           "landcolor": "#E5ECF6",
           "showlakes": true,
           "showland": true,
           "subunitcolor": "white"
          },
          "hoverlabel": {
           "align": "left"
          },
          "hovermode": "closest",
          "mapbox": {
           "style": "light"
          },
          "paper_bgcolor": "white",
          "plot_bgcolor": "#E5ECF6",
          "polar": {
           "angularaxis": {
            "gridcolor": "white",
            "linecolor": "white",
            "ticks": ""
           },
           "bgcolor": "#E5ECF6",
           "radialaxis": {
            "gridcolor": "white",
            "linecolor": "white",
            "ticks": ""
           }
          },
          "scene": {
           "xaxis": {
            "backgroundcolor": "#E5ECF6",
            "gridcolor": "white",
            "gridwidth": 2,
            "linecolor": "white",
            "showbackground": true,
            "ticks": "",
            "zerolinecolor": "white"
           },
           "yaxis": {
            "backgroundcolor": "#E5ECF6",
            "gridcolor": "white",
            "gridwidth": 2,
            "linecolor": "white",
            "showbackground": true,
            "ticks": "",
            "zerolinecolor": "white"
           },
           "zaxis": {
            "backgroundcolor": "#E5ECF6",
            "gridcolor": "white",
            "gridwidth": 2,
            "linecolor": "white",
            "showbackground": true,
            "ticks": "",
            "zerolinecolor": "white"
           }
          },
          "shapedefaults": {
           "line": {
            "color": "#2a3f5f"
           }
          },
          "ternary": {
           "aaxis": {
            "gridcolor": "white",
            "linecolor": "white",
            "ticks": ""
           },
           "baxis": {
            "gridcolor": "white",
            "linecolor": "white",
            "ticks": ""
           },
           "bgcolor": "#E5ECF6",
           "caxis": {
            "gridcolor": "white",
            "linecolor": "white",
            "ticks": ""
           }
          },
          "title": {
           "x": 0.05
          },
          "xaxis": {
           "automargin": true,
           "gridcolor": "white",
           "linecolor": "white",
           "ticks": "",
           "title": {
            "standoff": 15
           },
           "zerolinecolor": "white",
           "zerolinewidth": 2
          },
          "yaxis": {
           "automargin": true,
           "gridcolor": "white",
           "linecolor": "white",
           "ticks": "",
           "title": {
            "standoff": 15
           },
           "zerolinecolor": "white",
           "zerolinewidth": 2
          }
         }
        },
        "title": {
         "text": "$\\log_{10}(Fem) \\,\\, vs \\,\\, \\log_{10}(Temperatura) \\,\\, - \\,\\, Conjunto \\, de \\, entrenamiento$"
        },
        "width": 1150,
        "xaxis": {
         "title": {
          "text": "$\\log_{10}(Temperatura)$"
         }
        },
        "yaxis": {
         "title": {
          "text": "$\\log_{10}(Fem)$"
         }
        }
       }
      },
      "text/html": [
       "<div>                            <div id=\"958c97d4-ce5d-4c3b-8d30-69f9f50a2bbe\" class=\"plotly-graph-div\" style=\"height:800px; width:1150px;\"></div>            <script type=\"text/javascript\">                require([\"plotly\"], function(Plotly) {                    window.PLOTLYENV=window.PLOTLYENV || {};                                    if (document.getElementById(\"958c97d4-ce5d-4c3b-8d30-69f9f50a2bbe\")) {                    Plotly.newPlot(                        \"958c97d4-ce5d-4c3b-8d30-69f9f50a2bbe\",                        [{\"marker\":{\"color\":[2.741939077729199,2.7715874808812555,2.649334858712142,2.7151673578484576,2.767897616018091,2.6893088591236203,2.7058637122839193,2.7450747915820575,2.6720978579357175,2.739572344450092,2.79309160017658,2.8175653695597807,2.6532125137753435,2.6857417386022635,2.745855195173729,2.7596678446896306,2.761927838420529,2.7466341989375787,2.812244696800369,2.7442929831226763,2.7168377232995247,2.7041505168397992,2.670245853074124,2.6757783416740852,2.7032913781186614,2.699837725867246,2.7810369386211318,2.7283537820212285,2.6646419755561257,2.785329835010767,2.7634279935629373,2.6981005456233897,2.7944880466591697,2.6954816764901977,2.8041394323353503,2.7730546933642626,2.74350976472843,2.7701152947871015,2.747411807886423,2.8055008581584002,2.73559889969818,2.7788744720027396,2.6589648426644352,2.673020907128896,2.7481880270062002,2.8095597146352675,2.6655809910179533,2.6910814921229687,2.797959643737196,2.8221680793680175,2.7737864449811935,2.705007959333336,2.6473829701146196,2.7024305364455254,2.821513528404773,2.814913181275074,2.6884198220027105,2.655138434811382,2.790988475088816,2.714329759745233,2.8195439355418688,2.8208579894397,2.807535028068853,2.780317312140151,2.7363965022766426,2.6483600109809315,2.7323937598229686,2.7573960287930244,2.7895807121644256,2.8188854145940097,2.694605198933569,2.748962861256161,2.645422269349092,2.7331972651065692,2.7686381012476144,2.733999286538387,2.7067177823367587,2.7752462597402365,2.6866362692622934,2.710963118995276,2.693726948923647,2.69284691927723,2.725094521081469,2.823474229170301,2.6580113966571126,2.783903579272735,2.66838591669,2.718501688867274,2.737987326333431,2.7641761323903307,2.795184589682424,2.824125833916549,2.651278013998144,2.7101173651118162,2.724275869600789,2.7551122663950713,2.787460474518415,2.800717078282385,2.788168371141168,2.7299742856995555,2.801403710017355,2.656098202012832,2.7535830588929064,2.7403626894942437,2.681241237375587,2.7007037171450192,2.7075701760979363,2.6464037262230695,2.754348335711019,2.824776462475546,2.6875289612146345,2.7427251313046983,2.7649229846498886,2.8027737252919755,2.661812685537261,2.683947130751512,2.765668554759014,2.6972293427597176,2.788875115775417,2.7611758131557314,2.6794278966121188,2.673941998634088,2.749736315569061,2.7902851640332416,2.7795964912578244,2.6766936096248664,2.7965743332104296,2.760422483423212,2.806179973983887,2.677606952720493,2.7937903846908188,2.77232170672292,2.8020892578817325,2.775974331129369,2.6748611407378116,2.7371926427047373,2.7218106152125467,2.7993405494535817,2.7193312869837265,2.7505083948513462,2.776701183988411,2.82020145948564,2.7134905430939424,2.717670503002262,2.6711728427150834,2.791690649020118,2.7209857441537393,2.816241299991783,2.798650645445269,2.8182258936139557,2.6848453616444123,2.81424759573192,2.7015679850559273,2.7708520116421442,2.727541257028556,2.711807229041191,2.7267272090265724,2.682145076373832,2.6665179805548807,2.6541765418779604,2.741151598851785,2.815577748324267,2.709269960975831,2.8135809885681917,2.7520484478194387,2.6919651027673606,2.7972675408307164],\"showscale\":true,\"size\":10},\"mode\":\"markers\",\"text\":[[2.741939077729199],[2.7715874808812555],[2.649334858712142],[2.7151673578484576],[2.767897616018091],[2.6893088591236203],[2.7058637122839193],[2.7450747915820575],[2.6720978579357175],[2.739572344450092],[2.79309160017658],[2.8175653695597807],[2.6532125137753435],[2.6857417386022635],[2.745855195173729],[2.7596678446896306],[2.761927838420529],[2.7466341989375787],[2.812244696800369],[2.7442929831226763],[2.7168377232995247],[2.7041505168397992],[2.670245853074124],[2.6757783416740852],[2.7032913781186614],[2.699837725867246],[2.7810369386211318],[2.7283537820212285],[2.6646419755561257],[2.785329835010767],[2.7634279935629373],[2.6981005456233897],[2.7944880466591697],[2.6954816764901977],[2.8041394323353503],[2.7730546933642626],[2.74350976472843],[2.7701152947871015],[2.747411807886423],[2.8055008581584002],[2.73559889969818],[2.7788744720027396],[2.6589648426644352],[2.673020907128896],[2.7481880270062002],[2.8095597146352675],[2.6655809910179533],[2.6910814921229687],[2.797959643737196],[2.8221680793680175],[2.7737864449811935],[2.705007959333336],[2.6473829701146196],[2.7024305364455254],[2.821513528404773],[2.814913181275074],[2.6884198220027105],[2.655138434811382],[2.790988475088816],[2.714329759745233],[2.8195439355418688],[2.8208579894397],[2.807535028068853],[2.780317312140151],[2.7363965022766426],[2.6483600109809315],[2.7323937598229686],[2.7573960287930244],[2.7895807121644256],[2.8188854145940097],[2.694605198933569],[2.748962861256161],[2.645422269349092],[2.7331972651065692],[2.7686381012476144],[2.733999286538387],[2.7067177823367587],[2.7752462597402365],[2.6866362692622934],[2.710963118995276],[2.693726948923647],[2.69284691927723],[2.725094521081469],[2.823474229170301],[2.6580113966571126],[2.783903579272735],[2.66838591669],[2.718501688867274],[2.737987326333431],[2.7641761323903307],[2.795184589682424],[2.824125833916549],[2.651278013998144],[2.7101173651118162],[2.724275869600789],[2.7551122663950713],[2.787460474518415],[2.800717078282385],[2.788168371141168],[2.7299742856995555],[2.801403710017355],[2.656098202012832],[2.7535830588929064],[2.7403626894942437],[2.681241237375587],[2.7007037171450192],[2.7075701760979363],[2.6464037262230695],[2.754348335711019],[2.824776462475546],[2.6875289612146345],[2.7427251313046983],[2.7649229846498886],[2.8027737252919755],[2.661812685537261],[2.683947130751512],[2.765668554759014],[2.6972293427597176],[2.788875115775417],[2.7611758131557314],[2.6794278966121188],[2.673941998634088],[2.749736315569061],[2.7902851640332416],[2.7795964912578244],[2.6766936096248664],[2.7965743332104296],[2.760422483423212],[2.806179973983887],[2.677606952720493],[2.7937903846908188],[2.77232170672292],[2.8020892578817325],[2.775974331129369],[2.6748611407378116],[2.7371926427047373],[2.7218106152125467],[2.7993405494535817],[2.7193312869837265],[2.7505083948513462],[2.776701183988411],[2.82020145948564],[2.7134905430939424],[2.717670503002262],[2.6711728427150834],[2.791690649020118],[2.7209857441537393],[2.816241299991783],[2.798650645445269],[2.8182258936139557],[2.6848453616444123],[2.81424759573192],[2.7015679850559273],[2.7708520116421442],[2.727541257028556],[2.711807229041191],[2.7267272090265724],[2.682145076373832],[2.6665179805548807],[2.6541765418779604],[2.741151598851785],[2.815577748324267],[2.709269960975831],[2.8135809885681917],[2.7520484478194387],[2.6919651027673606],[2.7972675408307164]],\"type\":\"scatter\",\"x\":[2.741939077729199,2.7715874808812555,2.649334858712142,2.7151673578484576,2.767897616018091,2.6893088591236203,2.7058637122839193,2.7450747915820575,2.6720978579357175,2.739572344450092,2.79309160017658,2.8175653695597807,2.6532125137753435,2.6857417386022635,2.745855195173729,2.7596678446896306,2.761927838420529,2.7466341989375787,2.812244696800369,2.7442929831226763,2.7168377232995247,2.7041505168397992,2.670245853074124,2.6757783416740852,2.7032913781186614,2.699837725867246,2.7810369386211318,2.7283537820212285,2.6646419755561257,2.785329835010767,2.7634279935629373,2.6981005456233897,2.7944880466591697,2.6954816764901977,2.8041394323353503,2.7730546933642626,2.74350976472843,2.7701152947871015,2.747411807886423,2.8055008581584002,2.73559889969818,2.7788744720027396,2.6589648426644352,2.673020907128896,2.7481880270062002,2.8095597146352675,2.6655809910179533,2.6910814921229687,2.797959643737196,2.8221680793680175,2.7737864449811935,2.705007959333336,2.6473829701146196,2.7024305364455254,2.821513528404773,2.814913181275074,2.6884198220027105,2.655138434811382,2.790988475088816,2.714329759745233,2.8195439355418688,2.8208579894397,2.807535028068853,2.780317312140151,2.7363965022766426,2.6483600109809315,2.7323937598229686,2.7573960287930244,2.7895807121644256,2.8188854145940097,2.694605198933569,2.748962861256161,2.645422269349092,2.7331972651065692,2.7686381012476144,2.733999286538387,2.7067177823367587,2.7752462597402365,2.6866362692622934,2.710963118995276,2.693726948923647,2.69284691927723,2.725094521081469,2.823474229170301,2.6580113966571126,2.783903579272735,2.66838591669,2.718501688867274,2.737987326333431,2.7641761323903307,2.795184589682424,2.824125833916549,2.651278013998144,2.7101173651118162,2.724275869600789,2.7551122663950713,2.787460474518415,2.800717078282385,2.788168371141168,2.7299742856995555,2.801403710017355,2.656098202012832,2.7535830588929064,2.7403626894942437,2.681241237375587,2.7007037171450192,2.7075701760979363,2.6464037262230695,2.754348335711019,2.824776462475546,2.6875289612146345,2.7427251313046983,2.7649229846498886,2.8027737252919755,2.661812685537261,2.683947130751512,2.765668554759014,2.6972293427597176,2.788875115775417,2.7611758131557314,2.6794278966121188,2.673941998634088,2.749736315569061,2.7902851640332416,2.7795964912578244,2.6766936096248664,2.7965743332104296,2.760422483423212,2.806179973983887,2.677606952720493,2.7937903846908188,2.77232170672292,2.8020892578817325,2.775974331129369,2.6748611407378116,2.7371926427047373,2.7218106152125467,2.7993405494535817,2.7193312869837265,2.7505083948513462,2.776701183988411,2.82020145948564,2.7134905430939424,2.717670503002262,2.6711728427150834,2.791690649020118,2.7209857441537393,2.816241299991783,2.798650645445269,2.8182258936139557,2.6848453616444123,2.81424759573192,2.7015679850559273,2.7708520116421442,2.727541257028556,2.711807229041191,2.7267272090265724,2.682145076373832,2.6665179805548807,2.6541765418779604,2.741151598851785,2.815577748324267,2.709269960975831,2.8135809885681917,2.7520484478194387,2.6919651027673606,2.7972675408307164],\"y\":[0.7460890430562003,0.8600383898071935,0.3498600821923312,0.6385890832927169,0.8459038388987825,0.5312233745330268,0.5997739391463883,0.7583061817253068,0.4520932490177314,0.7368743616484226,0.9406160823374076,1.030113752707593,0.36754227352057667,0.5156089492344803,0.7607993116307178,0.814647069451856,0.8230827965328037,0.7641013764762288,1.0107662335184253,0.7551122663950712,0.6451273992583911,0.5939502952639875,0.4438885467773719,0.47231754631684186,0.5895027962637638,0.5755342183198644,0.8963057074660806,0.6930230679236941,0.4189638307036227,0.9120625555885024,0.8276277047674334,0.5677319625480691,0.9464031338990546,0.5571461423183631,0.9817733186277472,0.8654001181793015,0.7520484478194386,0.8544275057878612,0.7667845154978589,0.9865030153867405,0.7209031708134575,0.8882356732705672,0.39357520326958756,0.4562141553579888,0.7700415543196687,1.0008243766056055,0.4234097277330934,0.5386993795424068,0.9582771255476976,1.046690221370057,0.8679975103449512,0.5972562829251418,0.3410386316775229,0.5860243823869757,1.0445005623706412,1.0208168870289072,0.5277587525209719,0.3762118502826728,0.933234128714808,0.6351820486562676,1.037107632667927,1.0424573745743209,0.9935244031670656,0.8928178243095762,0.7272158209084926,0.345177616542704,0.7084209001347128,0.8060442357480883,0.927319024959656,1.0349090733677482,0.5535189401489695,0.7731279240333347,0.33223641549144334,0.7113853790984517,0.8486201174341339,0.714497408649806,0.6037937041369629,0.873378736409141,0.5206145218782359,0.6216954623292787,0.5497387312648989,0.546542663478131,0.6791552412833538,1.0514226660890345,0.39022836246913006,0.9062811557721531,0.4360035356698965,0.6518592692469489,0.7335182514344876,0.8311656339094424,0.9489017609702137,1.053884790394692,0.35888620440586905,0.617629297757842,0.6758699553189567,0.7974060496763821,0.9197577805018942,0.9683428309589455,0.9221543252310589,0.6919651027673603,0.9707651597807677,0.3809344633307019,0.7913397039651394,0.7395723444500919,0.49692964807321494,0.5041989185394449,0.6069185259482911,0.3364597338485295,0.7937205568135233,1.056256735850139,0.5236164190543707,0.7487305560984945,0.8338480495311481,0.9763041165520028,0.40756084948636256,0.5075860397630108,0.836577274840649,0.5641924606261979,0.9246410474171629,0.8205298485235197,0.4886916983169406,0.4605971888976015,0.7762652182681095,0.929776432804902,0.8905886677054873,0.4766867429456447,0.9527924430440922,0.8178296997456056,0.9889600703903381,0.4802944600030065,0.9436923271060167,0.862489166905897,0.9734049744100607,0.8763910618191876,0.4643404846276673,0.7306207978872828,0.6655809910179531,0.9631737163752516,0.6548500905613942,0.779668627207148,0.8796119070658508,1.039731296098691,0.631950826259217,0.6489451821656725,0.44824241263443915,0.9378687965638594,0.6618126855372612,1.025223915178311,0.9606610072709818,1.0324172788327692,0.5121505369220305,1.0187836888746968,0.5830853663476876,0.8567892887533162,0.6900187807886953,0.6251065754034676,0.6859207921945354,0.5005109105263371,0.4273237863572472,0.3716219271760213,0.7429606702141525,1.022799404511688,0.6144753660903953,1.0161555119514545,0.7851874200293618,0.543074235033532,0.9553028227616917]},{\"line\":{\"color\":\"black\",\"width\":4},\"mode\":\"lines\",\"showlegend\":false,\"type\":\"scatter\",\"x\":[2.741939077729199,2.7715874808812555,2.649334858712142,2.7151673578484576,2.767897616018091,2.6893088591236203,2.7058637122839193,2.7450747915820575,2.6720978579357175,2.739572344450092,2.79309160017658,2.8175653695597807,2.6532125137753435,2.6857417386022635,2.745855195173729,2.7596678446896306,2.761927838420529,2.7466341989375787,2.812244696800369,2.7442929831226763,2.7168377232995247,2.7041505168397992,2.670245853074124,2.6757783416740852,2.7032913781186614,2.699837725867246,2.7810369386211318,2.7283537820212285,2.6646419755561257,2.785329835010767,2.7634279935629373,2.6981005456233897,2.7944880466591697,2.6954816764901977,2.8041394323353503,2.7730546933642626,2.74350976472843,2.7701152947871015,2.747411807886423,2.8055008581584002,2.73559889969818,2.7788744720027396,2.6589648426644352,2.673020907128896,2.7481880270062002,2.8095597146352675,2.6655809910179533,2.6910814921229687,2.797959643737196,2.8221680793680175,2.7737864449811935,2.705007959333336,2.6473829701146196,2.7024305364455254,2.821513528404773,2.814913181275074,2.6884198220027105,2.655138434811382,2.790988475088816,2.714329759745233,2.8195439355418688,2.8208579894397,2.807535028068853,2.780317312140151,2.7363965022766426,2.6483600109809315,2.7323937598229686,2.7573960287930244,2.7895807121644256,2.8188854145940097,2.694605198933569,2.748962861256161,2.645422269349092,2.7331972651065692,2.7686381012476144,2.733999286538387,2.7067177823367587,2.7752462597402365,2.6866362692622934,2.710963118995276,2.693726948923647,2.69284691927723,2.725094521081469,2.823474229170301,2.6580113966571126,2.783903579272735,2.66838591669,2.718501688867274,2.737987326333431,2.7641761323903307,2.795184589682424,2.824125833916549,2.651278013998144,2.7101173651118162,2.724275869600789,2.7551122663950713,2.787460474518415,2.800717078282385,2.788168371141168,2.7299742856995555,2.801403710017355,2.656098202012832,2.7535830588929064,2.7403626894942437,2.681241237375587,2.7007037171450192,2.7075701760979363,2.6464037262230695,2.754348335711019,2.824776462475546,2.6875289612146345,2.7427251313046983,2.7649229846498886,2.8027737252919755,2.661812685537261,2.683947130751512,2.765668554759014,2.6972293427597176,2.788875115775417,2.7611758131557314,2.6794278966121188,2.673941998634088,2.749736315569061,2.7902851640332416,2.7795964912578244,2.6766936096248664,2.7965743332104296,2.760422483423212,2.806179973983887,2.677606952720493,2.7937903846908188,2.77232170672292,2.8020892578817325,2.775974331129369,2.6748611407378116,2.7371926427047373,2.7218106152125467,2.7993405494535817,2.7193312869837265,2.7505083948513462,2.776701183988411,2.82020145948564,2.7134905430939424,2.717670503002262,2.6711728427150834,2.791690649020118,2.7209857441537393,2.816241299991783,2.798650645445269,2.8182258936139557,2.6848453616444123,2.81424759573192,2.7015679850559273,2.7708520116421442,2.727541257028556,2.711807229041191,2.7267272090265724,2.682145076373832,2.6665179805548807,2.6541765418779604,2.741151598851785,2.815577748324267,2.709269960975831,2.8135809885681917,2.7520484478194387,2.6919651027673606,2.7972675408307164],\"y\":[0.7376777776260877,0.8563443868336424,0.3670329030030288,0.6305249841144516,0.8415758426560629,0.5270273236456298,0.5932874955809062,0.7502283534009617,0.458140944114124,0.7282050174342523,0.9424138087746314,1.040369142569082,0.3825530703343585,0.5127500590410854,0.7533518891800082,0.808636495025997,0.8176820342241999,0.7564698222012858,1.0190733516347699,0.7470991946921863,0.6372105584841403,0.5864304957883402,0.45072836489243606,0.472871940695482,0.5829918256396152,0.5691687134822541,0.8941654830690879,0.6833031467740049,0.4282990576523531,0.9113476380615424,0.8236863482886658,0.5622157154383629,0.9480030328613012,0.551733791052742,0.9866323380037354,0.8622168491531994,0.7439643927725843,0.8504520178240949,0.759582172528404,0.9920813932287462,0.71230145550666,0.8855102924399993,0.40557654855726,0.4618354135034046,0.762688960117389,1.0083268123462528,0.432057431426383,0.5341222199988405,0.9618979685066176,1.0587913140198886,0.8651456572484602,0.5898623768504212,0.35922054291635064,0.5795463394901006,1.0561714986131907,1.0297538595431437,0.5234689862857067,0.3902614962410116,0.9339961303713693,0.6271725294720021,1.0482882778757503,1.0535477287666435,1.0002230811499295,0.8912852053706235,0.7154938295780706,0.36313111192972514,0.6994730047102848,0.7995436380579015,0.928361612655566,1.0456525727561932,0.5482257228725356,0.7657902048174545,0.35137291246143043,0.7026890041351521,0.8445396067045081,0.7058990644995333,0.5967058785769943,0.8709885104584068,0.5163303840829947,0.6136976775493377,0.5447105605152451,0.5411882752303736,0.6702580784693044,1.064019129068111,0.40176041707216115,0.9056391035604747,0.44328404005261923,0.6438705175635651,0.7218610425337477,0.8266807455723235,0.9507909198956508,1.066627152353016,0.37481030834155504,0.6103125797058038,0.6669814569650434,0.7904029656712339,0.9198754418869122,0.9729344956986967,0.9227087712726707,0.6897891512892969,0.9756827131775712,0.3941029280658732,0.7842823706386444,0.7313683434998239,0.4947369735617393,0.5726348107290313,0.6001175522792792,0.35530115637800996,0.7873453620802007,1.0692312684854688,0.5199033497671124,0.7408239272511317,0.8296699934170118,0.9811661473567383,0.41697493165198907,0.5055672091785244,0.8326541095032205,0.5587287590166738,0.9255374898681321,0.8146720816222253,0.48747914592646957,0.46552204732076063,0.7688859263717678,0.9311811545443351,0.8884001471260703,0.4765352659571658,0.9563533156608042,0.8116569079376639,0.994799528564954,0.48019088705909496,0.9452106672916383,0.8592830979195671,0.9784265925055031,0.873902588581478,0.46920087873267136,0.7186803514480857,0.6571143697702819,0.9674249912659345,0.6471909525623563,0.7719761444181934,0.8768117895840728,1.0509199925242587,0.6238135966523011,0.6405437276613775,0.45443860577451645,0.9368065549016293,0.6538128546404423,1.0350696043381902,0.9646636766371071,1.0430128650457018,0.5091623442621671,1.0270898786488427,0.5760940102652885,0.8534006990965946,0.6800510463056497,0.6170761959954447,0.6767928500502833,0.49835455487433755,0.4358076965128319,0.3864115562545489,0.7345259232841848,1.0324137639539952,0.6069208767891201,1.0244218087569372,0.7781401480168455,0.5376588380922982,0.9591278528712692]}],                        {\"autosize\":false,\"height\":800,\"template\":{\"data\":{\"bar\":[{\"error_x\":{\"color\":\"#2a3f5f\"},\"error_y\":{\"color\":\"#2a3f5f\"},\"marker\":{\"line\":{\"color\":\"#E5ECF6\",\"width\":0.5},\"pattern\":{\"fillmode\":\"overlay\",\"size\":10,\"solidity\":0.2}},\"type\":\"bar\"}],\"barpolar\":[{\"marker\":{\"line\":{\"color\":\"#E5ECF6\",\"width\":0.5},\"pattern\":{\"fillmode\":\"overlay\",\"size\":10,\"solidity\":0.2}},\"type\":\"barpolar\"}],\"carpet\":[{\"aaxis\":{\"endlinecolor\":\"#2a3f5f\",\"gridcolor\":\"white\",\"linecolor\":\"white\",\"minorgridcolor\":\"white\",\"startlinecolor\":\"#2a3f5f\"},\"baxis\":{\"endlinecolor\":\"#2a3f5f\",\"gridcolor\":\"white\",\"linecolor\":\"white\",\"minorgridcolor\":\"white\",\"startlinecolor\":\"#2a3f5f\"},\"type\":\"carpet\"}],\"choropleth\":[{\"colorbar\":{\"outlinewidth\":0,\"ticks\":\"\"},\"type\":\"choropleth\"}],\"contour\":[{\"colorbar\":{\"outlinewidth\":0,\"ticks\":\"\"},\"colorscale\":[[0.0,\"#0d0887\"],[0.1111111111111111,\"#46039f\"],[0.2222222222222222,\"#7201a8\"],[0.3333333333333333,\"#9c179e\"],[0.4444444444444444,\"#bd3786\"],[0.5555555555555556,\"#d8576b\"],[0.6666666666666666,\"#ed7953\"],[0.7777777777777778,\"#fb9f3a\"],[0.8888888888888888,\"#fdca26\"],[1.0,\"#f0f921\"]],\"type\":\"contour\"}],\"contourcarpet\":[{\"colorbar\":{\"outlinewidth\":0,\"ticks\":\"\"},\"type\":\"contourcarpet\"}],\"heatmap\":[{\"colorbar\":{\"outlinewidth\":0,\"ticks\":\"\"},\"colorscale\":[[0.0,\"#0d0887\"],[0.1111111111111111,\"#46039f\"],[0.2222222222222222,\"#7201a8\"],[0.3333333333333333,\"#9c179e\"],[0.4444444444444444,\"#bd3786\"],[0.5555555555555556,\"#d8576b\"],[0.6666666666666666,\"#ed7953\"],[0.7777777777777778,\"#fb9f3a\"],[0.8888888888888888,\"#fdca26\"],[1.0,\"#f0f921\"]],\"type\":\"heatmap\"}],\"heatmapgl\":[{\"colorbar\":{\"outlinewidth\":0,\"ticks\":\"\"},\"colorscale\":[[0.0,\"#0d0887\"],[0.1111111111111111,\"#46039f\"],[0.2222222222222222,\"#7201a8\"],[0.3333333333333333,\"#9c179e\"],[0.4444444444444444,\"#bd3786\"],[0.5555555555555556,\"#d8576b\"],[0.6666666666666666,\"#ed7953\"],[0.7777777777777778,\"#fb9f3a\"],[0.8888888888888888,\"#fdca26\"],[1.0,\"#f0f921\"]],\"type\":\"heatmapgl\"}],\"histogram\":[{\"marker\":{\"pattern\":{\"fillmode\":\"overlay\",\"size\":10,\"solidity\":0.2}},\"type\":\"histogram\"}],\"histogram2d\":[{\"colorbar\":{\"outlinewidth\":0,\"ticks\":\"\"},\"colorscale\":[[0.0,\"#0d0887\"],[0.1111111111111111,\"#46039f\"],[0.2222222222222222,\"#7201a8\"],[0.3333333333333333,\"#9c179e\"],[0.4444444444444444,\"#bd3786\"],[0.5555555555555556,\"#d8576b\"],[0.6666666666666666,\"#ed7953\"],[0.7777777777777778,\"#fb9f3a\"],[0.8888888888888888,\"#fdca26\"],[1.0,\"#f0f921\"]],\"type\":\"histogram2d\"}],\"histogram2dcontour\":[{\"colorbar\":{\"outlinewidth\":0,\"ticks\":\"\"},\"colorscale\":[[0.0,\"#0d0887\"],[0.1111111111111111,\"#46039f\"],[0.2222222222222222,\"#7201a8\"],[0.3333333333333333,\"#9c179e\"],[0.4444444444444444,\"#bd3786\"],[0.5555555555555556,\"#d8576b\"],[0.6666666666666666,\"#ed7953\"],[0.7777777777777778,\"#fb9f3a\"],[0.8888888888888888,\"#fdca26\"],[1.0,\"#f0f921\"]],\"type\":\"histogram2dcontour\"}],\"mesh3d\":[{\"colorbar\":{\"outlinewidth\":0,\"ticks\":\"\"},\"type\":\"mesh3d\"}],\"parcoords\":[{\"line\":{\"colorbar\":{\"outlinewidth\":0,\"ticks\":\"\"}},\"type\":\"parcoords\"}],\"pie\":[{\"automargin\":true,\"type\":\"pie\"}],\"scatter\":[{\"marker\":{\"colorbar\":{\"outlinewidth\":0,\"ticks\":\"\"}},\"type\":\"scatter\"}],\"scatter3d\":[{\"line\":{\"colorbar\":{\"outlinewidth\":0,\"ticks\":\"\"}},\"marker\":{\"colorbar\":{\"outlinewidth\":0,\"ticks\":\"\"}},\"type\":\"scatter3d\"}],\"scattercarpet\":[{\"marker\":{\"colorbar\":{\"outlinewidth\":0,\"ticks\":\"\"}},\"type\":\"scattercarpet\"}],\"scattergeo\":[{\"marker\":{\"colorbar\":{\"outlinewidth\":0,\"ticks\":\"\"}},\"type\":\"scattergeo\"}],\"scattergl\":[{\"marker\":{\"colorbar\":{\"outlinewidth\":0,\"ticks\":\"\"}},\"type\":\"scattergl\"}],\"scattermapbox\":[{\"marker\":{\"colorbar\":{\"outlinewidth\":0,\"ticks\":\"\"}},\"type\":\"scattermapbox\"}],\"scatterpolar\":[{\"marker\":{\"colorbar\":{\"outlinewidth\":0,\"ticks\":\"\"}},\"type\":\"scatterpolar\"}],\"scatterpolargl\":[{\"marker\":{\"colorbar\":{\"outlinewidth\":0,\"ticks\":\"\"}},\"type\":\"scatterpolargl\"}],\"scatterternary\":[{\"marker\":{\"colorbar\":{\"outlinewidth\":0,\"ticks\":\"\"}},\"type\":\"scatterternary\"}],\"surface\":[{\"colorbar\":{\"outlinewidth\":0,\"ticks\":\"\"},\"colorscale\":[[0.0,\"#0d0887\"],[0.1111111111111111,\"#46039f\"],[0.2222222222222222,\"#7201a8\"],[0.3333333333333333,\"#9c179e\"],[0.4444444444444444,\"#bd3786\"],[0.5555555555555556,\"#d8576b\"],[0.6666666666666666,\"#ed7953\"],[0.7777777777777778,\"#fb9f3a\"],[0.8888888888888888,\"#fdca26\"],[1.0,\"#f0f921\"]],\"type\":\"surface\"}],\"table\":[{\"cells\":{\"fill\":{\"color\":\"#EBF0F8\"},\"line\":{\"color\":\"white\"}},\"header\":{\"fill\":{\"color\":\"#C8D4E3\"},\"line\":{\"color\":\"white\"}},\"type\":\"table\"}]},\"layout\":{\"annotationdefaults\":{\"arrowcolor\":\"#2a3f5f\",\"arrowhead\":0,\"arrowwidth\":1},\"autotypenumbers\":\"strict\",\"coloraxis\":{\"colorbar\":{\"outlinewidth\":0,\"ticks\":\"\"}},\"colorscale\":{\"diverging\":[[0,\"#8e0152\"],[0.1,\"#c51b7d\"],[0.2,\"#de77ae\"],[0.3,\"#f1b6da\"],[0.4,\"#fde0ef\"],[0.5,\"#f7f7f7\"],[0.6,\"#e6f5d0\"],[0.7,\"#b8e186\"],[0.8,\"#7fbc41\"],[0.9,\"#4d9221\"],[1,\"#276419\"]],\"sequential\":[[0.0,\"#0d0887\"],[0.1111111111111111,\"#46039f\"],[0.2222222222222222,\"#7201a8\"],[0.3333333333333333,\"#9c179e\"],[0.4444444444444444,\"#bd3786\"],[0.5555555555555556,\"#d8576b\"],[0.6666666666666666,\"#ed7953\"],[0.7777777777777778,\"#fb9f3a\"],[0.8888888888888888,\"#fdca26\"],[1.0,\"#f0f921\"]],\"sequentialminus\":[[0.0,\"#0d0887\"],[0.1111111111111111,\"#46039f\"],[0.2222222222222222,\"#7201a8\"],[0.3333333333333333,\"#9c179e\"],[0.4444444444444444,\"#bd3786\"],[0.5555555555555556,\"#d8576b\"],[0.6666666666666666,\"#ed7953\"],[0.7777777777777778,\"#fb9f3a\"],[0.8888888888888888,\"#fdca26\"],[1.0,\"#f0f921\"]]},\"colorway\":[\"#636efa\",\"#EF553B\",\"#00cc96\",\"#ab63fa\",\"#FFA15A\",\"#19d3f3\",\"#FF6692\",\"#B6E880\",\"#FF97FF\",\"#FECB52\"],\"font\":{\"color\":\"#2a3f5f\"},\"geo\":{\"bgcolor\":\"white\",\"lakecolor\":\"white\",\"landcolor\":\"#E5ECF6\",\"showlakes\":true,\"showland\":true,\"subunitcolor\":\"white\"},\"hoverlabel\":{\"align\":\"left\"},\"hovermode\":\"closest\",\"mapbox\":{\"style\":\"light\"},\"paper_bgcolor\":\"white\",\"plot_bgcolor\":\"#E5ECF6\",\"polar\":{\"angularaxis\":{\"gridcolor\":\"white\",\"linecolor\":\"white\",\"ticks\":\"\"},\"bgcolor\":\"#E5ECF6\",\"radialaxis\":{\"gridcolor\":\"white\",\"linecolor\":\"white\",\"ticks\":\"\"}},\"scene\":{\"xaxis\":{\"backgroundcolor\":\"#E5ECF6\",\"gridcolor\":\"white\",\"gridwidth\":2,\"linecolor\":\"white\",\"showbackground\":true,\"ticks\":\"\",\"zerolinecolor\":\"white\"},\"yaxis\":{\"backgroundcolor\":\"#E5ECF6\",\"gridcolor\":\"white\",\"gridwidth\":2,\"linecolor\":\"white\",\"showbackground\":true,\"ticks\":\"\",\"zerolinecolor\":\"white\"},\"zaxis\":{\"backgroundcolor\":\"#E5ECF6\",\"gridcolor\":\"white\",\"gridwidth\":2,\"linecolor\":\"white\",\"showbackground\":true,\"ticks\":\"\",\"zerolinecolor\":\"white\"}},\"shapedefaults\":{\"line\":{\"color\":\"#2a3f5f\"}},\"ternary\":{\"aaxis\":{\"gridcolor\":\"white\",\"linecolor\":\"white\",\"ticks\":\"\"},\"baxis\":{\"gridcolor\":\"white\",\"linecolor\":\"white\",\"ticks\":\"\"},\"bgcolor\":\"#E5ECF6\",\"caxis\":{\"gridcolor\":\"white\",\"linecolor\":\"white\",\"ticks\":\"\"}},\"title\":{\"x\":0.05},\"xaxis\":{\"automargin\":true,\"gridcolor\":\"white\",\"linecolor\":\"white\",\"ticks\":\"\",\"title\":{\"standoff\":15},\"zerolinecolor\":\"white\",\"zerolinewidth\":2},\"yaxis\":{\"automargin\":true,\"gridcolor\":\"white\",\"linecolor\":\"white\",\"ticks\":\"\",\"title\":{\"standoff\":15},\"zerolinecolor\":\"white\",\"zerolinewidth\":2}}},\"title\":{\"text\":\"$\\\\log_{10}(Fem) \\\\,\\\\, vs \\\\,\\\\, \\\\log_{10}(Temperatura) \\\\,\\\\, - \\\\,\\\\, Conjunto \\\\, de \\\\, entrenamiento$\"},\"width\":1150,\"xaxis\":{\"title\":{\"text\":\"$\\\\log_{10}(Temperatura)$\"}},\"yaxis\":{\"title\":{\"text\":\"$\\\\log_{10}(Fem)$\"}}},                        {\"responsive\": true}                    ).then(function(){\n",
       "                            \n",
       "var gd = document.getElementById('958c97d4-ce5d-4c3b-8d30-69f9f50a2bbe');\n",
       "var x = new MutationObserver(function (mutations, observer) {{\n",
       "        var display = window.getComputedStyle(gd).display;\n",
       "        if (!display || display === 'none') {{\n",
       "            console.log([gd, 'removed!']);\n",
       "            Plotly.purge(gd);\n",
       "            observer.disconnect();\n",
       "        }}\n",
       "}});\n",
       "\n",
       "// Listen for the removal of the full notebook cells\n",
       "var notebookContainer = gd.closest('#notebook-container');\n",
       "if (notebookContainer) {{\n",
       "    x.observe(notebookContainer, {childList: true});\n",
       "}}\n",
       "\n",
       "// Listen for the clearing of the current output cell\n",
       "var outputEl = gd.closest('.output');\n",
       "if (outputEl) {{\n",
       "    x.observe(outputEl, {childList: true});\n",
       "}}\n",
       "\n",
       "                        })                };                });            </script>        </div>"
      ]
     },
     "metadata": {},
     "output_type": "display_data"
    }
   ],
   "source": [
    "fig = go.Figure(\n",
    "data = go.Scatter(\n",
    "    x = X_train.flatten(),\n",
    "    y = y_train.flatten(),\n",
    "    mode = 'markers',\n",
    "    marker = dict(\n",
    "    size = 10,\n",
    "    color = X_train.flatten(),\n",
    "    showscale = True,\n",
    "    ),\n",
    "    text = X_train\n",
    ")\n",
    ")\n",
    "\n",
    "fig.add_trace(go.Scatter(x=X_train.flatten(), y=regression.predict(X_train).flatten(),\n",
    "                    mode='lines',\n",
    "                    #line=go.scatter.Line(color=\"Black\"),\n",
    "                    line=dict(color=\"black\",\n",
    "                              width=4),\n",
    "                    showlegend=False))\n",
    "\n",
    "fig.update_layout(title = r'$\\log_{10}(Fem) \\,\\, vs \\,\\, \\log_{10}(Temperatura) \\,\\, - \\,\\, Conjunto \\, de \\, entrenamiento$'\n",
    "                 , xaxis_title = r'$\\log_{10}(Temperatura)$'\n",
    "                 , yaxis_title = r'$\\log_{10}(Fem)$'\n",
    "                 , autosize=False\n",
    "                 , width=1150\n",
    "                 , height=800)\n",
    "fig.show()"
   ]
  },
  {
   "cell_type": "code",
   "execution_count": 52,
   "metadata": {
    "jupyter": {
     "source_hidden": true
    },
    "tags": []
   },
   "outputs": [
    {
     "data": {
      "image/png": "[encoded data removed]",
      "text/plain": [
       "<Figure size 432x288 with 1 Axes>"
      ]
     },
     "metadata": {
      "needs_background": "light"
     },
     "output_type": "display_data"
    }
   ],
   "source": [
    "plt.scatter(X_test, y_test, color = \"red\")\n",
    "plt.plot(X_train, regression.predict(X_train), color = \"blue\")\n",
    "plt.title(\"ln(Fem) vs ln(Temperatura_K) (Conjunto de Testing)\")\n",
    "plt.xlabel(\"ln(Temperatura_K)\")\n",
    "plt.ylabel(\"ln(Fem)\")\n",
    "plt.show()"
   ]
  },
  {
   "cell_type": "code",
   "execution_count": 53,
   "metadata": {},
   "outputs": [
    {
     "data": {
      "application/vnd.plotly.v1+json": {
       "config": {
        "plotlyServerURL": "https://plot.ly"
       },
       "data": [
        {
         "marker": {
          "color": [
           2.6570558528571038,
           2.720159303405957,
           2.678518379040114,
           2.6503075231319366,
           2.808885867359812,
           2.722633922533812,
           2.751279103983342,
           2.756636108245848,
           2.72916478969277,
           2.781755374652469,
           2.690196080028514,
           2.784617292632875,
           2.6963563887333324,
           2.8109042806687006,
           2.734799829588847,
           2.7259116322950483,
           2.8228216453031045,
           2.6830470382388496,
           2.708420900134713,
           2.663700925389648,
           2.7958800173440754,
           2.6599162000698504,
           2.6522463410033232,
           2.6989700043360187,
           2.7307822756663893,
           2.7664128471123997,
           2.7589118923979736,
           2.75815462196739,
           2.7867514221455614,
           2.8068580295188172,
           2.716003343634799,
           2.7781512503836434,
           2.7693773260761385,
           2.7126497016272113,
           2.808210972924222,
           2.7745169657285498,
           2.8000293592441343,
           2.7528164311882715,
           2.660865478003869,
           2.7671558660821804,
           2.8115750058705933,
           2.667452952889954
          ],
          "showscale": true,
          "size": 10
         },
         "mode": "markers",
         "text": [
          [
           2.6570558528571038
          ],
          [
           2.720159303405957
          ],
          [
           2.678518379040114
          ],
          [
           2.6503075231319366
          ],
          [
           2.808885867359812
          ],
          [
           2.722633922533812
          ],
          [
           2.751279103983342
          ],
          [
           2.756636108245848
          ],
          [
           2.72916478969277
          ],
          [
           2.781755374652469
          ],
          [
           2.690196080028514
          ],
          [
           2.784617292632875
          ],
          [
           2.6963563887333324
          ],
          [
           2.8109042806687006
          ],
          [
           2.734799829588847
          ],
          [
           2.7259116322950483
          ],
          [
           2.8228216453031045
          ],
          [
           2.6830470382388496
          ],
          [
           2.708420900134713
          ],
          [
           2.663700925389648
          ],
          [
           2.7958800173440754
          ],
          [
           2.6599162000698504
          ],
          [
           2.6522463410033232
          ],
          [
           2.6989700043360187
          ],
          [
           2.7307822756663893
          ],
          [
           2.7664128471123997
          ],
          [
           2.7589118923979736
          ],
          [
           2.75815462196739
          ],
          [
           2.7867514221455614
          ],
          [
           2.8068580295188172
          ],
          [
           2.716003343634799
          ],
          [
           2.7781512503836434
          ],
          [
           2.7693773260761385
          ],
          [
           2.7126497016272113
          ],
          [
           2.808210972924222
          ],
          [
           2.7745169657285498
          ],
          [
           2.8000293592441343
          ],
          [
           2.7528164311882715
          ],
          [
           2.660865478003869
          ],
          [
           2.7671558660821804
          ],
          [
           2.8115750058705933
          ],
          [
           2.667452952889954
          ]
         ],
         "type": "scatter",
         "x": [
          2.6570558528571038,
          2.720159303405957,
          2.678518379040114,
          2.6503075231319366,
          2.808885867359812,
          2.722633922533812,
          2.751279103983342,
          2.756636108245848,
          2.72916478969277,
          2.781755374652469,
          2.690196080028514,
          2.784617292632875,
          2.6963563887333324,
          2.8109042806687006,
          2.734799829588847,
          2.7259116322950483,
          2.8228216453031045,
          2.6830470382388496,
          2.708420900134713,
          2.663700925389648,
          2.7958800173440754,
          2.6599162000698504,
          2.6522463410033232,
          2.6989700043360187,
          2.7307822756663893,
          2.7664128471123997,
          2.7589118923979736,
          2.75815462196739,
          2.7867514221455614,
          2.8068580295188172,
          2.716003343634799,
          2.7781512503836434,
          2.7693773260761385,
          2.7126497016272113,
          2.808210972924222,
          2.7745169657285498,
          2.8000293592441343,
          2.7528164311882715,
          2.660865478003869,
          2.7671558660821804,
          2.8115750058705933,
          2.667452952889954
         ],
         "y": [
          0.38578495884333575,
          0.6581068355063929,
          0.4844422076424071,
          0.35410843914740087,
          0.9988693638823443,
          0.6718205601832489,
          0.7822575736633017,
          0.8030472104911286,
          0.6959192528314,
          0.9035782936630544,
          0.5346605758284444,
          0.9095025414054154,
          0.5608626947274648,
          1.0062092405376575,
          0.7175872968554604,
          0.6820547770738072,
          1.0494506181315495,
          0.5041989185394449,
          0.6105537053170945,
          0.41547416810923576,
          0.9506082247842308,
          0.3981136917305025,
          0.36342393291717634,
          0.5718252490408291,
          0.7040646794085674,
          0.840043330603494,
          0.8119099804200989,
          0.8088858673598122,
          0.9170326221623933,
          0.9909600996821993,
          0.6415732531781754,
          0.8849651982007327,
          0.8515029527705447,
          0.6283889300503115,
          0.9960298284110767,
          0.8709303583486958,
          0.9656719712201067,
          0.7882390973821681,
          0.4024333462193119,
          0.8428587624452937,
          1.0083446292526892,
          0.4315245841874509
         ]
        },
        {
         "line": {
          "color": "black",
          "width": 4
         },
         "mode": "lines",
         "showlegend": false,
         "type": "scatter",
         "x": [
          2.6570558528571038,
          2.720159303405957,
          2.678518379040114,
          2.6503075231319366,
          2.808885867359812,
          2.722633922533812,
          2.751279103983342,
          2.756636108245848,
          2.72916478969277,
          2.781755374652469,
          2.690196080028514,
          2.784617292632875,
          2.6963563887333324,
          2.8109042806687006,
          2.734799829588847,
          2.7259116322950483,
          2.8228216453031045,
          2.6830470382388496,
          2.708420900134713,
          2.663700925389648,
          2.7958800173440754,
          2.6599162000698504,
          2.6522463410033232,
          2.6989700043360187,
          2.7307822756663893,
          2.7664128471123997,
          2.7589118923979736,
          2.75815462196739,
          2.7867514221455614,
          2.8068580295188172,
          2.716003343634799,
          2.7781512503836434,
          2.7693773260761385,
          2.7126497016272113,
          2.808210972924222,
          2.7745169657285498,
          2.8000293592441343,
          2.7528164311882715,
          2.660865478003869,
          2.7671558660821804,
          2.8115750058705933,
          2.667452952889954
         ],
         "y": [
          0.39793588925139467,
          0.6505050568900099,
          0.48383883633775504,
          0.3709259554551938,
          1.0056297641817373,
          0.6604096260999146,
          0.7750608784900503,
          0.7965020848876332,
          0.6865491742220797,
          0.897040996038001,
          0.5305783916698257,
          0.9084957142170271,
          0.5552347936326374,
          1.0137083869027261,
          0.7091032076985968,
          0.6735285351129097,
          1.0614071868887436,
          0.501964623032384,
          0.6035225429729731,
          0.42453254005012653,
          0.9535743427374825,
          0.4093843204924337,
          0.3786860004562165,
          0.5656956909616486,
          0.6930231004887251,
          0.8356331114205382,
          0.8056108246479496,
          0.8025798784688352,
          0.9170374866552056,
          0.9975134201284188,
          0.6338709855197244,
          0.8826156253375732,
          0.847498326045752,
          0.6204481605704206,
          1.002928524798497,
          0.8680695388349307,
          0.9701819263296763,
          0.7812139723250144,
          0.413183769422206,
          0.83860701666827,
          1.0163929390862094,
          0.4395498878253612
         ]
        }
       ],
       "layout": {
        "autosize": false,
        "height": 800,
        "template": {
         "data": {
          "bar": [
           {
            "error_x": {
             "color": "#2a3f5f"
            },
            "error_y": {
             "color": "#2a3f5f"
            },
            "marker": {
             "line": {
              "color": "#E5ECF6",
              "width": 0.5
             },
             "pattern": {
              "fillmode": "overlay",
              "size": 10,
              "solidity": 0.2
             }
            },
            "type": "bar"
           }
          ],
          "barpolar": [
           {
            "marker": {
             "line": {
              "color": "#E5ECF6",
              "width": 0.5
             },
             "pattern": {
              "fillmode": "overlay",
              "size": 10,
              "solidity": 0.2
             }
            },
            "type": "barpolar"
           }
          ],
          "carpet": [
           {
            "aaxis": {
             "endlinecolor": "#2a3f5f",
             "gridcolor": "white",
             "linecolor": "white",
             "minorgridcolor": "white",
             "startlinecolor": "#2a3f5f"
            },
            "baxis": {
             "endlinecolor": "#2a3f5f",
             "gridcolor": "white",
             "linecolor": "white",
             "minorgridcolor": "white",
             "startlinecolor": "#2a3f5f"
            },
            "type": "carpet"
           }
          ],
          "choropleth": [
           {
            "colorbar": {
             "outlinewidth": 0,
             "ticks": ""
            },
            "type": "choropleth"
           }
          ],
          "contour": [
           {
            "colorbar": {
             "outlinewidth": 0,
             "ticks": ""
            },
            "colorscale": [
             [
              0,
              "#0d0887"
             ],
             [
              0.1111111111111111,
              "#46039f"
             ],
             [
              0.2222222222222222,
              "#7201a8"
             ],
             [
              0.3333333333333333,
              "#9c179e"
             ],
             [
              0.4444444444444444,
              "#bd3786"
             ],
             [
              0.5555555555555556,
              "#d8576b"
             ],
             [
              0.6666666666666666,
              "#ed7953"
             ],
             [
              0.7777777777777778,
              "#fb9f3a"
             ],
             [
              0.8888888888888888,
              "#fdca26"
             ],
             [
              1,
              "#f0f921"
             ]
            ],
            "type": "contour"
           }
          ],
          "contourcarpet": [
           {
            "colorbar": {
             "outlinewidth": 0,
             "ticks": ""
            },
            "type": "contourcarpet"
           }
          ],
          "heatmap": [
           {
            "colorbar": {
             "outlinewidth": 0,
             "ticks": ""
            },
            "colorscale": [
             [
              0,
              "#0d0887"
             ],
             [
              0.1111111111111111,
              "#46039f"
             ],
             [
              0.2222222222222222,
              "#7201a8"
             ],
             [
              0.3333333333333333,
              "#9c179e"
             ],
             [
              0.4444444444444444,
              "#bd3786"
             ],
             [
              0.5555555555555556,
              "#d8576b"
             ],
             [
              0.6666666666666666,
              "#ed7953"
             ],
             [
              0.7777777777777778,
              "#fb9f3a"
             ],
             [
              0.8888888888888888,
              "#fdca26"
             ],
             [
              1,
              "#f0f921"
             ]
            ],
            "type": "heatmap"
           }
          ],
          "heatmapgl": [
           {
            "colorbar": {
             "outlinewidth": 0,
             "ticks": ""
            },
            "colorscale": [
             [
              0,
              "#0d0887"
             ],
             [
              0.1111111111111111,
              "#46039f"
             ],
             [
              0.2222222222222222,
              "#7201a8"
             ],
             [
              0.3333333333333333,
              "#9c179e"
             ],
             [
              0.4444444444444444,
              "#bd3786"
             ],
             [
              0.5555555555555556,
              "#d8576b"
             ],
             [
              0.6666666666666666,
              "#ed7953"
             ],
             [
              0.7777777777777778,
              "#fb9f3a"
             ],
             [
              0.8888888888888888,
              "#fdca26"
             ],
             [
              1,
              "#f0f921"
             ]
            ],
            "type": "heatmapgl"
           }
          ],
          "histogram": [
           {
            "marker": {
             "pattern": {
              "fillmode": "overlay",
              "size": 10,
              "solidity": 0.2
             }
            },
            "type": "histogram"
           }
          ],
          "histogram2d": [
           {
            "colorbar": {
             "outlinewidth": 0,
             "ticks": ""
            },
            "colorscale": [
             [
              0,
              "#0d0887"
             ],
             [
              0.1111111111111111,
              "#46039f"
             ],
             [
              0.2222222222222222,
              "#7201a8"
             ],
             [
              0.3333333333333333,
              "#9c179e"
             ],
             [
              0.4444444444444444,
              "#bd3786"
             ],
             [
              0.5555555555555556,
              "#d8576b"
             ],
             [
              0.6666666666666666,
              "#ed7953"
             ],
             [
              0.7777777777777778,
              "#fb9f3a"
             ],
             [
              0.8888888888888888,
              "#fdca26"
             ],
             [
              1,
              "#f0f921"
             ]
            ],
            "type": "histogram2d"
           }
          ],
          "histogram2dcontour": [
           {
            "colorbar": {
             "outlinewidth": 0,
             "ticks": ""
            },
            "colorscale": [
             [
              0,
              "#0d0887"
             ],
             [
              0.1111111111111111,
              "#46039f"
             ],
             [
              0.2222222222222222,
              "#7201a8"
             ],
             [
              0.3333333333333333,
              "#9c179e"
             ],
             [
              0.4444444444444444,
              "#bd3786"
             ],
             [
              0.5555555555555556,
              "#d8576b"
             ],
             [
              0.6666666666666666,
              "#ed7953"
             ],
             [
              0.7777777777777778,
              "#fb9f3a"
             ],
             [
              0.8888888888888888,
              "#fdca26"
             ],
             [
              1,
              "#f0f921"
             ]
            ],
            "type": "histogram2dcontour"
           }
          ],
          "mesh3d": [
           {
            "colorbar": {
             "outlinewidth": 0,
             "ticks": ""
            },
            "type": "mesh3d"
           }
          ],
          "parcoords": [
           {
            "line": {
             "colorbar": {
              "outlinewidth": 0,
              "ticks": ""
             }
            },
            "type": "parcoords"
           }
          ],
          "pie": [
           {
            "automargin": true,
            "type": "pie"
           }
          ],
          "scatter": [
           {
            "marker": {
             "colorbar": {
              "outlinewidth": 0,
              "ticks": ""
             }
            },
            "type": "scatter"
           }
          ],
          "scatter3d": [
           {
            "line": {
             "colorbar": {
              "outlinewidth": 0,
              "ticks": ""
             }
            },
            "marker": {
             "colorbar": {
              "outlinewidth": 0,
              "ticks": ""
             }
            },
            "type": "scatter3d"
           }
          ],
          "scattercarpet": [
           {
            "marker": {
             "colorbar": {
              "outlinewidth": 0,
              "ticks": ""
             }
            },
            "type": "scattercarpet"
           }
          ],
          "scattergeo": [
           {
            "marker": {
             "colorbar": {
              "outlinewidth": 0,
              "ticks": ""
             }
            },
            "type": "scattergeo"
           }
          ],
          "scattergl": [
           {
            "marker": {
             "colorbar": {
              "outlinewidth": 0,
              "ticks": ""
             }
            },
            "type": "scattergl"
           }
          ],
          "scattermapbox": [
           {
            "marker": {
             "colorbar": {
              "outlinewidth": 0,
              "ticks": ""
             }
            },
            "type": "scattermapbox"
           }
          ],
          "scatterpolar": [
           {
            "marker": {
             "colorbar": {
              "outlinewidth": 0,
              "ticks": ""
             }
            },
            "type": "scatterpolar"
           }
          ],
          "scatterpolargl": [
           {
            "marker": {
             "colorbar": {
              "outlinewidth": 0,
              "ticks": ""
             }
            },
            "type": "scatterpolargl"
           }
          ],
          "scatterternary": [
           {
            "marker": {
             "colorbar": {
              "outlinewidth": 0,
              "ticks": ""
             }
            },
            "type": "scatterternary"
           }
          ],
          "surface": [
           {
            "colorbar": {
             "outlinewidth": 0,
             "ticks": ""
            },
            "colorscale": [
             [
              0,
              "#0d0887"
             ],
             [
              0.1111111111111111,
              "#46039f"
             ],
             [
              0.2222222222222222,
              "#7201a8"
             ],
             [
              0.3333333333333333,
              "#9c179e"
             ],
             [
              0.4444444444444444,
              "#bd3786"
             ],
             [
              0.5555555555555556,
              "#d8576b"
             ],
             [
              0.6666666666666666,
              "#ed7953"
             ],
             [
              0.7777777777777778,
              "#fb9f3a"
             ],
             [
              0.8888888888888888,
              "#fdca26"
             ],
             [
              1,
              "#f0f921"
             ]
            ],
            "type": "surface"
           }
          ],
          "table": [
           {
            "cells": {
             "fill": {
              "color": "#EBF0F8"
             },
             "line": {
              "color": "white"
             }
            },
            "header": {
             "fill": {
              "color": "#C8D4E3"
             },
             "line": {
              "color": "white"
             }
            },
            "type": "table"
           }
          ]
         },
         "layout": {
          "annotationdefaults": {
           "arrowcolor": "#2a3f5f",
           "arrowhead": 0,
           "arrowwidth": 1
          },
          "autotypenumbers": "strict",
          "coloraxis": {
           "colorbar": {
            "outlinewidth": 0,
            "ticks": ""
           }
          },
          "colorscale": {
           "diverging": [
            [
             0,
             "#8e0152"
            ],
            [
             0.1,
             "#c51b7d"
            ],
            [
             0.2,
             "#de77ae"
            ],
            [
             0.3,
             "#f1b6da"
            ],
            [
             0.4,
             "#fde0ef"
            ],
            [
             0.5,
             "#f7f7f7"
            ],
            [
             0.6,
             "#e6f5d0"
            ],
            [
             0.7,
             "#b8e186"
            ],
            [
             0.8,
             "#7fbc41"
            ],
            [
             0.9,
             "#4d9221"
            ],
            [
             1,
             "#276419"
            ]
           ],
           "sequential": [
            [
             0,
             "#0d0887"
            ],
            [
             0.1111111111111111,
             "#46039f"
            ],
            [
             0.2222222222222222,
             "#7201a8"
            ],
            [
             0.3333333333333333,
             "#9c179e"
            ],
            [
             0.4444444444444444,
             "#bd3786"
            ],
            [
             0.5555555555555556,
             "#d8576b"
            ],
            [
             0.6666666666666666,
             "#ed7953"
            ],
            [
             0.7777777777777778,
             "#fb9f3a"
            ],
            [
             0.8888888888888888,
             "#fdca26"
            ],
            [
             1,
             "#f0f921"
            ]
           ],
           "sequentialminus": [
            [
             0,
             "#0d0887"
            ],
            [
             0.1111111111111111,
             "#46039f"
            ],
            [
             0.2222222222222222,
             "#7201a8"
            ],
            [
             0.3333333333333333,
             "#9c179e"
            ],
            [
             0.4444444444444444,
             "#bd3786"
            ],
            [
             0.5555555555555556,
             "#d8576b"
            ],
            [
             0.6666666666666666,
             "#ed7953"
            ],
            [
             0.7777777777777778,
             "#fb9f3a"
            ],
            [
             0.8888888888888888,
             "#fdca26"
            ],
            [
             1,
             "#f0f921"
            ]
           ]
          },
          "colorway": [
           "#636efa",
           "#EF553B",
           "#00cc96",
           "#ab63fa",
           "#FFA15A",
           "#19d3f3",
           "#FF6692",
           "#B6E880",
           "#FF97FF",
           "#FECB52"
          ],
          "font": {
           "color": "#2a3f5f"
          },
          "geo": {
           "bgcolor": "white",
           "lakecolor": "white",
           "landcolor": "#E5ECF6",
           "showlakes": true,
           "showland": true,
           "subunitcolor": "white"
          },
          "hoverlabel": {
           "align": "left"
          },
          "hovermode": "closest",
          "mapbox": {
           "style": "light"
          },
          "paper_bgcolor": "white",
          "plot_bgcolor": "#E5ECF6",
          "polar": {
           "angularaxis": {
            "gridcolor": "white",
            "linecolor": "white",
            "ticks": ""
           },
           "bgcolor": "#E5ECF6",
           "radialaxis": {
            "gridcolor": "white",
            "linecolor": "white",
            "ticks": ""
           }
          },
          "scene": {
           "xaxis": {
            "backgroundcolor": "#E5ECF6",
            "gridcolor": "white",
            "gridwidth": 2,
            "linecolor": "white",
            "showbackground": true,
            "ticks": "",
            "zerolinecolor": "white"
           },
           "yaxis": {
            "backgroundcolor": "#E5ECF6",
            "gridcolor": "white",
            "gridwidth": 2,
            "linecolor": "white",
            "showbackground": true,
            "ticks": "",
            "zerolinecolor": "white"
           },
           "zaxis": {
            "backgroundcolor": "#E5ECF6",
            "gridcolor": "white",
            "gridwidth": 2,
            "linecolor": "white",
            "showbackground": true,
            "ticks": "",
            "zerolinecolor": "white"
           }
          },
          "shapedefaults": {
           "line": {
            "color": "#2a3f5f"
           }
          },
          "ternary": {
           "aaxis": {
            "gridcolor": "white",
            "linecolor": "white",
            "ticks": ""
           },
           "baxis": {
            "gridcolor": "white",
            "linecolor": "white",
            "ticks": ""
           },
           "bgcolor": "#E5ECF6",
           "caxis": {
            "gridcolor": "white",
            "linecolor": "white",
            "ticks": ""
           }
          },
          "title": {
           "x": 0.05
          },
          "xaxis": {
           "automargin": true,
           "gridcolor": "white",
           "linecolor": "white",
           "ticks": "",
           "title": {
            "standoff": 15
           },
           "zerolinecolor": "white",
           "zerolinewidth": 2
          },
          "yaxis": {
           "automargin": true,
           "gridcolor": "white",
           "linecolor": "white",
           "ticks": "",
           "title": {
            "standoff": 15
           },
           "zerolinecolor": "white",
           "zerolinewidth": 2
          }
         }
        },
        "title": {
         "text": "$\\log_{10}(Fem) \\,\\, vs \\,\\, \\log_{10}(Temperatura) \\,\\, - \\,\\, Conjunto \\, de \\, prueba$"
        },
        "width": 1150,
        "xaxis": {
         "title": {
          "text": "$\\log_{10}(Temperatura)$"
         }
        },
        "yaxis": {
         "title": {
          "text": "$\\log_{10}(Fem)$"
         }
        }
       }
      },
      "text/html": [
       "<div>                            <div id=\"560846c3-bc1a-4c76-bade-d3a552e5c2c6\" class=\"plotly-graph-div\" style=\"height:800px; width:1150px;\"></div>            <script type=\"text/javascript\">                require([\"plotly\"], function(Plotly) {                    window.PLOTLYENV=window.PLOTLYENV || {};                                    if (document.getElementById(\"560846c3-bc1a-4c76-bade-d3a552e5c2c6\")) {                    Plotly.newPlot(                        \"560846c3-bc1a-4c76-bade-d3a552e5c2c6\",                        [{\"marker\":{\"color\":[2.6570558528571038,2.720159303405957,2.678518379040114,2.6503075231319366,2.808885867359812,2.722633922533812,2.751279103983342,2.756636108245848,2.72916478969277,2.781755374652469,2.690196080028514,2.784617292632875,2.6963563887333324,2.8109042806687006,2.734799829588847,2.7259116322950483,2.8228216453031045,2.6830470382388496,2.708420900134713,2.663700925389648,2.7958800173440754,2.6599162000698504,2.6522463410033232,2.6989700043360187,2.7307822756663893,2.7664128471123997,2.7589118923979736,2.75815462196739,2.7867514221455614,2.8068580295188172,2.716003343634799,2.7781512503836434,2.7693773260761385,2.7126497016272113,2.808210972924222,2.7745169657285498,2.8000293592441343,2.7528164311882715,2.660865478003869,2.7671558660821804,2.8115750058705933,2.667452952889954],\"showscale\":true,\"size\":10},\"mode\":\"markers\",\"text\":[[2.6570558528571038],[2.720159303405957],[2.678518379040114],[2.6503075231319366],[2.808885867359812],[2.722633922533812],[2.751279103983342],[2.756636108245848],[2.72916478969277],[2.781755374652469],[2.690196080028514],[2.784617292632875],[2.6963563887333324],[2.8109042806687006],[2.734799829588847],[2.7259116322950483],[2.8228216453031045],[2.6830470382388496],[2.708420900134713],[2.663700925389648],[2.7958800173440754],[2.6599162000698504],[2.6522463410033232],[2.6989700043360187],[2.7307822756663893],[2.7664128471123997],[2.7589118923979736],[2.75815462196739],[2.7867514221455614],[2.8068580295188172],[2.716003343634799],[2.7781512503836434],[2.7693773260761385],[2.7126497016272113],[2.808210972924222],[2.7745169657285498],[2.8000293592441343],[2.7528164311882715],[2.660865478003869],[2.7671558660821804],[2.8115750058705933],[2.667452952889954]],\"type\":\"scatter\",\"x\":[2.6570558528571038,2.720159303405957,2.678518379040114,2.6503075231319366,2.808885867359812,2.722633922533812,2.751279103983342,2.756636108245848,2.72916478969277,2.781755374652469,2.690196080028514,2.784617292632875,2.6963563887333324,2.8109042806687006,2.734799829588847,2.7259116322950483,2.8228216453031045,2.6830470382388496,2.708420900134713,2.663700925389648,2.7958800173440754,2.6599162000698504,2.6522463410033232,2.6989700043360187,2.7307822756663893,2.7664128471123997,2.7589118923979736,2.75815462196739,2.7867514221455614,2.8068580295188172,2.716003343634799,2.7781512503836434,2.7693773260761385,2.7126497016272113,2.808210972924222,2.7745169657285498,2.8000293592441343,2.7528164311882715,2.660865478003869,2.7671558660821804,2.8115750058705933,2.667452952889954],\"y\":[0.38578495884333575,0.6581068355063929,0.4844422076424071,0.35410843914740087,0.9988693638823443,0.6718205601832489,0.7822575736633017,0.8030472104911286,0.6959192528314,0.9035782936630544,0.5346605758284444,0.9095025414054154,0.5608626947274648,1.0062092405376575,0.7175872968554604,0.6820547770738072,1.0494506181315495,0.5041989185394449,0.6105537053170945,0.41547416810923576,0.9506082247842308,0.3981136917305025,0.36342393291717634,0.5718252490408291,0.7040646794085674,0.840043330603494,0.8119099804200989,0.8088858673598122,0.9170326221623933,0.9909600996821993,0.6415732531781754,0.8849651982007327,0.8515029527705447,0.6283889300503115,0.9960298284110767,0.8709303583486958,0.9656719712201067,0.7882390973821681,0.4024333462193119,0.8428587624452937,1.0083446292526892,0.4315245841874509]},{\"line\":{\"color\":\"black\",\"width\":4},\"mode\":\"lines\",\"showlegend\":false,\"type\":\"scatter\",\"x\":[2.6570558528571038,2.720159303405957,2.678518379040114,2.6503075231319366,2.808885867359812,2.722633922533812,2.751279103983342,2.756636108245848,2.72916478969277,2.781755374652469,2.690196080028514,2.784617292632875,2.6963563887333324,2.8109042806687006,2.734799829588847,2.7259116322950483,2.8228216453031045,2.6830470382388496,2.708420900134713,2.663700925389648,2.7958800173440754,2.6599162000698504,2.6522463410033232,2.6989700043360187,2.7307822756663893,2.7664128471123997,2.7589118923979736,2.75815462196739,2.7867514221455614,2.8068580295188172,2.716003343634799,2.7781512503836434,2.7693773260761385,2.7126497016272113,2.808210972924222,2.7745169657285498,2.8000293592441343,2.7528164311882715,2.660865478003869,2.7671558660821804,2.8115750058705933,2.667452952889954],\"y\":[0.39793588925139467,0.6505050568900099,0.48383883633775504,0.3709259554551938,1.0056297641817373,0.6604096260999146,0.7750608784900503,0.7965020848876332,0.6865491742220797,0.897040996038001,0.5305783916698257,0.9084957142170271,0.5552347936326374,1.0137083869027261,0.7091032076985968,0.6735285351129097,1.0614071868887436,0.501964623032384,0.6035225429729731,0.42453254005012653,0.9535743427374825,0.4093843204924337,0.3786860004562165,0.5656956909616486,0.6930231004887251,0.8356331114205382,0.8056108246479496,0.8025798784688352,0.9170374866552056,0.9975134201284188,0.6338709855197244,0.8826156253375732,0.847498326045752,0.6204481605704206,1.002928524798497,0.8680695388349307,0.9701819263296763,0.7812139723250144,0.413183769422206,0.83860701666827,1.0163929390862094,0.4395498878253612]}],                        {\"autosize\":false,\"height\":800,\"template\":{\"data\":{\"bar\":[{\"error_x\":{\"color\":\"#2a3f5f\"},\"error_y\":{\"color\":\"#2a3f5f\"},\"marker\":{\"line\":{\"color\":\"#E5ECF6\",\"width\":0.5},\"pattern\":{\"fillmode\":\"overlay\",\"size\":10,\"solidity\":0.2}},\"type\":\"bar\"}],\"barpolar\":[{\"marker\":{\"line\":{\"color\":\"#E5ECF6\",\"width\":0.5},\"pattern\":{\"fillmode\":\"overlay\",\"size\":10,\"solidity\":0.2}},\"type\":\"barpolar\"}],\"carpet\":[{\"aaxis\":{\"endlinecolor\":\"#2a3f5f\",\"gridcolor\":\"white\",\"linecolor\":\"white\",\"minorgridcolor\":\"white\",\"startlinecolor\":\"#2a3f5f\"},\"baxis\":{\"endlinecolor\":\"#2a3f5f\",\"gridcolor\":\"white\",\"linecolor\":\"white\",\"minorgridcolor\":\"white\",\"startlinecolor\":\"#2a3f5f\"},\"type\":\"carpet\"}],\"choropleth\":[{\"colorbar\":{\"outlinewidth\":0,\"ticks\":\"\"},\"type\":\"choropleth\"}],\"contour\":[{\"colorbar\":{\"outlinewidth\":0,\"ticks\":\"\"},\"colorscale\":[[0.0,\"#0d0887\"],[0.1111111111111111,\"#46039f\"],[0.2222222222222222,\"#7201a8\"],[0.3333333333333333,\"#9c179e\"],[0.4444444444444444,\"#bd3786\"],[0.5555555555555556,\"#d8576b\"],[0.6666666666666666,\"#ed7953\"],[0.7777777777777778,\"#fb9f3a\"],[0.8888888888888888,\"#fdca26\"],[1.0,\"#f0f921\"]],\"type\":\"contour\"}],\"contourcarpet\":[{\"colorbar\":{\"outlinewidth\":0,\"ticks\":\"\"},\"type\":\"contourcarpet\"}],\"heatmap\":[{\"colorbar\":{\"outlinewidth\":0,\"ticks\":\"\"},\"colorscale\":[[0.0,\"#0d0887\"],[0.1111111111111111,\"#46039f\"],[0.2222222222222222,\"#7201a8\"],[0.3333333333333333,\"#9c179e\"],[0.4444444444444444,\"#bd3786\"],[0.5555555555555556,\"#d8576b\"],[0.6666666666666666,\"#ed7953\"],[0.7777777777777778,\"#fb9f3a\"],[0.8888888888888888,\"#fdca26\"],[1.0,\"#f0f921\"]],\"type\":\"heatmap\"}],\"heatmapgl\":[{\"colorbar\":{\"outlinewidth\":0,\"ticks\":\"\"},\"colorscale\":[[0.0,\"#0d0887\"],[0.1111111111111111,\"#46039f\"],[0.2222222222222222,\"#7201a8\"],[0.3333333333333333,\"#9c179e\"],[0.4444444444444444,\"#bd3786\"],[0.5555555555555556,\"#d8576b\"],[0.6666666666666666,\"#ed7953\"],[0.7777777777777778,\"#fb9f3a\"],[0.8888888888888888,\"#fdca26\"],[1.0,\"#f0f921\"]],\"type\":\"heatmapgl\"}],\"histogram\":[{\"marker\":{\"pattern\":{\"fillmode\":\"overlay\",\"size\":10,\"solidity\":0.2}},\"type\":\"histogram\"}],\"histogram2d\":[{\"colorbar\":{\"outlinewidth\":0,\"ticks\":\"\"},\"colorscale\":[[0.0,\"#0d0887\"],[0.1111111111111111,\"#46039f\"],[0.2222222222222222,\"#7201a8\"],[0.3333333333333333,\"#9c179e\"],[0.4444444444444444,\"#bd3786\"],[0.5555555555555556,\"#d8576b\"],[0.6666666666666666,\"#ed7953\"],[0.7777777777777778,\"#fb9f3a\"],[0.8888888888888888,\"#fdca26\"],[1.0,\"#f0f921\"]],\"type\":\"histogram2d\"}],\"histogram2dcontour\":[{\"colorbar\":{\"outlinewidth\":0,\"ticks\":\"\"},\"colorscale\":[[0.0,\"#0d0887\"],[0.1111111111111111,\"#46039f\"],[0.2222222222222222,\"#7201a8\"],[0.3333333333333333,\"#9c179e\"],[0.4444444444444444,\"#bd3786\"],[0.5555555555555556,\"#d8576b\"],[0.6666666666666666,\"#ed7953\"],[0.7777777777777778,\"#fb9f3a\"],[0.8888888888888888,\"#fdca26\"],[1.0,\"#f0f921\"]],\"type\":\"histogram2dcontour\"}],\"mesh3d\":[{\"colorbar\":{\"outlinewidth\":0,\"ticks\":\"\"},\"type\":\"mesh3d\"}],\"parcoords\":[{\"line\":{\"colorbar\":{\"outlinewidth\":0,\"ticks\":\"\"}},\"type\":\"parcoords\"}],\"pie\":[{\"automargin\":true,\"type\":\"pie\"}],\"scatter\":[{\"marker\":{\"colorbar\":{\"outlinewidth\":0,\"ticks\":\"\"}},\"type\":\"scatter\"}],\"scatter3d\":[{\"line\":{\"colorbar\":{\"outlinewidth\":0,\"ticks\":\"\"}},\"marker\":{\"colorbar\":{\"outlinewidth\":0,\"ticks\":\"\"}},\"type\":\"scatter3d\"}],\"scattercarpet\":[{\"marker\":{\"colorbar\":{\"outlinewidth\":0,\"ticks\":\"\"}},\"type\":\"scattercarpet\"}],\"scattergeo\":[{\"marker\":{\"colorbar\":{\"outlinewidth\":0,\"ticks\":\"\"}},\"type\":\"scattergeo\"}],\"scattergl\":[{\"marker\":{\"colorbar\":{\"outlinewidth\":0,\"ticks\":\"\"}},\"type\":\"scattergl\"}],\"scattermapbox\":[{\"marker\":{\"colorbar\":{\"outlinewidth\":0,\"ticks\":\"\"}},\"type\":\"scattermapbox\"}],\"scatterpolar\":[{\"marker\":{\"colorbar\":{\"outlinewidth\":0,\"ticks\":\"\"}},\"type\":\"scatterpolar\"}],\"scatterpolargl\":[{\"marker\":{\"colorbar\":{\"outlinewidth\":0,\"ticks\":\"\"}},\"type\":\"scatterpolargl\"}],\"scatterternary\":[{\"marker\":{\"colorbar\":{\"outlinewidth\":0,\"ticks\":\"\"}},\"type\":\"scatterternary\"}],\"surface\":[{\"colorbar\":{\"outlinewidth\":0,\"ticks\":\"\"},\"colorscale\":[[0.0,\"#0d0887\"],[0.1111111111111111,\"#46039f\"],[0.2222222222222222,\"#7201a8\"],[0.3333333333333333,\"#9c179e\"],[0.4444444444444444,\"#bd3786\"],[0.5555555555555556,\"#d8576b\"],[0.6666666666666666,\"#ed7953\"],[0.7777777777777778,\"#fb9f3a\"],[0.8888888888888888,\"#fdca26\"],[1.0,\"#f0f921\"]],\"type\":\"surface\"}],\"table\":[{\"cells\":{\"fill\":{\"color\":\"#EBF0F8\"},\"line\":{\"color\":\"white\"}},\"header\":{\"fill\":{\"color\":\"#C8D4E3\"},\"line\":{\"color\":\"white\"}},\"type\":\"table\"}]},\"layout\":{\"annotationdefaults\":{\"arrowcolor\":\"#2a3f5f\",\"arrowhead\":0,\"arrowwidth\":1},\"autotypenumbers\":\"strict\",\"coloraxis\":{\"colorbar\":{\"outlinewidth\":0,\"ticks\":\"\"}},\"colorscale\":{\"diverging\":[[0,\"#8e0152\"],[0.1,\"#c51b7d\"],[0.2,\"#de77ae\"],[0.3,\"#f1b6da\"],[0.4,\"#fde0ef\"],[0.5,\"#f7f7f7\"],[0.6,\"#e6f5d0\"],[0.7,\"#b8e186\"],[0.8,\"#7fbc41\"],[0.9,\"#4d9221\"],[1,\"#276419\"]],\"sequential\":[[0.0,\"#0d0887\"],[0.1111111111111111,\"#46039f\"],[0.2222222222222222,\"#7201a8\"],[0.3333333333333333,\"#9c179e\"],[0.4444444444444444,\"#bd3786\"],[0.5555555555555556,\"#d8576b\"],[0.6666666666666666,\"#ed7953\"],[0.7777777777777778,\"#fb9f3a\"],[0.8888888888888888,\"#fdca26\"],[1.0,\"#f0f921\"]],\"sequentialminus\":[[0.0,\"#0d0887\"],[0.1111111111111111,\"#46039f\"],[0.2222222222222222,\"#7201a8\"],[0.3333333333333333,\"#9c179e\"],[0.4444444444444444,\"#bd3786\"],[0.5555555555555556,\"#d8576b\"],[0.6666666666666666,\"#ed7953\"],[0.7777777777777778,\"#fb9f3a\"],[0.8888888888888888,\"#fdca26\"],[1.0,\"#f0f921\"]]},\"colorway\":[\"#636efa\",\"#EF553B\",\"#00cc96\",\"#ab63fa\",\"#FFA15A\",\"#19d3f3\",\"#FF6692\",\"#B6E880\",\"#FF97FF\",\"#FECB52\"],\"font\":{\"color\":\"#2a3f5f\"},\"geo\":{\"bgcolor\":\"white\",\"lakecolor\":\"white\",\"landcolor\":\"#E5ECF6\",\"showlakes\":true,\"showland\":true,\"subunitcolor\":\"white\"},\"hoverlabel\":{\"align\":\"left\"},\"hovermode\":\"closest\",\"mapbox\":{\"style\":\"light\"},\"paper_bgcolor\":\"white\",\"plot_bgcolor\":\"#E5ECF6\",\"polar\":{\"angularaxis\":{\"gridcolor\":\"white\",\"linecolor\":\"white\",\"ticks\":\"\"},\"bgcolor\":\"#E5ECF6\",\"radialaxis\":{\"gridcolor\":\"white\",\"linecolor\":\"white\",\"ticks\":\"\"}},\"scene\":{\"xaxis\":{\"backgroundcolor\":\"#E5ECF6\",\"gridcolor\":\"white\",\"gridwidth\":2,\"linecolor\":\"white\",\"showbackground\":true,\"ticks\":\"\",\"zerolinecolor\":\"white\"},\"yaxis\":{\"backgroundcolor\":\"#E5ECF6\",\"gridcolor\":\"white\",\"gridwidth\":2,\"linecolor\":\"white\",\"showbackground\":true,\"ticks\":\"\",\"zerolinecolor\":\"white\"},\"zaxis\":{\"backgroundcolor\":\"#E5ECF6\",\"gridcolor\":\"white\",\"gridwidth\":2,\"linecolor\":\"white\",\"showbackground\":true,\"ticks\":\"\",\"zerolinecolor\":\"white\"}},\"shapedefaults\":{\"line\":{\"color\":\"#2a3f5f\"}},\"ternary\":{\"aaxis\":{\"gridcolor\":\"white\",\"linecolor\":\"white\",\"ticks\":\"\"},\"baxis\":{\"gridcolor\":\"white\",\"linecolor\":\"white\",\"ticks\":\"\"},\"bgcolor\":\"#E5ECF6\",\"caxis\":{\"gridcolor\":\"white\",\"linecolor\":\"white\",\"ticks\":\"\"}},\"title\":{\"x\":0.05},\"xaxis\":{\"automargin\":true,\"gridcolor\":\"white\",\"linecolor\":\"white\",\"ticks\":\"\",\"title\":{\"standoff\":15},\"zerolinecolor\":\"white\",\"zerolinewidth\":2},\"yaxis\":{\"automargin\":true,\"gridcolor\":\"white\",\"linecolor\":\"white\",\"ticks\":\"\",\"title\":{\"standoff\":15},\"zerolinecolor\":\"white\",\"zerolinewidth\":2}}},\"title\":{\"text\":\"$\\\\log_{10}(Fem) \\\\,\\\\, vs \\\\,\\\\, \\\\log_{10}(Temperatura) \\\\,\\\\, - \\\\,\\\\, Conjunto \\\\, de \\\\, prueba$\"},\"width\":1150,\"xaxis\":{\"title\":{\"text\":\"$\\\\log_{10}(Temperatura)$\"}},\"yaxis\":{\"title\":{\"text\":\"$\\\\log_{10}(Fem)$\"}}},                        {\"responsive\": true}                    ).then(function(){\n",
       "                            \n",
       "var gd = document.getElementById('560846c3-bc1a-4c76-bade-d3a552e5c2c6');\n",
       "var x = new MutationObserver(function (mutations, observer) {{\n",
       "        var display = window.getComputedStyle(gd).display;\n",
       "        if (!display || display === 'none') {{\n",
       "            console.log([gd, 'removed!']);\n",
       "            Plotly.purge(gd);\n",
       "            observer.disconnect();\n",
       "        }}\n",
       "}});\n",
       "\n",
       "// Listen for the removal of the full notebook cells\n",
       "var notebookContainer = gd.closest('#notebook-container');\n",
       "if (notebookContainer) {{\n",
       "    x.observe(notebookContainer, {childList: true});\n",
       "}}\n",
       "\n",
       "// Listen for the clearing of the current output cell\n",
       "var outputEl = gd.closest('.output');\n",
       "if (outputEl) {{\n",
       "    x.observe(outputEl, {childList: true});\n",
       "}}\n",
       "\n",
       "                        })                };                });            </script>        </div>"
      ]
     },
     "metadata": {},
     "output_type": "display_data"
    }
   ],
   "source": [
    "fig = go.Figure(\n",
    "data = go.Scatter(\n",
    "    x = X_test.flatten(),\n",
    "    y = y_test.flatten(),\n",
    "    mode = 'markers',\n",
    "    marker = dict(\n",
    "    size = 10,\n",
    "    color = X_test.flatten(),\n",
    "    showscale = True,\n",
    "    ),\n",
    "    text = X_test\n",
    ")\n",
    ")\n",
    "\n",
    "fig.add_trace(go.Scatter(x=X_test.flatten(), y=regression.predict(X_test).flatten(),\n",
    "                    mode='lines',\n",
    "                    #line=go.scatter.Line(color=\"Black\"),\n",
    "                    line=dict(color=\"black\",\n",
    "                              width=4),\n",
    "                    showlegend=False))\n",
    "\n",
    "fig.update_layout(title = r'$\\log_{10}(Fem) \\,\\, vs \\,\\, \\log_{10}(Temperatura) \\,\\, - \\,\\, Conjunto \\, de \\, prueba$'\n",
    "                 , xaxis_title = r'$\\log_{10}(Temperatura)$'\n",
    "                 , yaxis_title = r'$\\log_{10}(Fem)$'\n",
    "                 , autosize=False\n",
    "                 , width=1150\n",
    "                 , height=800)\n",
    "fig.show()"
   ]
  },
  {
   "cell_type": "code",
   "execution_count": 54,
   "metadata": {},
   "outputs": [
    {
     "name": "stdout",
     "output_type": "stream",
     "text": [
      "[4.00246208]\n",
      "-10.236829393605644\n"
     ]
    }
   ],
   "source": [
    "print(reg.coef_)\n",
    "print(reg.intercept_)"
   ]
  },
  {
   "cell_type": "code",
   "execution_count": 55,
   "metadata": {},
   "outputs": [
    {
     "data": {
      "text/plain": [
       "0.9980572767097294"
      ]
     },
     "execution_count": 55,
     "metadata": {},
     "output_type": "execute_result"
    }
   ],
   "source": [
    "reg.score(X, y)"
   ]
  },
  {
   "cell_type": "markdown",
   "metadata": {},
   "source": [
    "Debido a que existe la posibilidad de que el conjunto de entrenamiento haya tan particual que la regresión es buena, apliquemos validación curzada para reducir dicha posibilidad y mostrar que para distintos conjuntos de entrenamiento se obtendrán resultados similares:"
   ]
  },
  {
   "cell_type": "code",
   "execution_count": 56,
   "metadata": {},
   "outputs": [
    {
     "name": "stdout",
     "output_type": "stream",
     "text": [
      "La media es: 0.997831196799917\n",
      "La desviación estandar es: 0.002071969923855281\n"
     ]
    }
   ],
   "source": [
    "from sklearn.model_selection import cross_val_score\n",
    "accuracies = cross_val_score(estimator = reg, X = X_train, y = y_train, cv = 10)\n",
    "print(\"La media es: \" + str(accuracies.mean()))\n",
    "print(\"La desviación estandar es: \" + str(accuracies.std()))"
   ]
  },
  {
   "cell_type": "markdown",
   "metadata": {},
   "source": [
    "Si deseamos ver el array de los coeficientes de determinación:"
   ]
  },
  {
   "cell_type": "code",
   "execution_count": 57,
   "metadata": {},
   "outputs": [
    {
     "data": {
      "text/plain": [
       "array([0.99808313, 0.9986294 , 0.99883242, 0.99822115, 0.99811459,\n",
       "       0.99851464, 0.99174797, 0.99958194, 0.99817059, 0.99841614])"
      ]
     },
     "execution_count": 57,
     "metadata": {},
     "output_type": "execute_result"
    }
   ],
   "source": [
    "accuracies"
   ]
  },
  {
   "cell_type": "markdown",
   "metadata": {},
   "source": [
    "Vemos que la media de los coeficientes de determinación es muy cercana a uno y la desviación estándar, a cero; por lo que podemos concluir que para cualquier conjunto de entrenamiento se obtendrán resultados similares."
   ]
  },
  {
   "cell_type": "markdown",
   "metadata": {},
   "source": [
    "Recordemos que se aplico un escalamiento logarítmico base 10, por lo que el modelo final es de la forma:\n",
    "$$\n",
    "P(T) = BT^c\n",
    "$$\n",
    "\n",
    "con $\\alpha$ la constante de Boltzmann. Ahora obtengamos las constantes necesarias para definir nuestro modelo:"
   ]
  },
  {
   "cell_type": "code",
   "execution_count": 59,
   "metadata": {},
   "outputs": [
    {
     "name": "stdout",
     "output_type": "stream",
     "text": [
      "5.796563614424081e-11\n",
      "[4.00246208]\n"
     ]
    }
   ],
   "source": [
    "B = 10**reg.intercept_\n",
    "print(B)\n",
    "c = reg.coef_\n",
    "print(c)"
   ]
  },
  {
   "cell_type": "markdown",
   "metadata": {},
   "source": [
    "### Conclusiones"
   ]
  },
  {
   "cell_type": "markdown",
   "metadata": {},
   "source": [
    "Por lo tanto, considerando que las cifras siginificativas dadas por la precisión de los intrumentos de medición es del orden $10^{-3}mV$, entonces  la función analítica es:\n",
    "\n",
    "$$\n",
    "P(T) = 5.796 \\times 10^{-11} T ^{4.002} mW\n",
    "$$\n",
    "\n",
    "Notemos que la cosntante $B$ es del orden de $10^{-11}$ porque la $Fem$ está medida en $[mV]$ y no en $[V]$, como se mencionó anteriormente; también se aprecia que la constante $B$ es mayor que la constante de Boltzmann, $\\sigma$, como se predijo dadas las características del equipo utilizado.\n",
    "\n",
    "Si desamos obtener el producto de las constantes $Ae$, dividamos a $B$ entre el valor teórico de la constante $\\sigma$ en milésimas:"
   ]
  },
  {
   "cell_type": "code",
   "execution_count": 60,
   "metadata": {},
   "outputs": [
    {
     "name": "stdout",
     "output_type": "stream",
     "text": [
      "Ae = 1.0222543762860188\n"
     ]
    }
   ],
   "source": [
    "CB = 5.670373e-11\n",
    "print(\"Ae = \" + str(B/CB))"
   ]
  },
  {
   "cell_type": "code",
   "execution_count": 67,
   "metadata": {},
   "outputs": [
    {
     "data": {
      "text/html": [
       "<div>\n",
       "<style scoped>\n",
       "    .dataframe tbody tr th:only-of-type {\n",
       "        vertical-align: middle;\n",
       "    }\n",
       "\n",
       "    .dataframe tbody tr th {\n",
       "        vertical-align: top;\n",
       "    }\n",
       "\n",
       "    .dataframe thead th {\n",
       "        text-align: right;\n",
       "    }\n",
       "</style>\n",
       "<table border=\"1\" class=\"dataframe\">\n",
       "  <thead>\n",
       "    <tr style=\"text-align: right;\">\n",
       "      <th></th>\n",
       "      <th>log_Temperatura</th>\n",
       "      <th>log_Fem</th>\n",
       "    </tr>\n",
       "  </thead>\n",
       "  <tbody>\n",
       "    <tr>\n",
       "      <th>0</th>\n",
       "      <td>2.741939</td>\n",
       "      <td>0.746089</td>\n",
       "    </tr>\n",
       "    <tr>\n",
       "      <th>1</th>\n",
       "      <td>2.771587</td>\n",
       "      <td>0.860038</td>\n",
       "    </tr>\n",
       "    <tr>\n",
       "      <th>2</th>\n",
       "      <td>2.649335</td>\n",
       "      <td>0.349860</td>\n",
       "    </tr>\n",
       "    <tr>\n",
       "      <th>3</th>\n",
       "      <td>2.715167</td>\n",
       "      <td>0.638589</td>\n",
       "    </tr>\n",
       "    <tr>\n",
       "      <th>4</th>\n",
       "      <td>2.767898</td>\n",
       "      <td>0.845904</td>\n",
       "    </tr>\n",
       "  </tbody>\n",
       "</table>\n",
       "</div>"
      ],
      "text/plain": [
       "   log_Temperatura   log_Fem\n",
       "0         2.741939  0.746089\n",
       "1         2.771587  0.860038\n",
       "2         2.649335  0.349860\n",
       "3         2.715167  0.638589\n",
       "4         2.767898  0.845904"
      ]
     },
     "execution_count": 67,
     "metadata": {},
     "output_type": "execute_result"
    }
   ],
   "source": [
    "train = pd.DataFrame({'log_Temperatura': X_train.flatten(), \n",
    "              'log_Fem': y_train.flatten()})\n",
    "train.head()"
   ]
  },
  {
   "cell_type": "code",
   "execution_count": 68,
   "metadata": {},
   "outputs": [],
   "source": [
    "train.to_csv(\"train.csv\")"
   ]
  },
  {
   "cell_type": "code",
   "execution_count": 69,
   "metadata": {},
   "outputs": [
    {
     "data": {
      "text/html": [
       "<div>\n",
       "<style scoped>\n",
       "    .dataframe tbody tr th:only-of-type {\n",
       "        vertical-align: middle;\n",
       "    }\n",
       "\n",
       "    .dataframe tbody tr th {\n",
       "        vertical-align: top;\n",
       "    }\n",
       "\n",
       "    .dataframe thead th {\n",
       "        text-align: right;\n",
       "    }\n",
       "</style>\n",
       "<table border=\"1\" class=\"dataframe\">\n",
       "  <thead>\n",
       "    <tr style=\"text-align: right;\">\n",
       "      <th></th>\n",
       "      <th>log_Temperatura</th>\n",
       "      <th>log_Fem</th>\n",
       "    </tr>\n",
       "  </thead>\n",
       "  <tbody>\n",
       "    <tr>\n",
       "      <th>0</th>\n",
       "      <td>0.385785</td>\n",
       "      <td>0.385785</td>\n",
       "    </tr>\n",
       "    <tr>\n",
       "      <th>1</th>\n",
       "      <td>0.658107</td>\n",
       "      <td>0.658107</td>\n",
       "    </tr>\n",
       "    <tr>\n",
       "      <th>2</th>\n",
       "      <td>0.484442</td>\n",
       "      <td>0.484442</td>\n",
       "    </tr>\n",
       "    <tr>\n",
       "      <th>3</th>\n",
       "      <td>0.354108</td>\n",
       "      <td>0.354108</td>\n",
       "    </tr>\n",
       "    <tr>\n",
       "      <th>4</th>\n",
       "      <td>0.998869</td>\n",
       "      <td>0.998869</td>\n",
       "    </tr>\n",
       "  </tbody>\n",
       "</table>\n",
       "</div>"
      ],
      "text/plain": [
       "   log_Temperatura   log_Fem\n",
       "0         0.385785  0.385785\n",
       "1         0.658107  0.658107\n",
       "2         0.484442  0.484442\n",
       "3         0.354108  0.354108\n",
       "4         0.998869  0.998869"
      ]
     },
     "execution_count": 69,
     "metadata": {},
     "output_type": "execute_result"
    }
   ],
   "source": [
    "test = pd.DataFrame({'log_Temperatura': y_test.flatten(), \n",
    "              'log_Fem': y_test.flatten()})\n",
    "test.head()"
   ]
  },
  {
   "cell_type": "code",
   "execution_count": 70,
   "metadata": {},
   "outputs": [],
   "source": [
    "test.to_csv(\"test.csv\")"
   ]
  }
 ],
 "metadata": {
  "kernelspec": {
   "display_name": "Python 3",
   "language": "python",
   "name": "python3"
  },
  "language_info": {
   "codemirror_mode": {
    "name": "ipython",
    "version": 3
   },
   "file_extension": ".py",
   "mimetype": "text/x-python",
   "name": "python",
   "nbconvert_exporter": "python",
   "pygments_lexer": "ipython3",
   "version": "3.8.8"
  }
 },
 "nbformat": 4,
 "nbformat_minor": 4
}
